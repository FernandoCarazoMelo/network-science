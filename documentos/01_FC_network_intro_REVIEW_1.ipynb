{
  "cells": [
    {
      "attachments": {},
      "cell_type": "markdown",
      "metadata": {},
      "source": [
        "<h1><center><font size=\"25\">Graph Machine Learning: Grafos</font></center></h1>"
      ]
    },
    {
      "attachments": {},
      "cell_type": "markdown",
      "metadata": {},
      "source": [
        "<center><b>Fernando Carazo</b></center>\n",
        "\n",
        "<center><i>Enero, 2023</i></center>"
      ]
    },
    {
      "attachments": {},
      "cell_type": "markdown",
      "metadata": {},
      "source": [
        "## Introducción"
      ]
    },
    {
      "attachments": {},
      "cell_type": "markdown",
      "metadata": {
        "id": "jBGmnpqwK5Ru"
      },
      "source": [
        "Una de las últimas tendencias en el campo de la inteligencia artificial es *Graph Machine Learning (GML)*. Esta rama del machine learning se centra en aplicar algoritmos de analítica avanzada al estudio de redes o grafos complejos.\n",
        "\n",
        "Un grafo es una estructura de datos formada por nodos y enlaces. Si utilizamos el ejemplo de una red social, los  nodos representarían los usuarios y los enlaces la amistad o seguimiento entre los usuarios de dicha red social.\n",
        "\n",
        "El GML utiliza grafos para entrenar modelos de aprendizaje automático y poder hacer inferencia sobre los nodos o enlaces. Existen tres tipos generales de problemas que se pueden resolver con GML:\n",
        "\n",
        "- Inferencia sobre nodos: utilizando grafos podemos predecir características de los nodos utilizando las características de sus nodos vecinos.\n",
        "- Inferencia sobre enlaces: también podemos realizar predicciones sobre los enlaces y, por ejemplo, inferir qué enlaces tiene alta probabilidad de ocurrir en el futuro. Este es un caso típico de sistemas de recomendación.\n",
        "- Inferencia sobre conjuntos de nodos: por último, podemos realizar análisis sobre conjuntos de nodos para predecir comunidades de nodos que presentan comportamientos similares. Este es un caso típico en segmentación de clientes con características similares.\n",
        "\n",
        "En esta serie de artículos aprenderemos las bases del GML y resolveremos problemas como la detección de comunidades, la predicción de enlaces o el análisis de influencia en redes sociales. Para ello utilizaremos las librerías de grafos más importantes de Python como [NetworkX](https://networkx.org/) [PyTorch Geometric](https://pytorch-geometric.readthedocs.io/en/latest/), [Stellargraph](https://stellargraph.readthedocs.io/en/v0.8.3/quickstart.html) o [Graph Neural Networks](https://en.wikipedia.org/wiki/Graph_neural_network) (GNNs)."
      ]
    },
    {
      "attachments": {},
      "cell_type": "markdown",
      "metadata": {},
      "source": [
        "<p align=\"center\"><img src=\"https://upload.wikimedia.org/wikipedia/commons/d/d2/Internet_map_1024.jpg\" style=\"width: 400px\"></p>\n",
        "\n",
        "<center><font size='2.5'>\n",
        "<i>Figura 1. Mapa parcial de Internet basado en la información obtenida del sitio opte.org el 15 de enero de 2005. Cada linea dibujada entre dos nodos representa el enlace entre dos direcciones IP. La longitud de las líneas es proporcional al tiempo de espera entre los nodos. La imagen representa 30% de las redes accesibles en el año 2005.</i>\n",
        "</font></center>\n"
      ]
    },
    {
      "attachments": {},
      "cell_type": "markdown",
      "metadata": {
        "id": "SVcr85GxK5Rv"
      },
      "source": [
        "## Grafos\n",
        "\n",
        "Los grafos son estructuras de datos compuesta por nodos y enlaces que se utilizan para representar relaciones entre objetos. Existen varios tipos de grafos, cada uno con una finalidad específica:\n",
        "\n",
        "- Grafos no dirigidos: los enlaces no tienen dirección, es decir, si un nodo A está conectado a un nodo B, entonces B también está conectado a A. Un ejemplo de un grafo no dirigido podría ser una red social donde los usuarios están conectados entre sí a través de amistad.\n",
        "\n",
        "- Grafos dirigidos: los enlaces tienen una dirección, es decir, si un nodo A está conectado a un nodo B, no necesariamente B estará conectado a A. Un ejemplo de un grafo dirigido podría ser una red de seguimiento en una red social, donde un usuario sigue a otro pero no necesariamente es seguido de vuelta.\n",
        "\n",
        "- Grafos ponderados: los enlaces tienen un peso asociado, que representa la importancia o la intensidad de la relación entre los nodos. Un ejemplo de un grafo ponderado podría ser una red de transporte donde los enlaces representan las rutas de transporte y el peso representa el tiempo de viaje entre dos nodos.\n",
        "\n",
        "- Grafos bipartitos: los nodos se dividen en dos conjuntos disjuntos, y solo se permiten enlaces entre nodos de diferentes conjuntos. Un ejemplo de grafo bipartito podría ser una red de películas y actores, donde los nodos de un conjunto son las películas y los nodos del otro conjunto son los actores, y solo se permiten enlaces entre películas y actores (ya que un actor solo puede actuar en una película).\n"
      ]
    },
    {
      "cell_type": "markdown",
      "metadata": {},
      "source": [
        "\n",
        "Un grafo está formado por un conjunto de N nodos conectados por L links o aristas. Los nodos representan a las entidades y las aristas a las relaciones entre los nodos. Por ejemplo, en una red social, los nodos serían los usuarios y las aristas las relaciones que existen entre los usuarios (por ejemplo los seguidores).\n",
        "\n",
        "En la vida real nos encontramos con muchas situaciones que pueden modelarse con grafos:\n",
        "\n",
        "- Redes de transporte: en este caso, los nodos representan las estaciones o paradas de transporte, y las aristas representan las rutas entre las paradas. Los grafos se utilizan para calcular la ruta más corta entre dos puntos o para ver las mejores alternativas en caso de accidentes.\n",
        "\n",
        "- Redes eléctricas: otro uso común de los grafos es representar redes eléctricas. En este caso, los nodos representan las centrales eléctricas, las subestaciones, los transformadores, etc. y las aristas representan las líneas de transmisión de energía eléctrica. Los grafos se utilizan para analizar el flujo de energía en la red, la resistencia a la energía, etc.\n",
        "\n",
        "- Redes de comercio electrónico: las relaciones entre los clientes de una tienda en línea también pueden representarse como un grafo, en el que los nodos son los clientes y los productos y las aristas las compras que realiza cada cliente. Los grafos se pueden utilizar para identificar grupos de clientes con características similares y ofrecerles ofertas personalizadas."
      ]
    },
    {
      "attachments": {},
      "cell_type": "markdown",
      "metadata": {},
      "source": [
        "<p align=\"center\"><img src=\"https://github.com/fcarazo/network-science/blob/master/docs/img/04_map_graph.png?raw=true\" style=\"width: 700px\"></p>\n",
        "\n",
        "<center><font size='2.5'>\n",
        "<i>Figura 2. Un mapa de carreteras también puede ser representado como un grafo en el que los nodos son las bifurcaciones y las aristas las carreteras.</i>\n",
        "</font></center>"
      ]
    },
    {
      "cell_type": "markdown",
      "metadata": {},
      "source": [
        "### Creación de gráfos"
      ]
    },
    {
      "attachments": {},
      "cell_type": "markdown",
      "metadata": {
        "id": "J6xm7wXqK5Rw"
      },
      "source": [
        "Una de las librerías de python más utilizadas para la representación y análisis de grafos es [networkx](https://networkx.org/). Esta librería permite crear grafos de dos formas:\n",
        "\n",
        "1. De forma manual, añadiendo los nodos y ejes.\n",
        "2. Desde una archivo o un DataFrame que contenga las conexiones.\n",
        "\n",
        "En la práctica, lo más frecuente es crear los grafos desde archivos, sin embargo, conviene conocer cómo acerlo de forma manueal. A contianuación, se muestran algunos ejemplos."
      ]
    },
    {
      "attachments": {},
      "cell_type": "markdown",
      "metadata": {
        "id": "ETFhxACfK5Rw"
      },
      "source": [
        "#### Creación de un grafo de forma manual"
      ]
    },
    {
      "cell_type": "code",
      "execution_count": 32,
      "metadata": {
        "id": "1UJW3sS5K5Rx",
        "outputId": "07f1c833-65d4-4ce7-cf5d-69b761b60845"
      },
      "outputs": [],
      "source": [
        "# Librerías\n",
        "# ======================================================================================\n",
        "import networkx as nx\n",
        "import pandas as pd\n",
        "import warnings\n",
        "import matplotlib.pyplot as plt\n",
        "warnings.filterwarnings('ignore')"
      ]
    },
    {
      "cell_type": "markdown",
      "metadata": {},
      "source": [
        "En primer lugar se crea un objeto de tipo \"Grafo\"."
      ]
    },
    {
      "cell_type": "code",
      "execution_count": 33,
      "metadata": {},
      "outputs": [
        {
          "name": "stdout",
          "output_type": "stream",
          "text": [
            "Graph with 0 nodes and 0 edges\n"
          ]
        }
      ],
      "source": [
        "# Creación de una instancia tipo \"Grafo\"\n",
        "# ======================================================================================\n",
        "G = nx.Graph()\n",
        "print(G)"
      ]
    },
    {
      "attachments": {},
      "cell_type": "markdown",
      "metadata": {},
      "source": [
        "Una vez que el objeto Grafo ha sido creado, se puede poblar con nodos y conexiones. Para ello se utilizan dos métodos:\n",
        "\n",
        "+ `add_node`: añade un único nodo al grafo.\n",
        "\n",
        "+ `add_nodes_from`: añade multiples nodos al grafo.\n",
        "\n",
        "+ `add_edge`: añade un eje entre los nodos *u* y *v*. Si los nodos no existen, se crean y añaden automáticamente al grafo.\n",
        "\n",
        "+ `add_edges_from`: mismo comportamiento que `add_edge` pero utilizando una colección de ejes. Cada eje se define con una tupla (*u*, *v*).\n",
        "\n",
        "*Nota: El nombre de los nodos puede ser tanto de numérico como caracteres.*"
      ]
    },
    {
      "cell_type": "code",
      "execution_count": 34,
      "metadata": {},
      "outputs": [
        {
          "name": "stdout",
          "output_type": "stream",
          "text": [
            "Graph with 1 nodes and 0 edges\n"
          ]
        },
        {
          "data": {
            "image/png": "[encoded data removed]",
            "text/plain": [
              "<Figure size 432x288 with 1 Axes>"
            ]
          },
          "metadata": {},
          "output_type": "display_data"
        }
      ],
      "source": [
        "# Añadir un único nodo\n",
        "# ======================================================================================\n",
        "G.add_node(\"A\")\n",
        "nx.draw(G, with_labels=True)\n",
        "print(G)"
      ]
    },
    {
      "cell_type": "code",
      "execution_count": 35,
      "metadata": {},
      "outputs": [
        {
          "name": "stdout",
          "output_type": "stream",
          "text": [
            "Graph with 3 nodes and 0 edges\n"
          ]
        },
        {
          "data": {
            "image/png": "[encoded data removed]",
            "text/plain": [
              "<Figure size 432x288 with 1 Axes>"
            ]
          },
          "metadata": {},
          "output_type": "display_data"
        }
      ],
      "source": [
        "# Añadir multiples nodos \n",
        "# ======================================================================================\n",
        "G.add_nodes_from([\"B\", \"C\"])\n",
        "nx.draw(G, with_labels=True)\n",
        "print(G)"
      ]
    },
    {
      "cell_type": "code",
      "execution_count": 36,
      "metadata": {},
      "outputs": [
        {
          "name": "stdout",
          "output_type": "stream",
          "text": [
            "Graph with 3 nodes and 1 edges\n"
          ]
        },
        {
          "data": {
            "image/png": "[encoded data removed]",
            "text/plain": [
              "<Figure size 432x288 with 1 Axes>"
            ]
          },
          "metadata": {},
          "output_type": "display_data"
        }
      ],
      "source": [
        "# Añadir un único eje\n",
        "# ======================================================================================\n",
        "G.add_edge(\"A\", \"B\")\n",
        "nx.draw(G, with_labels=True)\n",
        "print(G)"
      ]
    },
    {
      "cell_type": "code",
      "execution_count": 37,
      "metadata": {},
      "outputs": [
        {
          "name": "stdout",
          "output_type": "stream",
          "text": [
            "Graph with 3 nodes and 3 edges\n"
          ]
        },
        {
          "data": {
            "image/png": "[encoded data removed]",
            "text/plain": [
              "<Figure size 432x288 with 1 Axes>"
            ]
          },
          "metadata": {},
          "output_type": "display_data"
        }
      ],
      "source": [
        "# Añadir múltiples ejes\n",
        "# ======================================================================================\n",
        "G.add_edges_from([(\"A\", \"C\"), (\"B\", \"C\")])\n",
        "nx.draw(G, with_labels=True)\n",
        "print(G)"
      ]
    },
    {
      "cell_type": "markdown",
      "metadata": {},
      "source": [
        "Si se añade una conexión cuyos nodos no existen, se crean automáticamente."
      ]
    },
    {
      "cell_type": "code",
      "execution_count": 38,
      "metadata": {},
      "outputs": [
        {
          "name": "stdout",
          "output_type": "stream",
          "text": [
            "Graph with 6 nodes and 5 edges\n"
          ]
        },
        {
          "data": {
            "image/png": "[encoded data removed]",
            "text/plain": [
              "<Figure size 432x288 with 1 Axes>"
            ]
          },
          "metadata": {},
          "output_type": "display_data"
        }
      ],
      "source": [
        "G.add_edges_from([(\"D\", \"E\"), (\"E\", \"F\")])\n",
        "nx.draw(G, with_labels=True)\n",
        "print(G)"
      ]
    },
    {
      "attachments": {},
      "cell_type": "markdown",
      "metadata": {
        "id": "Ap7V20e5K5Ry"
      },
      "source": [
        "La información de los nodos y ejes del grafo está almacenada en los attributos `nodes` y `edges`.\n"
      ]
    },
    {
      "cell_type": "code",
      "execution_count": 42,
      "metadata": {},
      "outputs": [
        {
          "name": "stdout",
          "output_type": "stream",
          "text": [
            "Nodos del grafo: ['A', 'B', 'C', 'D', 'E', 'F']\n",
            "Ejes del grafo: [('A', 'B'), ('A', 'C'), ('B', 'C'), ('D', 'E'), ('E', 'F')]\n"
          ]
        }
      ],
      "source": [
        "print(f\"Nodos del grafo: {G.nodes}\")\n",
        "print(f\"Ejes del grafo: {G.edges}\")"
      ]
    },
    {
      "attachments": {},
      "cell_type": "markdown",
      "metadata": {
        "id": "us7rV6k7K5Rz"
      },
      "source": [
        "#### Creación desde un DataFrame"
      ]
    },
    {
      "attachments": {},
      "cell_type": "markdown",
      "metadata": {
        "id": "i6ZMsUvxK5Rz"
      },
      "source": [
        "Para crear un grafo a partir de un dataframe de pandas, la información tiene que estar estructurada de tal forma una columna que represente el incio de cada eje y otra el destino. Por ejemplo, para representar que existen dos nodos (\"A\" y \"B\") conectados entre si, se necesita una fila que contenga el valor \"A\" en una columna y \"B\" en otra. Esta información es suficiente para que se creen los dos nodos y la conexión entre ambos."
      ]
    },
    {
      "cell_type": "code",
      "execution_count": 51,
      "metadata": {
        "id": "aUOesR7IK5Rz",
        "outputId": "73e517aa-498d-414c-dd46-bcecabcd54b9"
      },
      "outputs": [
        {
          "data": {
            "text/html": [
              "<div>\n",
              "<style scoped>\n",
              "    .dataframe tbody tr th:only-of-type {\n",
              "        vertical-align: middle;\n",
              "    }\n",
              "\n",
              "    .dataframe tbody tr th {\n",
              "        vertical-align: top;\n",
              "    }\n",
              "\n",
              "    .dataframe thead th {\n",
              "        text-align: right;\n",
              "    }\n",
              "</style>\n",
              "<table border=\"1\" class=\"dataframe\">\n",
              "  <thead>\n",
              "    <tr style=\"text-align: right;\">\n",
              "      <th></th>\n",
              "      <th>inicio</th>\n",
              "      <th>fin</th>\n",
              "    </tr>\n",
              "  </thead>\n",
              "  <tbody>\n",
              "    <tr>\n",
              "      <th>0</th>\n",
              "      <td>A</td>\n",
              "      <td>C</td>\n",
              "    </tr>\n",
              "    <tr>\n",
              "      <th>1</th>\n",
              "      <td>B</td>\n",
              "      <td>C</td>\n",
              "    </tr>\n",
              "    <tr>\n",
              "      <th>2</th>\n",
              "      <td>C</td>\n",
              "      <td>D</td>\n",
              "    </tr>\n",
              "  </tbody>\n",
              "</table>\n",
              "</div>"
            ],
            "text/plain": [
              "  inicio fin\n",
              "0      A   C\n",
              "1      B   C\n",
              "2      C   D"
            ]
          },
          "execution_count": 51,
          "metadata": {},
          "output_type": "execute_result"
        }
      ],
      "source": [
        "# Dataframe con las conexiones del grafo\n",
        "# ======================================================================================\n",
        "conexiones = pd.DataFrame({\n",
        "                \"inicio\": [\"A\", \"B\", \"C\"],\n",
        "                \"fin\": [\"C\", \"C\", \"D\"],\n",
        "            })\n",
        "conexiones"
      ]
    },
    {
      "cell_type": "code",
      "execution_count": 52,
      "metadata": {
        "id": "0jsyqRxTK5R0",
        "outputId": "6028df3b-9523-4492-a78c-e0c28d58d9d8"
      },
      "outputs": [
        {
          "data": {
            "image/png": "[encoded data removed]",
            "text/plain": [
              "<Figure size 432x288 with 1 Axes>"
            ]
          },
          "metadata": {},
          "output_type": "display_data"
        }
      ],
      "source": [
        "# Crear un grafo a partir de un Dataframe\n",
        "# ======================================================================================\n",
        "G = nx.from_pandas_edgelist(\n",
        "        conexiones,\n",
        "        source = \"inicio\",\n",
        "        target = \"fin\"\n",
        "    )\n",
        "nx.draw(G, with_labels=True)"
      ]
    },
    {
      "attachments": {},
      "cell_type": "markdown",
      "metadata": {},
      "source": [
        "En el ejemplo anterior, el grafo no es dirigido, es decir, la conexión (\"A\", \"B\") es equivalente a (\"B\", \"A\"). Tambien es posible crear un grafo dirigido donde la conexión tiene una dirección específica (detalles más adelante). Un ejemplo de este tipo de red podría ser la de envío de mensajes entre personas."
      ]
    },
    {
      "cell_type": "code",
      "execution_count": 55,
      "metadata": {
        "id": "MwV2isIlK5R0",
        "outputId": "b33057ab-56b2-4f6b-9ccc-9f8a80d6305c"
      },
      "outputs": [
        {
          "data": {
            "image/png": "[encoded data removed]",
            "text/plain": [
              "<Figure size 432x288 with 1 Axes>"
            ]
          },
          "metadata": {},
          "output_type": "display_data"
        }
      ],
      "source": [
        "# Crear un grafo dirigido a partir de un Dataframe\n",
        "# ======================================================================================\n",
        "G = nx.from_pandas_edgelist(\n",
        "    conexiones,\n",
        "    source       = \"inicio\",\n",
        "    target       = \"fin\", \n",
        "    create_using = nx.DiGraph\n",
        ")\n",
        "nx.draw(G, with_labels=True)"
      ]
    },
    {
      "attachments": {},
      "cell_type": "markdown",
      "metadata": {
        "id": "Dd4UfNaUK5R0"
      },
      "source": [
        "## Matriz de adjacencia"
      ]
    },
    {
      "attachments": {},
      "cell_type": "markdown",
      "metadata": {
        "id": "Em5-DUyLK5R0"
      },
      "source": [
        "En los apartados anteriores, los grafos se han definido utilizando listas con las conexiones, también llamada lista de adyacencia. Otra forma de representar un grafo es mediante lo que se conoce como matriz de adyacencia, una matriz binaria (veremos que hay exepciones) de dimensión NxN, siendo N el número de nodos y donde aparece un 1 si la conexión existe. Debido a sus propiedades matemáticas, la matriz de adyacencia es probablemente el concepto más importante en la teoría de grafos. \n",
        "\n",
        "Para grafos no dirigidos la matriz de adyacencia es simétrica: si existe conexión entre los nodos 1 y 5, también existe la conexión entre los nodos 5 y 1."
      ]
    },
    {
      "attachments": {},
      "cell_type": "markdown",
      "metadata": {
        "id": "8DfP7fCtK5R0"
      },
      "source": [
        "<p align=\"center\"><img src=\"https://github.com/fcarazo/network-science/blob/master/docs/img/05_adjacency_matrix.jpg?raw=true\" style=\"width: 400px\"></p>\n",
        "\n",
        "<center><font size='2.5'>\n",
        "<i>Figura 3. Ejemplo de un grafo y su matriz de adyacencia. Al ser un grafo no dirigido, la matriz es simétrica.</i>\n",
        "</font></center>"
      ]
    },
    {
      "attachments": {},
      "cell_type": "markdown",
      "metadata": {
        "id": "Q_uOJUKoK5R0"
      },
      "source": [
        "Una descripción completa de una red requiere que hagamos un seguimiento de sus enlaces. La forma más sencilla de lograr esto es proporcionar una lista completa de los enlaces. Para fines matemáticos, a menudo representamos una red a través de su matriz de adyacencia. La matriz de adyacencia de una red dirigida de $\\mathrm{N}$ nodos tiene $\\mathrm{N}$ filas y $\\mathrm{N}$ columnas, siendo sus elementos:\n",
        "\n",
        "- $A_{i j}=1$ si hay un enlace que apunta desde el nodo $j$ al nodo $i$\n",
        "- $A_{i j}=0$ si los nodos $i$ y $j$ no están conectados entre sí\n",
        "\n",
        "La matriz de adyacencia de una red no dirigida tiene dos entradas para cada enlace, p. el enlace $(1,2)$ se representa como $A_{12}$ $=1$ y $A_{21}=1$. Por lo tanto, la matriz de adyacencia de una red no dirigida es simétrica, $A_{i j}=A_{j i}.$\n",
        "\n"
      ]
    },
    {
      "cell_type": "code",
      "execution_count": null,
      "metadata": {
        "id": "T0OHLMo_K5R1",
        "outputId": "65d24cff-6da3-4ff4-8476-cc2a275b75b3"
      },
      "outputs": [
        {
          "data": {
            "image/png": "[encoded data removed]",
            "text/plain": [
              "<Figure size 640x480 with 1 Axes>"
            ]
          },
          "metadata": {},
          "output_type": "display_data"
        }
      ],
      "source": [
        "# Creamos una instancia tipo \"Grafo\".\n",
        "G = nx.Graph()\n",
        "\n",
        "# Añadimos conexiones\n",
        "G.add_edges_from([(1, 2), (2,3), (1, 4), (1, 5), (4,2), (5,4)])\n",
        "\n",
        "# Dibujamos la red. Más adelante daremos más detalles sobre representación de grafos.\n",
        "nx.draw(G, with_labels=True)"
      ]
    },
    {
      "cell_type": "code",
      "execution_count": null,
      "metadata": {
        "id": "NV_xPFVhK5R1",
        "outputId": "3f01e961-5a66-4928-abe7-712560df8df9"
      },
      "outputs": [
        {
          "data": {
            "text/plain": [
              "{1: [2, 4, 5], 2: [1, 3, 4], 3: [2], 4: [1, 2, 5], 5: [1, 4]}"
            ]
          },
          "execution_count": 10,
          "metadata": {},
          "output_type": "execute_result"
        }
      ],
      "source": [
        "# neighbors\n",
        "nx.to_dict_of_lists(G)"
      ]
    },
    {
      "cell_type": "code",
      "execution_count": null,
      "metadata": {
        "id": "H94JoDd-K5R1",
        "outputId": "eb142886-4c5f-4dca-afd8-c8fe7560a990"
      },
      "outputs": [
        {
          "data": {
            "text/plain": [
              "matrix([[0, 1, 0, 1, 1],\n",
              "        [1, 0, 1, 1, 0],\n",
              "        [0, 1, 0, 0, 0],\n",
              "        [1, 1, 0, 0, 1],\n",
              "        [1, 0, 0, 1, 0]])"
            ]
          },
          "execution_count": 11,
          "metadata": {},
          "output_type": "execute_result"
        }
      ],
      "source": [
        "adjM = nx.adjacency_matrix(G)\n",
        "\n",
        "# Pasamos de matriz sparse a dense para poder imprimirla por pantalla\n",
        "adjM = adjM.todense()\n",
        "adjM"
      ]
    },
    {
      "cell_type": "markdown",
      "metadata": {
        "id": "5yM51NrWK5R1"
      },
      "source": [
        "    Curiosidad: La matriz de adyacencia y la distancia entre nodos\n",
        "\n",
        "    La matriz de adyacencia nos da de forma implícita las distancias de orden 1 entre cualquier par de nodos. La distancia de orden 1 es trivial, ya que son directamente las conexiones del grafo.\n",
        "\n",
        "    Una propiedad interesante de la matriz de adyacencia es que si la multiplicamos por sí misma `n` veces, obtenemos la matriz de distancias de orden `n`. \n",
        "\n",
        "    Así, la matriz de distancia de orden 2 nos mostrará todos los pares de nodos que están conectados con un nodo intermedio. En el ejemplo, los nodos `2` y `5` tienen entre medias los nodos `4` y `1`, es decir, existen dos caminos posibles de orden 2 que los conectan: el `2-4-5` y el `2-1-5`. Por ese motivo, el elemento [2,5] de la matriz de distancias de orden 2 es 2."
      ]
    },
    {
      "cell_type": "code",
      "execution_count": null,
      "metadata": {
        "id": "qv5fPtRnK5R1",
        "outputId": "3f4c48b3-ea84-4a8e-d279-28bd002c0b6d"
      },
      "outputs": [
        {
          "name": "stdout",
          "output_type": "stream",
          "text": [
            "[[3 1 1 2 1]\n",
            " [1 3 0 1 2]\n",
            " [1 0 1 1 0]\n",
            " [2 1 1 3 1]\n",
            " [1 2 0 1 2]]\n",
            "Caminos de orden dos entre los nodos 2 y 5 = 2\n"
          ]
        }
      ],
      "source": [
        "distancias_orden_dos = adjM*adjM\n",
        "\n",
        "print(distancias_orden_dos)\n",
        "# elemento 2,5 en python, se resta uno a los índices\n",
        "print(f\"Caminos de orden dos entre los nodos 2 y 5 = {distancias_orden_dos[1,4]}\")"
      ]
    },
    {
      "attachments": {},
      "cell_type": "markdown",
      "metadata": {
        "id": "OwGdlpfdK5R1"
      },
      "source": [
        "# Tipos de Grafos\n",
        "\n",
        "\n",
        "Todo grafo se clasifica según tres criterios principales.\n",
        "\n",
        "\n",
        "<p align=\"center\"><img src=\"https://raw.githubusercontent.com/fcarazo/network-science/d10e8fc9109c90072bc8355bfe790bf0067bdf80/docs/img/drawio/01_graph_types.drawio.svg\" style=\"width: 500px\"></p>\n",
        "\n",
        "<center><font size='2.5'>\n",
        "<i>Figura 4. Esquema de las tres clasificaciones de los tipos de grafo. Cualquier combinación de las tres clasificaciones es válida.</i>\n",
        "</font></center>\n",
        "\n",
        "\n",
        "En la siguiente figura se representan los distintos tipos de grafos junto con sus matrices de adyacencia.\n"
      ]
    },
    {
      "attachments": {},
      "cell_type": "markdown",
      "metadata": {
        "id": "7NM1dm2ZK5R1"
      },
      "source": [
        "<p align=\"center\"><img src=\"https://github.com/fcarazo/network-science/blob/master/docs/img/01_tipos_de_grafos.jpg?raw=true\" style=\"width: 900px\"></p>\n",
        "\n",
        "<center><font size='2.5'>\n",
        "<i>Figura 5. Ejemplo de grafos de distintos tipos con sus matrices de adyacencia correspondientes. A) Grafo no dirigido. B) Grafo dirigido. C) Grafo ponderado. D) Grafo bipartito, con dos tipos de nodos (verde y naranja). E) Proyección del grafo bipartito en los nodos de cada tipo.</i>\n",
        "</font></center>"
      ]
    },
    {
      "attachments": {},
      "cell_type": "markdown",
      "metadata": {
        "id": "DF-0O5hdK5R2"
      },
      "source": [
        "### 1. Direccionalidad\n",
        "\n",
        "Los ejes tienen dirección definida (si existe la conexión entre los nodos A->B, no tiene porqué existir la conexión entre b->a). Los ejes de estos grafos se suelen representar con una flecha. Ejemplo: envío de emails, donde la dirección es qué usuario envía un email a otro.\n",
        "\n",
        "La matriz de adyacencia de los grafos dirigidos deja de ser simétrica.\n",
        "\n",
        "\n"
      ]
    },
    {
      "cell_type": "code",
      "execution_count": null,
      "metadata": {
        "id": "jURj6mVyK5R2",
        "outputId": "1452022c-9877-48f8-e00c-b6a239bade3e"
      },
      "outputs": [
        {
          "data": {
            "image/png": "[encoded data removed]",
            "text/plain": [
              "<Figure size 640x480 with 1 Axes>"
            ]
          },
          "metadata": {},
          "output_type": "display_data"
        }
      ],
      "source": [
        "# Creamos una instancia tipo \"Grafo dirigido\".\n",
        "G = nx.DiGraph()\n",
        "\n",
        "# Añadimos conexiones\n",
        "G.add_edges_from([(1, 2), (2,3), (1, 4), (1, 5), (4,2), (5,4)])\n",
        "\n",
        "# Dibujamos la red. Más adelante daremos más detalles sobre representación de grafos.\n",
        "nx.draw(G, with_labels=True)"
      ]
    },
    {
      "cell_type": "code",
      "execution_count": null,
      "metadata": {
        "id": "jP--AJfwK5R2",
        "outputId": "013332eb-ee2f-4151-d11a-9117a6712a34"
      },
      "outputs": [
        {
          "data": {
            "text/plain": [
              "matrix([[0, 1, 0, 1, 1],\n",
              "        [0, 0, 1, 0, 0],\n",
              "        [0, 0, 0, 0, 0],\n",
              "        [0, 1, 0, 0, 0],\n",
              "        [0, 0, 0, 1, 0]])"
            ]
          },
          "execution_count": 14,
          "metadata": {},
          "output_type": "execute_result"
        }
      ],
      "source": [
        "adjM = nx.adjacency_matrix(G)\n",
        "adjM.todense()"
      ]
    },
    {
      "attachments": {},
      "cell_type": "markdown",
      "metadata": {
        "id": "ROa5hFD5K5R2"
      },
      "source": [
        "### 2. Peso\n",
        "\n",
        "los ejes del grafo tienen un peso asociado. Los ejes de estos grafos se suelen representar con una anchura distinta en función del peso. Ejemplo: Red social, donde el peso es el número de interacciones entre dos usuarios.\n",
        "\n"
      ]
    },
    {
      "cell_type": "code",
      "execution_count": null,
      "metadata": {
        "id": "91z2frnYK5R2",
        "outputId": "750fb7dd-f94e-4109-c298-ceab0cde3697"
      },
      "outputs": [
        {
          "data": {
            "text/plain": [
              "EdgeDataView([(1, 2, {'weight': 0.5}), (1, 4, {'weight': 0.1}), (1, 5, {'weight': 0.75}), (2, 3, {'weight': 0.9}), (2, 4, {'weight': 0.01}), (4, 5, {'weight': 0.3})])"
            ]
          },
          "execution_count": 15,
          "metadata": {},
          "output_type": "execute_result"
        }
      ],
      "source": [
        "# Creamos una instancia tipo \"Grafo\".\n",
        "G = nx.Graph()\n",
        "\n",
        "# Añadimos conexiones\n",
        "G.add_weighted_edges_from([(1, 2, 0.5), (2,3, 0.9), (1, 4, 0.1), (1, 5, 0.75), (4,2, 0.01), (5,4, 0.3)])\n",
        "\n",
        "G.edges(data=True)"
      ]
    },
    {
      "cell_type": "markdown",
      "metadata": {
        "id": "uCVBzhqhK5R2"
      },
      "source": [
        "Como podemos ver, ahora los ejes tienen el atributo weight.\n",
        "\n",
        "En el siguiente apartado explicaremos más detalles de los atributos asociados a nodos y ejes."
      ]
    },
    {
      "attachments": {},
      "cell_type": "markdown",
      "metadata": {
        "id": "EF6X8aPTK5R2"
      },
      "source": [
        "### 3. Bipartitos\n",
        "\n",
        "Si los nodos de un grafo representan entidades de distinta naturaleza se denominan grafos bipartitos. Un ejemplo común de grafos bipartitos son las redes de publicaciones donde existen nodos de tipo \"artículo\" y otros de tipo \"escritor\". En el grafo existirá un eje cuando un escritor publique un artículo. \n",
        "\n",
        "En este tipo de grafos, las conexiones únicamente puden ocurrir entre nodos de distinta naturaleza (no pueden existir conexiones entre artículos entre sí).\n",
        "\n",
        "En los grafos bipartitos se habla de proyecciones cuando se quiere es que se pueden realizar \"proyecciones\" (Grafos \"E\"). Esto es construir un grafo para cada uno de los tipos de nodos en función de sus conexiones comunes. Más adelante veremos un ejemplo completo de estos grafos.\n"
      ]
    },
    {
      "cell_type": "markdown",
      "metadata": {
        "id": "r3GnvKFvK5R2"
      },
      "source": [
        "> Un grafo puede tener cualquier combinación de estas características: por ejemplo, podemos tener un grafo simple, dirigido y ponderado"
      ]
    },
    {
      "cell_type": "markdown",
      "metadata": {
        "id": "7dEtv912K5R2"
      },
      "source": [
        "Los grafos bipartitos son unos de los tipos de grafos más utilizados en el Graph Machine Learning. En el siguiente enlace encontrarás un case study con Grafos Bipartitos [proximamente]."
      ]
    },
    {
      "cell_type": "markdown",
      "metadata": {
        "id": "J-ulgTh9K5R3"
      },
      "source": [
        "# Atributos de nodos y ejes"
      ]
    },
    {
      "cell_type": "markdown",
      "metadata": {
        "id": "YDkyhTkpK5R3"
      },
      "source": [
        "\n",
        "\n",
        "Supongamos que estamos analizando los datos de una red social, en el que los nodos son usuarios y los ejes representan si dos usuarios son amigos.\n",
        "\n",
        "1. En este caso puede ser que queramos guardar información relativa a los usuarios, como por ejemplo:\n",
        "\n",
        "    - Nombre y apellidos.\n",
        "    - Edad.\n",
        "    - Profesión.\n",
        "    - Aficiones.\n",
        "\n",
        "    Los atributos de los nodos se añaden con el método `networkx.set_node_atributes(Grafo, diccionario, nombre)`\n",
        "\n",
        "\n",
        "2. Por otro lado, los ejes puede ser que también tengan atributos:\n",
        "\n",
        "    - Fecha en la que inició la amistad.\n",
        "    - Intensidad de la amista (weight)\n",
        "\n",
        "    Los atributos de los ejes se añaden con el método `networkx.set_edge_atributes()`\n",
        "\n",
        "Los atributos de nodos y ejes son muy importantes en el Graph Machine Learning. De hecho, las Graph Neural Networks utilizan atributos de ejes y nodos para hacer predicciones. \n",
        "\n",
        "> Por ejemplo, si queremos predecir futuras amistadas entre usuarios, será interesante tener en cuenta las aficiones de cada usuario: (Será más probable que usuarios con aficiones similares se hagan amigos en un futuro).\n"
      ]
    },
    {
      "cell_type": "code",
      "execution_count": null,
      "metadata": {
        "id": "TTYVGRkSK5R3",
        "outputId": "0581134a-5fc3-4d39-f9a8-678711dadd28"
      },
      "outputs": [
        {
          "data": {
            "text/plain": [
              "EdgeDataView([(1, 2, {}), (1, 4, {}), (1, 5, {}), (2, 3, {}), (2, 4, {}), (4, 5, {})])"
            ]
          },
          "execution_count": 16,
          "metadata": {},
          "output_type": "execute_result"
        }
      ],
      "source": [
        "# Creamos una instancia tipo \"Grafo\".\n",
        "G = nx.Graph()\n",
        "\n",
        "# Añadimos conexiones\n",
        "G.add_edges_from([(1, 2), (2,3), (1, 4), (1, 5), (4,2), (5,4)])\n",
        "\n",
        "\n",
        "G.edges(data=True)"
      ]
    },
    {
      "cell_type": "code",
      "execution_count": null,
      "metadata": {
        "id": "dKRZRCXPK5R3"
      },
      "outputs": [],
      "source": [
        "# Añadimos atributos de los nodos\n",
        "node_name = {\n",
        "    1:\"Jaime\",\n",
        "    2:\"María\",\n",
        "    3:\"Julio\",\n",
        "    4:\"Rosa\",\n",
        "    5:\"Alberto\"\n",
        "}\n",
        "\n",
        "node_aficiones = {\n",
        "    1:[\"Futbol\"],\n",
        "    2:[\"Baile\", \"Pádel\"],\n",
        "    3:[\"Golf\", \"Baile\"],\n",
        "    4:[\"Cocina\"],\n",
        "    5:[\"Cocina\", \"Jamón\"]\n",
        "}\n",
        "\n",
        "nx.set_node_attributes(G, node_name, name=\"Nombre\")\n",
        "nx.set_node_attributes(G, node_aficiones, name=\"Aficiones\")\n",
        "\n",
        "# Añadimos atributos de los ejes\n",
        "edges_weight = {\n",
        "    (1, 2): 0.5, \n",
        "    (2,3): 0.9, \n",
        "    (1, 4): 0.1, \n",
        "    (1, 5): 0.75, \n",
        "    (4,2): 0.01, \n",
        "    (5,4): 0.3\n",
        "}\n",
        "\n",
        "nx.set_edge_attributes(G, edges_weight, name=\"weight\")\n",
        "\n"
      ]
    },
    {
      "cell_type": "markdown",
      "metadata": {
        "id": "WctYbwK3K5R3"
      },
      "source": [
        "Para acceder a los atributos de nodos y ejes utilizamos `G.nodes(data=True)` o `G.edges(data=True)`. \n",
        "Estos comandos nos devuelven una objeto de nodos/ejes con un diccionario asociado con todos los atributos.\n",
        "\n",
        "En nuestro caso, los nodos no contienen ningún atributo todavía."
      ]
    },
    {
      "cell_type": "code",
      "execution_count": null,
      "metadata": {
        "id": "BptRWxS2K5R3",
        "outputId": "acf91134-6f83-495e-de2f-b6a6fff353d9"
      },
      "outputs": [
        {
          "data": {
            "text/plain": [
              "NodeDataView({1: {'Nombre': 'Jaime', 'Aficiones': ['Futbol']}, 2: {'Nombre': 'María', 'Aficiones': ['Baile', 'Pádel']}, 3: {'Nombre': 'Julio', 'Aficiones': ['Golf', 'Baile']}, 4: {'Nombre': 'Rosa', 'Aficiones': ['Cocina']}, 5: {'Nombre': 'Alberto', 'Aficiones': ['Cocina', 'Jamón']}})"
            ]
          },
          "execution_count": 18,
          "metadata": {},
          "output_type": "execute_result"
        }
      ],
      "source": [
        "G.nodes(data=True)"
      ]
    },
    {
      "cell_type": "code",
      "execution_count": null,
      "metadata": {
        "id": "dyukUM6JK5R3",
        "outputId": "3b659157-0315-4b07-df20-3376c7421da6"
      },
      "outputs": [
        {
          "data": {
            "text/plain": [
              "EdgeDataView([(1, 2, {'weight': 0.5}), (1, 4, {'weight': 0.1}), (1, 5, {'weight': 0.75}), (2, 3, {'weight': 0.9}), (2, 4, {'weight': 0.01}), (4, 5, {'weight': 0.3})])"
            ]
          },
          "execution_count": 19,
          "metadata": {},
          "output_type": "execute_result"
        }
      ],
      "source": [
        "G.edges(data=True)"
      ]
    },
    {
      "cell_type": "markdown",
      "metadata": {
        "id": "4JDLP0G2K5R3"
      },
      "source": [
        "> TRUCO: los atributos de ejes y nodos se pueden iterar directamente como si se tratase de un diccionario!"
      ]
    },
    {
      "cell_type": "code",
      "execution_count": null,
      "metadata": {
        "id": "iw2DaG7tK5R4",
        "outputId": "b7814f5f-e55c-4dd3-ddb9-ea82d4cb5be5"
      },
      "outputs": [
        {
          "name": "stdout",
          "output_type": "stream",
          "text": [
            "Eje que conecte el nodo 1 con el nodo 2 y tiene un peso de 0.5.\n",
            "Eje que conecte el nodo 1 con el nodo 4 y tiene un peso de 0.1.\n",
            "Eje que conecte el nodo 1 con el nodo 5 y tiene un peso de 0.75.\n",
            "Eje que conecte el nodo 2 con el nodo 3 y tiene un peso de 0.9.\n",
            "Eje que conecte el nodo 2 con el nodo 4 y tiene un peso de 0.01.\n",
            "Eje que conecte el nodo 4 con el nodo 5 y tiene un peso de 0.3.\n"
          ]
        },
        {
          "data": {
            "text/plain": [
              "[None, None, None, None, None, None]"
            ]
          },
          "execution_count": 20,
          "metadata": {},
          "output_type": "execute_result"
        }
      ],
      "source": [
        "[print(f\"Eje que conecte el nodo {m} con el nodo {n} y tiene un peso de {w['weight']}.\") for m, n, w in G.edges(data=True)]"
      ]
    },
    {
      "cell_type": "markdown",
      "metadata": {
        "id": "wdtTX5AAK5R4"
      },
      "source": [
        "> EJERCICIO: qué ejes tienen un peso mayor que 0.5?"
      ]
    },
    {
      "cell_type": "code",
      "execution_count": null,
      "metadata": {
        "id": "wE5FlLKRK5R4",
        "outputId": "6058c4b7-e8c8-4921-b6a5-be7ee186ec02"
      },
      "outputs": [
        {
          "data": {
            "text/plain": [
              "[(1, 2), (1, 5), (2, 3)]"
            ]
          },
          "execution_count": 21,
          "metadata": {},
          "output_type": "execute_result"
        }
      ],
      "source": [
        "threshold = 0.5\n",
        "edge_list = [\n",
        "    (n, m) for n, m, d in G.edges(data=True) if d[\"weight\"] >= threshold\n",
        "]\n",
        "\n",
        "edge_list"
      ]
    },
    {
      "cell_type": "markdown",
      "metadata": {
        "id": "0csVAoKCK5R4"
      },
      "source": [
        "Y don un subset de ejes, podemos filtrar el grafo:"
      ]
    },
    {
      "cell_type": "code",
      "execution_count": null,
      "metadata": {
        "id": "MQKcSDi_K5R4",
        "outputId": "69b336ad-0a3f-4964-9866-3532183e3a71"
      },
      "outputs": [
        {
          "name": "stdout",
          "output_type": "stream",
          "text": [
            "[(1, 2), (1, 5), (2, 3)]\n"
          ]
        },
        {
          "data": {
            "image/png": "[encoded data removed]",
            "text/plain": [
              "<Figure size 640x480 with 1 Axes>"
            ]
          },
          "metadata": {},
          "output_type": "display_data"
        }
      ],
      "source": [
        "G_filtrado = G.edge_subgraph(edge_list)\n",
        "print(G_filtrado.edges)\n",
        "nx.draw(G_filtrado, with_labels=True)\n"
      ]
    },
    {
      "cell_type": "code",
      "execution_count": null,
      "metadata": {
        "id": "hHsc6-nAK5R4",
        "outputId": "7136760c-24c5-4c8f-b5d9-8461b5583c79"
      },
      "outputs": [
        {
          "data": {
            "text/html": [
              "<div>\n",
              "<style scoped>\n",
              "    .dataframe tbody tr th:only-of-type {\n",
              "        vertical-align: middle;\n",
              "    }\n",
              "\n",
              "    .dataframe tbody tr th {\n",
              "        vertical-align: top;\n",
              "    }\n",
              "\n",
              "    .dataframe thead th {\n",
              "        text-align: right;\n",
              "    }\n",
              "</style>\n",
              "<table border=\"1\" class=\"dataframe\">\n",
              "  <thead>\n",
              "    <tr style=\"text-align: right;\">\n",
              "      <th></th>\n",
              "      <th>source</th>\n",
              "      <th>target</th>\n",
              "      <th>weight</th>\n",
              "      <th>color</th>\n",
              "    </tr>\n",
              "  </thead>\n",
              "  <tbody>\n",
              "    <tr>\n",
              "      <th>0</th>\n",
              "      <td>0</td>\n",
              "      <td>2</td>\n",
              "      <td>3</td>\n",
              "      <td>red</td>\n",
              "    </tr>\n",
              "    <tr>\n",
              "      <th>1</th>\n",
              "      <td>1</td>\n",
              "      <td>2</td>\n",
              "      <td>4</td>\n",
              "      <td>blue</td>\n",
              "    </tr>\n",
              "    <tr>\n",
              "      <th>2</th>\n",
              "      <td>2</td>\n",
              "      <td>3</td>\n",
              "      <td>5</td>\n",
              "      <td>blue</td>\n",
              "    </tr>\n",
              "  </tbody>\n",
              "</table>\n",
              "</div>"
            ],
            "text/plain": [
              "   source  target  weight color\n",
              "0       0       2       3   red\n",
              "1       1       2       4  blue\n",
              "2       2       3       5  blue"
            ]
          },
          "execution_count": 23,
          "metadata": {},
          "output_type": "execute_result"
        }
      ],
      "source": [
        "conexiones = pd.DataFrame(\n",
        "    {\n",
        "        \"source\": [0, 1, 2],\n",
        "        \"target\": [2, 2, 3],\n",
        "        \"weight\": [3, 4, 5],\n",
        "        \"color\": [\"red\", \"blue\", \"blue\"],\n",
        "    }\n",
        ")\n",
        "conexiones"
      ]
    },
    {
      "attachments": {},
      "cell_type": "markdown",
      "metadata": {
        "id": "x745lWU8K5R4"
      },
      "source": [
        "# Propiedades básicas de los grafos: número de nodos, número de ejes y grado N, L y \\<k\\>"
      ]
    },
    {
      "cell_type": "markdown",
      "metadata": {
        "id": "r34AwbLdK5R4"
      },
      "source": [
        "Las estadísticas más básicas de la red son el número de nodos, el número de ejes y el número de conexiones de los nodos del grafo, también conocido como Grado. "
      ]
    },
    {
      "cell_type": "markdown",
      "metadata": {
        "id": "P_HkRSRwK5R4"
      },
      "source": [
        "La propiedad más importante de un nodo es su número de conexiones, o grado. El grado de un nodo es el número de aristas que conectan al nodo con otros nodos en un grafo. Por ejemplo, en un grafo no dirigido, el grado de un nodo es el número de nodos adyacentes que tiene el nodo. En un grafo dirigido, el grado de un nodo se puede definir de dos maneras: el grado de entrada, que es el número de aristas que apuntan hacia el nodo, y el grado de salida, que es el número de aristas que salen del nodo."
      ]
    },
    {
      "cell_type": "markdown",
      "metadata": {
        "id": "vAR5I-0NK5R4"
      },
      "source": [
        "El número de conexiones de los nodos de un grafo es igual al número de ejes multiplicado por dos. Por tanto, el número medio de conexiones de un grafo es:\n",
        "\n",
        "$$\n",
        "\\langle k\\rangle=\\frac{1}{N} \\sum_{i=1}^N k_i=\\frac{2 L}{N}\n",
        "$$"
      ]
    },
    {
      "cell_type": "code",
      "execution_count": null,
      "metadata": {
        "id": "f0GXXWzpK5R5",
        "outputId": "c4f87a2d-93c9-4b94-869f-f8cc1962a408"
      },
      "outputs": [
        {
          "name": "stdout",
          "output_type": "stream",
          "text": [
            "Grafo con 5 nodos, 6 ejes y número medio de conexiones 2.4\n"
          ]
        }
      ],
      "source": [
        "nodos = G.number_of_nodes()\n",
        "ejes = G.number_of_edges()\n",
        "\n",
        "k = ejes*2/nodos\n",
        "\n",
        "print(f\"Grafo con {nodos} nodos, {ejes} ejes y número medio de conexiones {k}\")\n",
        "\n"
      ]
    },
    {
      "attachments": {},
      "cell_type": "markdown",
      "metadata": {},
      "source": [
        "El grado $k_i$ del nodo $i$ también se puede obtener de los elementos de la matriz de adyacencia. Para redes no dirigidas, el grado de un nodo es una suma sobre las filas o las columnas de la matriz, es decir:\n",
        "$$\n",
        "k_i=\\sum_{j=1}^N A_{j i}=\\sum_{i=1}^N A_{j i}\n",
        "$$\n",
        "Para redes dirigidas, las sumas sobre las filas y columnas de la matriz de adyacencia proporcionan los grados entrantes y salientes, respectivamente.\n",
        "$$\n",
        "k_i^{i n}=\\sum_{j=1}^N A_{i j}, \\quad \\quad k_i^{\\text {out}}=\\sum_{j=1}^N A_{j i}\n",
        "$$\n",
        "Dado que en una red no dirigida el número de enlaces salientes es igual al número de enlaces entrantes, tenemos\n",
        "$$\n",
        "2 L=\\sum_{i=1}^N k_i^{i n}=\\sum_{i=1}^N k_i^{\\text {out}}=\\sum_{i j}^N A_{i j}\n",
        "$$\n",
        "El número de elementos distintos de cero de la matriz de adyacencia es $2 L$, o el doble del número de enlaces. De hecho, un enlace no dirigido que conecta los nodos $i$ y $j$ aparece en dos entradas: $A_{i j}=1$, un enlace que apunta desde el nodo $j$ al nodo $i$, y $A_{i i}=1 $, un enlace que apunta de $i$ a $j$."
      ]
    },
    {
      "cell_type": "markdown",
      "metadata": {
        "id": "rVLXw706K5R5"
      },
      "source": [
        "## Comparativa de redes: N, L y \\<k\\>"
      ]
    },
    {
      "cell_type": "markdown",
      "metadata": {
        "id": "K0LuRZfIK5R5"
      },
      "source": [
        "Estas redes de referencia, enumeradas en la Tabla inferior, abarcan:\n",
        "\n",
        "- Sistemas sociales (grafo de llamadas móviles o red de correo electrónico), \n",
        "- Redes de colaboración y afiliación (red de colaboración científica, red de actores de Hollywood), \n",
        "- Sistemas de información (WWW), sistemas tecnológicos y de infraestructura (Internet y red eléctrica). ), \n",
        "- Sistemas biológicos (interacción de proteínas y red metabólica) y redes de referencia (citas). \n",
        "\n",
        "Difieren ampliamente en sus tamaños, desde tan solo N = 1039 nodos en el metabolismo de E. coli, hasta casi medio millón de nodos en la red de citas. Cubren varias áreas en las que las redes se aplican activamente y representan conjuntos de datos \"canónicos\" que los investigadores utilizan con frecuencia para ilustrar las propiedades clave de la red. Como indicamos en la Tabla, algunos de ellos son dirigidos, otros son no dirigidos.\n",
        "\n",
        "Fuente: http://networksciencebook.com/"
      ]
    },
    {
      "cell_type": "markdown",
      "metadata": {
        "id": "pMnGcp8wK5R5"
      },
      "source": [
        "| **Red** | **Nodos** | **Enlaces** | **Dirigido / No dirigido** | **N** | **L** | **‹K›** |\n",
        "|---------------------------|----------------------------|----------------------|---------------------------|---------|------------|---------|\n",
        "| **Internet** | Routers | Conexiones a Internet | No dirigido | 192,244 | 609,066 | 6.34 |\n",
        "| **WWW** | paginas web | Enlaces | Dirigida | 325,729 | 1,497,134 | 4.60 |\n",
        "| **Red eléctrica** | Centrales eléctricas, transformadores | Cables | No dirigido | 4,941 | 6,594 | 2.67 |\n",
        "| **Llamadas a teléfonos móviles** | Suscriptores | Llamadas | Dirigido | 36,595 | 91,826 | 2.51 |\n",
        "| **Correo electrónico** | Direcciones de correo electrónico | Correos electrónicos | Dirigido | 57,194 | 103,731 | 1.81 |\n",
        "| **Colaboración científica** | Científicos | Coautorías | No dirigido | 23,133 | 93,437 | 8.08 |\n",
        "| **Red de actores** | Actores | Co-actuando | No dirigido | 702,388 | 29,397,908 | 83.71 |\n",
        "| **Red de citas** | Papeles | Citas | Dirigido | 449,673 | 4.689,479 | 10.43 |\n",
        "| **MI. Metabolismo coli** | Metabolitos | Reacciones químicas | Dirigido | 1,039 | 5,802 | 5.58 |\n",
        "| **Interacciones de proteínas** | Proteínas | Interacciones vinculantes | No dirigido | 2,018 | 2,930 | 2,90 |"
      ]
    },
    {
      "cell_type": "markdown",
      "metadata": {
        "id": "Nu_3ahW6K5R5"
      },
      "source": [
        "# Diagnóstico de grafos"
      ]
    },
    {
      "cell_type": "markdown",
      "metadata": {
        "id": "E0fWX6aAK5R5"
      },
      "source": [
        "Como bien hemos aprendido en [cienciadedatos.net](cienciadedatos.net), en ciencia de datos, lo primero que hay que hacer al tener un dataset es realizar un análisis exploratorio de los datos o EDA por sus siglas en inglés.\n",
        "\n",
        "¿Cómo se puede hacer un EDA de un grafo? Para ello introducimos las propiedades de los grafos. Algunas son más importantes que otras, pero entre todas ellas nos darán una visión global del grafo que estamos analizando.\n",
        "\n",
        "Se resumen en tres grupos principales según se relacionen con 1) nodos individuales, 2) conjuntos de nodos o 3) propiedades globales de la red:"
      ]
    },
    {
      "cell_type": "markdown",
      "metadata": {
        "id": "AQa13nd6K5R5"
      },
      "source": [
        "![](https://raw.githubusercontent.com/fcarazo/network-science/d10e8fc9109c90072bc8355bfe790bf0067bdf80/docs/img/drawio/03_properties.drawio.svg)\n"
      ]
    },
    {
      "cell_type": "markdown",
      "metadata": {
        "id": "x6B9AlkmK5R5"
      },
      "source": [
        "En este apartado utilizaremos el primer modelo de generación de grafos: barbell_graph. Los modelos de generación de grafos son algoritmos que generan grafos con distintas propiedades. Hay muchos modelos de generación de grafos, iremos viendo algunos de ellos a medida que avance el curso.\n",
        "\n",
        "El barbell graph permite generar un grafo con dos conjuntos de N nodos con alta conectividad (m1) unidos por una cadena de nodos (m2)."
      ]
    },
    {
      "cell_type": "code",
      "execution_count": null,
      "metadata": {
        "id": "urwzk_J4K5R5",
        "outputId": "9ac38e9c-5542-43e6-c570-8215d707c870"
      },
      "outputs": [
        {
          "data": {
            "image/png": "[encoded data removed]",
            "text/plain": [
              "<Figure size 640x480 with 1 Axes>"
            ]
          },
          "metadata": {},
          "output_type": "display_data"
        }
      ],
      "source": [
        "G =nx.barbell_graph(m1=10, m2=3)\n",
        "nx.draw(G, with_labels=True)"
      ]
    },
    {
      "cell_type": "markdown",
      "metadata": {
        "id": "tPmja0A1K5R5"
      },
      "source": [
        "### ¿Cuál es el nodo más importante de la red?\n",
        "\n",
        "Tras un primer vistazo, podemos observar que algunos nodos tendrán propiedades muy diferentes.\n",
        "\n",
        "Por ejemplo, los nodos 11, 10 y 12 son nodos muy importantes si consideramos la \"betweenness de la red\". Lo que quiere decir que estos nodos forma parte del único camino posible entre muchos pares de nodos. En otras palabras: si estos nodos desaparecen, los dos clusters de nodos dejarían de estar conectados.\n",
        "\n",
        "Por otro lado, los nodos de los clusters, por ejemplo el nodo 17, tiene una alta conectividad: está conectado a muchos otros nodos (alto degree).\n",
        "\n",
        "Dependiendo de a qué característica le demos más importancia, diremos que el nodo más importante de la red es uno u otro."
      ]
    },
    {
      "cell_type": "markdown",
      "metadata": {
        "id": "QBDxI4laK5R6"
      },
      "source": [
        "## Número de nodos y ejes\n",
        "\n",
        "Lo primero que exploraremos del grafo son el número de ejes y de nodos. Nuestro grafo tiene 23 nodos y 94 ejes."
      ]
    },
    {
      "cell_type": "code",
      "execution_count": null,
      "metadata": {
        "id": "euzwgDzNK5R6",
        "outputId": "362a1268-6aa0-4d92-8256-bc637f1daab6"
      },
      "outputs": [
        {
          "data": {
            "text/plain": [
              "(23, 94)"
            ]
          },
          "execution_count": 26,
          "metadata": {},
          "output_type": "execute_result"
        }
      ],
      "source": [
        "G.number_of_nodes(), G.number_of_edges()"
      ]
    },
    {
      "cell_type": "markdown",
      "metadata": {
        "id": "MBIhiPSRK5R6"
      },
      "source": [
        "## 1. Centralidad\n",
        "\n",
        "Cuando se analizan redes es común que se desee encontrar los nodos que son más importantes para la red. En términos generales, la importancia de un nodo depende de su posición en la red. A medida que las redes se vuelven más complejas, será necesario emplear medidas de centralidad para describirlas. Así como en la estadística se cuenta con medidas de tendencia central como la mediana y la moda para caracterizar dónde se encuentra el “centro” de los datos, en el caso de las redes se cuenta con medidas de centralidad para determinar los nodos más importantes. \n",
        "\n",
        "En otras palabras, la centralidad mide la importancia de cada nodo según distintos criterios. Por lo tanto, estas funciones nos devolverán un vector de la misma longitud que el número de nodos.\n",
        "\n"
      ]
    },
    {
      "cell_type": "markdown",
      "metadata": {
        "id": "5-VOlyigK5R6"
      },
      "source": [
        "### 1.1. Medidas locales\n",
        "\n",
        "El adjetivo local se debe a que estas medidas solo toman en cuenta la influencia de un nodo sobre sus compañeros más cercanos. Estas medidas locales de centralidad muestran la importancia de un nodo teniendo en cuenta su posición en un contexto cercano, los nodos que tienen cerca.\n",
        "\n",
        "#### 1.1.1 Grado de centralidad (Degree): Número de conexiones de un nodo.\n",
        "\n",
        "Para obtener esta medida basta con contar el número de enlaces relacionados con cada nodo (Tanto los entrantes como los salientes de cada nodo). Tal y como está definida, esta estadística hará que destaquen aquellos nodos conectados a las sub-redes más amplias. Un valor más grande de esta medida indicará una mayor centralidad del nodo. \n",
        "\n",
        "El degree de un nodo se puede calcular directamente desde la matriz de adyacencia del grafo.\n",
        "\n",
        "* Para un grafo no dirigido:\n",
        "\n",
        "$Degree = \\sum_i{A_{ij}} = \\sum_j{A_{ij}}$\n",
        "\n",
        "Esta métrica se puede presentar también de manera normalizada; es decir, dividiendo el número de enlaces relacionados con cada uno de los n nodos dividido por n-1.\n",
        "\n",
        "* Degree Centrality: Número de conexiones de un nodo normalizado.\n",
        "\n",
        "$Degree Centrality = \\frac{\\sum_i{A_{ij}}}{N-1}$\n",
        "\n",
        "Otras variantes de esta medida de centralidad solo consideran los enlaces de salida (out-degree) de cada nodo o solo los de entrada (in-degree). Estas últimas dos métricas pueden estar normalizadas o no. La normalización puede ser importante cuando se quiere comparar esta métrica entre diferentes grafos con números de nodos muy diferentes.\n",
        "\n",
        "* Para un grafo dirigido, existen dos tipos de Degree según nos refiramos a conexiones entrante o salientes: \n",
        "\n",
        "$inDegree = \\sum_i{A_{ij}}$\n",
        "\n",
        "$outDegree = \\sum_j{A_{ij}}$\n"
      ]
    },
    {
      "cell_type": "markdown",
      "metadata": {
        "id": "pvOa4zZpK5R6"
      },
      "source": [
        "#### 1.1.2 Betweenness\n",
        "\n",
        "Esta medida cuantifica el número de veces que un nodo actúa como un puente a lo largo de la ruta geodésica (esto es, la de menor longitud) entre dos nodos. Su cálculo implica los siguientes pasos: \n",
        "\n",
        "1. Contar el número de rutas que unen un par de nodos (i y j).\n",
        "2. Encontrar la proporción de esas rutas que pasan por un tercer nodo (v).\n",
        "3. Repetir el cálculo para todas las parejas de nodos posibles (con la condición de que i y j sean diferentes de v) hallando en cada caso la proporción de rutas que pasan por el nodo v\n",
        "4. Sumar todas las proporciones obtenidas. Tomando σij como el número de rutas de mínima distancia que unen a los nodos i y j, y σij(v) como el número de rutas de distancia mínima que unen a estos nodos y que pasan por el nodo v, entonces la métrica de Betweenness para el nodo v está dada por:\n",
        "\n",
        "$$\n",
        "\\operatorname{Betweenness}(v)=\\sum_{i \\neq v \\varepsilon V} \\sum_{j \\neq v \\varepsilon V} \\delta_{i j}\n",
        "$$\n",
        "\n",
        "donde $\\delta_{i j}(v)=\\frac{\\sigma_{i j}(v)}{\\sigma_{i j}}$.\n",
        "\n",
        "Esta métrica solo toma valores entre cero y el número de parejas posibles dentro del grafo (excluyendo el nodo para el cual se está efectuando el cálculo). Esto es, si N es el número total de nodos, entonces la cota superior toma el valor de $\\frac{(N-1) !}{2 !((N-1)-2) !}$.\n",
        "\n",
        "Por otra parte, tal y como se ha mencionado de manera implícita, entre mayor sea el Betweenness mayor será la centralidad del nodo. En la red que veremos en el siguiente apartado, el nodo 11 es el más propenso a actuar como puente entre sus compañeros. \n",
        "\n",
        "Este estadístico también se puede presentar de manera normalizada multiplicando cada Between- ness(v) por la siguiente constante:\n",
        "\n",
        "$\\frac{2}{n(n-3)(n+2)}$\n",
        "\n"
      ]
    },
    {
      "cell_type": "markdown",
      "metadata": {
        "id": "TbJIYFNhK5R6"
      },
      "source": [
        "### 1.2 Medidas Globales de Centralidad \n",
        "\n",
        "Las medidas globales muestran la importancia de un nodo teniendo en cuenta su posición en el conjunto la red. De manera general, estas medidas identifican a aquellos agentes que están mejor ubicados para influir en toda la red lo más rápidamente posible. Ejemplos, de esta medida globales de centralidad son:\n",
        "\n",
        "#### 1.2.1 Closeness Centrality: Da una idea de \"Cómo de cerca está un nodo del resto de nodos de la red\".\n",
        "\n",
        "Para un nodo \"x\", se calcula dividiendo el número de nodos a los que se puede ir desde ese nodo (N-1) entre la suma de todas distancias de ese nodo \"x\" al resto de nodos. Es decir, calcula las rutas más cortas entre todos los nodos y asigna una puntuación a cada uno en función de la suma de sus rutas. Mide cuántos pasos se requieren para conectarse a cada uno de los nodos desde un nodo determinado. \n",
        "\n",
        "En general, es una medida de cuánto tarda en llegar la información de un nodo al resto de la red. Esta medida se calcula de la siguiente manera:\n",
        "\n",
        "$ClosenessCentrality = \\frac{N-1}{\\sum_j{d_{i,j}}}$\n",
        "\n",
        "Es fácil deducir que esta medida estará entre cero y uno. Adicionalmente, entre más cercana a 1 esté, mayor será la centralidad del nodo.\n",
        "\n",
        "Así como el grado de centralidad, esta métrica puede calcularse considerando solo las rutas de salida (out) de cada nodo o solo las rutas de entrada (in). Estas últimas dos métricas pueden estar normalizadas o no.\n",
        "\n",
        "#### 1.2.2. - Excentricidad: \n",
        "\n",
        "Mide la distancia de cada nodo al nodo más lejano.\n",
        "\n",
        "$Excentricidad(i)=\\max [\\operatorname{dist}(i, j)], \\quad \\forall j$"
      ]
    },
    {
      "cell_type": "markdown",
      "metadata": {
        "id": "muaRZ7SkK5R7"
      },
      "source": [
        "### Y ahora, en nuestro grafo con networkx"
      ]
    },
    {
      "cell_type": "code",
      "execution_count": null,
      "metadata": {
        "id": "rJadsB7LK5R7",
        "outputId": "858ed49f-276e-4d8f-fd57-217859745db6"
      },
      "outputs": [
        {
          "data": {
            "text/plain": [
              "DegreeView({0: 9, 1: 9, 2: 9, 3: 9, 4: 9, 5: 9, 6: 9, 7: 9, 8: 9, 9: 10, 10: 2, 11: 2, 12: 2, 13: 10, 14: 9, 15: 9, 16: 9, 17: 9, 18: 9, 19: 9, 20: 9, 21: 9, 22: 9})"
            ]
          },
          "execution_count": 27,
          "metadata": {},
          "output_type": "execute_result"
        }
      ],
      "source": [
        "# Grado de los nodos: el número de conexiones de cada nodo.\n",
        "nx.degree(G)"
      ]
    },
    {
      "cell_type": "code",
      "execution_count": null,
      "metadata": {
        "id": "rSdOIPozK5R7",
        "outputId": "dd2160fc-66b1-4287-b138-e8bc1e1e62f2"
      },
      "outputs": [
        {
          "name": "stdout",
          "output_type": "stream",
          "text": [
            "\"\n",
            "\n",
            "**1. Propiedades de los nodos.**\n",
            "\n",
            "Mide la importancia de cada nodo según distintos criterios. Estas funciones nos devolverán un vector de la misma longitud que el número de nodos.\n",
            "\n",
            "Locales: muestran la importancia de un nodo teniendo en cuenta su posición en un contexto cercano, los nodos que tienen cerca.\n",
            "\n",
            "        - Degree: Número de conexiones de un nodo.\n",
            "                nx.degree(G)[11] = 2\n",
            "                nx.degree(G)[17] = 9\n",
            "\n",
            "        - Degree Centrality: Número de conexiones de un nodo normalizado con el número global de conexiones.\n",
            "                nx.degree_centrality(G)[11] = 0.091\n",
            "                nx.degree_centrality(G)[17] = 0.41\n",
            "\n",
            "Globales: muestran la importancia de un nodo teniendo en cuenta su posición en toda la red.\n",
            "\n",
            "        - Closeness Centrality: Da una idea de \"Cómo de cerca está un nodo del resto de nodos de la red\".\n",
            "                nx.closeness_centrality(G)[11] = 0.37\n",
            "                nx.closeness_centrality(G)[17] = 0.29\n",
            "\n",
            "        - Betweenness Centrality: Mide cuántas veces un nodo forma parte del camino más cercano entre dos nodos.\n",
            "                nx.betweenness_centrality(G)[11] = 0.52\n",
            "                nx.betweenness_centrality(G)[17] = 0.0\n",
            "\n",
            "        - Eccentricity: Distancia al nodo más lejano.\n",
            "                nx.eccentricity(G)[11] = 3\n",
            "                nx.eccentricity(G)[17] = 6\n",
            "\n"
          ]
        }
      ],
      "source": [
        "print(f\"\"\"\"\n",
        "\n",
        "**1. Propiedades de los nodos.**\n",
        "\n",
        "Mide la importancia de cada nodo según distintos criterios. Estas funciones nos devolverán un vector de la misma longitud que el número de nodos.\n",
        "\n",
        "Locales: muestran la importancia de un nodo teniendo en cuenta su posición en un contexto cercano, los nodos que tienen cerca.\n",
        "\n",
        "        - Degree: Número de conexiones de un nodo.\n",
        "                nx.degree(G)[11] = {nx.degree(G)[11]}\n",
        "                nx.degree(G)[17] = {nx.degree(G)[17]}\n",
        "\n",
        "        - Degree Centrality: Número de conexiones de un nodo normalizado con el número global de conexiones.\n",
        "                nx.degree_centrality(G)[11] = {nx.degree_centrality(G)[11]:.2}\n",
        "                nx.degree_centrality(G)[17] = {nx.degree_centrality(G)[17]:.2}\n",
        "\n",
        "Globales: muestran la importancia de un nodo teniendo en cuenta su posición en toda la red.\n",
        "\n",
        "        - Closeness Centrality: Da una idea de \"Cómo de cerca está un nodo del resto de nodos de la red\".\n",
        "                nx.closeness_centrality(G)[11] = {nx.closeness_centrality(G)[11]:.2}\n",
        "                nx.closeness_centrality(G)[17] = {nx.closeness_centrality(G)[17]:.2}\n",
        "\n",
        "        - Betweenness Centrality: Mide cuántas veces un nodo forma parte del camino más cercano entre dos nodos.\n",
        "                nx.betweenness_centrality(G)[11] = {nx.betweenness_centrality(G)[11]:.2}\n",
        "                nx.betweenness_centrality(G)[17] = {nx.betweenness_centrality(G)[17]:.2}\n",
        "\n",
        "        - Eccentricity: Distancia al nodo más lejano.\n",
        "                nx.eccentricity(G)[11] = {nx.eccentricity(G)[11]}\n",
        "                nx.eccentricity(G)[17] = {nx.eccentricity(G)[17]}\n",
        "\"\"\")\n"
      ]
    },
    {
      "cell_type": "markdown",
      "metadata": {
        "id": "6fwP2QBlK5R7"
      },
      "source": [
        "## 2. Propiedades globales del grafo. Medidas agregadas\n",
        "\n",
        "Diámetro: mide la máxima excentricidad.\n",
        "\n",
        "$Dimetro = max[Excentricidad(i)], ∀i$\n",
        "\n",
        "Esto es, el par de nodos más alejados en toda la red requieren de dos pases para conectarse.\n",
        "Densidad: es la proporción de pares de nodos conectados en la red sobre todos los posibles. Si esta medida es 1 (o 100%), entonces el grafo es totalmente conexo (todos los nodos se conectan de manera directa con todos). Tomando n como el número total de nodos y E como el número de pares conectados en el grafo, entonces, la densidad se calcula como:\n",
        "D=E 12n(n−1)\n",
        "donde 21 n(n−1) es el número total de pares de nodos conectados que pueden existir en el grafo. El cálculo de esta medida solo exige el conocimiento de si un par de nodos se conectaron o no, no\n",
        " 10\n",
        "se requiere saber el número de conexiones. Así que se debe transformar la matriz de adyacencia para que contenga solo dos valores: ceros (en caso de que no haya conexión) y unos (cuando hay conexión). Para el equipo francés, según el cálculo mostrado en el cuadro , el parámetro de la densidad toma un valor igual a 66%. Es decir, de todas las posibles conexiones (100%), se hicieron efectivas el 66 %.\n",
        "\n",
        "\n",
        "\n",
        "\n",
        "- Degree medio: Número de conexiones medio de los nodos de un grafo.\n",
        "- Densidad del grafo: Número de conexiones / Número posible de conexiones.\n",
        "$D=\\frac{E}{\\frac{1}{2} n(n-1)}$\n",
        "\n",
        "\n",
        "\n",
        "- Diámetro: Excentricidad máxima: Distancia máxima entre dos nodos.\n",
        "- Transitividad: es una medida de la ocurrencia de pequeñas subredes de tres nodos totalmente conectados.\n",
        "- Reciprocidad: mide la probabilidad de que, dado que existe una conexión entre i y j que parte de i, exista una conexión entre estos que parta de j. \n"
      ]
    },
    {
      "cell_type": "code",
      "execution_count": null,
      "metadata": {
        "id": "BiNqec3zK5R7",
        "outputId": "0fcd9740-4517-4ad2-afb5-c0a319324c9d"
      },
      "outputs": [
        {
          "name": "stdout",
          "output_type": "stream",
          "text": [
            "\n",
            "\n",
            "**2. Propiedades globales del grafo.**\n",
            "\n",
            "        - Degree medio: Número de conexiones medio de los nodos de un grafo.\n",
            "                8.17\n",
            "        - Densidad del grafo: Número de conexiones / Número posible de conexiones.\n",
            "                0.3715415019762846\n",
            "        - Diámetro: Distancia máxima entre dos nodos.\n",
            "                6\n",
            "                False\n",
            "\n",
            "        - Otras medidas: Transitividad, Reciprocidad.\n",
            "                0.97165991902834\n",
            "                {0: 1.0, 1: 1.0, 2: 1.0, 3: 1.0, 4: 1.0, 5: 1.0, 6: 1.0, 7: 1.0, 8: 1.0, 9: 0.8, 10: 0, 11: 0, 12: 0, 13: 0.8, 14: 1.0, 15: 1.0, 16: 1.0, 17: 1.0, 18: 1.0, 19: 1.0, 20: 1.0, 21: 1.0, 22: 1.0}\n",
            "\n",
            "\n"
          ]
        }
      ],
      "source": [
        "print(f\"\"\"\n",
        "\n",
        "**2. Propiedades globales del grafo.**\n",
        "\n",
        "        - Degree medio: Número de conexiones medio de los nodos de un grafo.\n",
        "                {((G.number_of_edges()*2) / G.number_of_nodes()):,.3}\n",
        "        - Densidad del grafo: Número de conexiones / Número posible de conexiones.\n",
        "                {nx.density(G)}\n",
        "        - Diámetro: Distancia máxima entre dos nodos.\n",
        "                {nx.diameter(G)}\n",
        "                {nx.diameter(G) == max(nx.eccentricity(G))}\n",
        "\n",
        "        - Otras medidas: Transitividad, Reciprocidad.\n",
        "                {nx.transitivity(G)}\n",
        "                {nx.algorithms.clustering(G)}\n",
        "\n",
        "\"\"\"\n",
        "\n",
        ")"
      ]
    },
    {
      "cell_type": "markdown",
      "metadata": {
        "id": "w7NPbPChK5R7"
      },
      "source": [
        "## 3. Propiedades de conjuntos de nodos"
      ]
    },
    {
      "cell_type": "markdown",
      "metadata": {
        "id": "P3wb8K7FK5R7"
      },
      "source": [
        "Como veremos, el grado del nodo es una de las propiedades más importante de la teoría de grafos ya que se pueden estraer muchas conclusiones de su análisis."
      ]
    },
    {
      "cell_type": "code",
      "execution_count": null,
      "metadata": {
        "id": "wErfgh6eK5R8",
        "outputId": "c8b9270f-196c-47e3-c264-696d46d67493"
      },
      "outputs": [
        {
          "name": "stdout",
          "output_type": "stream",
          "text": [
            "\"\n",
            "\n",
            "**2. Propiedades entre conjuntos de nodos.**\n",
            "\n",
            "        - Distancia entre dos nodos\n",
            "                (0, {0: [0], 1: [0, 1], 2: [0, 2], 3: [0, 3], 4: [0, 4], 5: [0, 5], 6: [0, 6], 7: [0, 7], 8: [0, 8], 9: [0, 9], 10: [0, 9, 10], 11: [0, 9, 10, 11], 12: [0, 9, 10, 11, 12], 13: [0, 9, 10, 11, 12, 13], 14: [0, 9, 10, 11, 12, 13, 14], 15: [0, 9, 10, 11, 12, 13, 15], 16: [0, 9, 10, 11, 12, 13, 16], 17: [0, 9, 10, 11, 12, 13, 17], 18: [0, 9, 10, 11, 12, 13, 18], 19: [0, 9, 10, 11, 12, 13, 19], 20: [0, 9, 10, 11, 12, 13, 20], 21: [0, 9, 10, 11, 12, 13, 21], 22: [0, 9, 10, 11, 12, 13, 22]})\n",
            "\n",
            "        - Cliqués: conjuntos de nodos con conectividad completa (todos los nodos conectados con todos)\n",
            "                [[9, 0, 1, 2, 3, 4, 8, 5, 6, 7], [9, 10], [11, 10], [11, 12], [12, 13], [13, 14, 15, 16, 17, 18, 19, 20, 21, 22]]\n",
            "\n",
            "\n"
          ]
        }
      ],
      "source": [
        "print(f\"\"\"\"\n",
        "\n",
        "**2. Propiedades entre conjuntos de nodos.**\n",
        "\n",
        "        - Distancia entre dos nodos\n",
        "                {list(nx.algorithms.all_pairs_shortest_path(G))[0]}\n",
        "\n",
        "        - Cliqués: conjuntos de nodos con conectividad completa (todos los nodos conectados con todos)\n",
        "                {list(nx.algorithms.clique.find_cliques(G))}\n",
        "\n",
        "\"\"\")\n"
      ]
    },
    {
      "cell_type": "markdown",
      "metadata": {
        "id": "-7cX6oZLK5R8"
      },
      "source": [
        "# Detección de comunidades"
      ]
    },
    {
      "cell_type": "markdown",
      "metadata": {
        "id": "w8wDyzUoK5R8"
      },
      "source": [
        "Un problema muy común en teoría de grafos es el de identificar grupos de nodos similares dentro de un grafo. Este problema también se le conoce como detección de comunidades. La detección de comunidades tiene muchísimas aplicaciones en diversos sectores. Un ejemplo muy conocido es el de detectar grupos de usuarios en una red social con intereses similares a los que dirigir una campaña de marqueting personalizada.\n",
        "\n",
        "La detección de comunidades en teoría de grafos se refiere a la tarea de encontrar grupos o comunidades de nodos en un grafo que están más conectados entre sí que con el resto del grafo. Esto puede ser útil para entender mejor la estructura de un grafo y cómo están conectados sus nodos. La detección de comunidades se considera un problema importante en el análisis de redes y ha sido objeto de muchos estudios en la teoría de grafos.\n",
        "\n",
        "Existen muchos algoritmos diferentes para detectar comunidades en un grafo, y el algoritmo adecuado depende del tipo de grafo y del problema en cuestión. Algunos de los algoritmos más comunes y relevantes son:\n",
        "\n",
        "- Algoritmo de Louvain: este algoritmo es uno de los más populares y se basa en la idea de optimización modularidad, que busca maximizar el número de enlaces dentro de una comunidad y minimizar el número de enlaces entre comunidades.\n",
        "\n",
        "- Algoritmo de Girvan-Newman: este algoritmo se basa en la idea de eliminar gradualmente las aristas que conectan las comunidades, hasta que queden subgrafos desconectados que representan las comunidades.\n",
        "\n",
        "- Algoritmo de Infomap: este algoritmo se basa en la idea de que los nodos de una comunidad tienen una probabilidad más alta de ser visitados por un recorrido aleatorio que los nodos del resto del grafo.\n",
        "\n",
        "El algoritmo de Louvain es uno de los algoritmos más populares y eficientes para detectar comunidades en un grafo. Es una buena opción en situaciones en las que se desea encontrar comunidades en un grafo de manera rápida y eficiente. También es una buena opción cuando se desea encontrar comunidades que sean compactas y bien definidas. Además, el algoritmo de Louvain es fácil de implementar y puede manejar grafos grandes y complejos con eficiencia."
      ]
    },
    {
      "cell_type": "markdown",
      "metadata": {
        "id": "cgfOZdl1K5R8"
      },
      "source": [
        "## Modularidad\n",
        "\n",
        "El algoritmo de Louvain tiene como objetivo optimizar la modularidad. La modularidad es una medida que se utiliza en la teoría de grafos para evaluar la calidad de una partición de un grafo en comunidades. Esta medida busca maximizar el número de enlaces dentro de una comunidad y minimizar el número de enlaces entre comunidades.\n",
        "\n",
        "La modularidad se define como la diferencia entre el número de enlaces dentro de las comunidades y el número esperado de enlaces si los enlaces se distribuyeran de manera aleatoria en el grafo. Una alta modularidad indica que las comunidades encontradas tienen más conexiones que las esperadas por azar y,  por tanto, las comunidades son compactas y bien definidas, lo que es deseable en muchos casos. \n",
        "\n",
        "La modularidad tiene un rango de valores entre -0,5 y 1 y se define mediante la siguiente fórmula:\n",
        "\n",
        "$$\n",
        "Q=\\frac{1}{2 m} \\sum_{i j}\\left[A_{i j}-\\frac{k_i k_j}{2 m}\\right] \\delta\\left(c_i, c_j\\right)\n",
        "$$\n",
        "dónde\n",
        "- $A_{i j}$ matriz de adyacencia (nodos $i$ y $j$). Puede ser de un grafo ponderado.;\n",
        "- $k_i$ y $k_j$ son la suma de los pesos de la matriz de adyacencia de los ejes que conectan a los nodos $i$ y $j$, respectivamente;\n",
        "- $m$ es la suma de todos los pesos de la matriz de adyacencia (en un grafo no ponderado, es el número de ejes);\n",
        "- $c_i$ y $c_j$ son las comunidades a las que pertenecen los nodos $i$ y $j$; y\n",
        "- $\\delta$ es la función delta de Kronecker ( $\\delta(x, y)=1$ si $x=y, 0$ en caso contrario), de tal forma que la fórmula sólo aplica si los nodos pertenecen a la misma comunidad.\n",
        "\n",
        "En la siguiente imagen se muestran varios ejemplos de modularidad con distintas particiones. Se puede observar que la mejor partición es la de modularidad más alta."
      ]
    },
    {
      "cell_type": "markdown",
      "metadata": {
        "id": "04Bya2hzK5R8"
      },
      "source": [
        "![](https://github.com/fcarazo/network-science/blob/master/docs/img/06_modularity-graph-database-1.png?raw=true)"
      ]
    },
    {
      "cell_type": "markdown",
      "metadata": {
        "id": "switEBJZK5R8"
      },
      "source": [
        "## Algoritmo de Louvain\n",
        "\n",
        "El algoritmo de [Louvain](https://perso.uclouvain.be/vincent.blondel/research/louvain.html) es uno de los algoritmos más populares y eficientes para detectar comunidades en un grafo. Se basa en la idea de optimización modularidad, que busca maximizar el número de enlaces dentro de una comunidad y minimizar el número de enlaces entre comunidades.\n",
        "\n",
        "El algoritmo de Louvain se divide en dos fases: una fase de agrupamiento y una fase de refinamiento. \n",
        "\n",
        "- En la fase de agrupamiento, se comienza agrupando todos los nodos del grafo en una sola comunidad. Luego, se itera sobre cada nodo del grafo y se calcula la ganancia en modularidad que se obtendría al mover el nodo a una comunidad diferente. Si se obtiene una ganancia positiva, se mueve el nodo a la comunidad correspondiente. Esto se repite hasta que ya no se pueden obtener ganancias adicionales.\n",
        "\n",
        "- la fase de refinamiento se aplica después de la fase de agrupamiento. Su objetivo es mejorar aún más la partición del grafo en comunidades encontrada en la fase de agrupamiento. Esta fase se realiza utilizando técnicas de agrupamiento jerárquico. Esto significa que se divide cada comunidad en subcomunidades, y luego se vuelve a calcular la modularidad de la partición resultante. Si se obtiene una ganancia positiva en modularidad, se mantiene la partición. Si no se obtiene una ganancia, se vuelve a la partición anterior. Esta etapa se repite hasta que ya no se pueden obtener ganancias adicionales en modularidad. \n",
        "\n",
        "Al final de esta fase, se obtiene una partición final del grafo en comunidades que es más compacta y bien definida que la obtenida en la fase de agrupamiento.\n",
        "\n",
        "El algoritmo de Louvain fue propuesto por primera vez en un artículo titulado \"Fast unfolding of communities in large networks\" (\"Despliegue rápido de comunidades en grandes redes\"), publicado en la revista \"Journal of Statistical Mechanics: Theory and Experiment\" en 2008. En la siguiente imagen extraída del artículo, se resume el algoritmo.\n"
      ]
    },
    {
      "cell_type": "markdown",
      "metadata": {
        "id": "StS-U1IsK5R8"
      },
      "source": [
        "![](https://github.com/fcarazo/network-science/blob/master/docs/img/07_louvain.png?raw=true)"
      ]
    },
    {
      "cell_type": "markdown",
      "metadata": {
        "id": "gmjCEKjvK5R8"
      },
      "source": [
        "## Detección de comunidades con Python\n",
        "\n",
        "El algoritmo de Louvain se puede utilizar con Python utilizando el paquete de código abierto \"Community\". Este paquete se puede instalar utilizando el administrador de paquetes de Python, pip, de la siguiente manera:\n",
        "\n",
        "\n",
        "`pip install python-louvain`"
      ]
    },
    {
      "cell_type": "markdown",
      "metadata": {
        "id": "255r50xhK5R8"
      },
      "source": [
        "Una vez que se ha instalado el paquete, se puede importar el módulo community_louvain. Puede encontrar más documentación asociada con la función a la que nos referiremos aquí [4].\n",
        "\n",
        "Esto debería devolver las comunidades asociadas detectadas desde G en forma de diccionario. Las claves del diccionario son los nodos y los valores corresponden a la comunidad a la que pertenece ese nodo.\n",
        "\n"
      ]
    },
    {
      "cell_type": "code",
      "execution_count": null,
      "metadata": {
        "id": "Dy_SnLIuK5R8",
        "outputId": "8aac3a47-a7ec-4673-bad8-903183b746de"
      },
      "outputs": [
        {
          "data": {
            "text/plain": [
              "dict_items([(0, 0), (1, 0), (2, 0), (3, 0), (4, 0), (5, 0), (6, 0), (7, 0), (8, 0), (9, 0), (10, 1), (11, 1), (12, 1), (13, 2), (14, 2), (15, 2), (16, 2), (17, 2), (18, 2), (19, 2), (20, 2), (21, 2), (22, 2)])"
            ]
          },
          "execution_count": 31,
          "metadata": {},
          "output_type": "execute_result"
        }
      ],
      "source": [
        "# pip install python-louvain\n",
        "\n",
        "from community import community_louvain\n",
        "\n",
        "\n",
        "# calculamos con el \n",
        "comms = community_louvain.best_partition(G, random_state=999)\n",
        "comms.items()"
      ]
    },
    {
      "cell_type": "markdown",
      "metadata": {
        "id": "ADis_sNJK5R9"
      },
      "source": [
        "## Visualización de comunidades"
      ]
    },
    {
      "cell_type": "markdown",
      "metadata": {
        "id": "DoO-_ocRK5R9"
      },
      "source": [
        "Filmente podemos visualizar las comunidades. Con este código coloreamos los nodos en base a las comunidades calculadas anteriormente:"
      ]
    },
    {
      "cell_type": "code",
      "execution_count": null,
      "metadata": {
        "id": "aVfsws2gK5R9",
        "outputId": "f1d54379-a62d-4a6c-8b8a-000f39c7cb51"
      },
      "outputs": [
        {
          "data": {
            "image/png": "[encoded data removed]",
            "text/plain": [
              "<Figure size 640x480 with 1 Axes>"
            ]
          },
          "metadata": {},
          "output_type": "display_data"
        }
      ],
      "source": [
        "import matplotlib.colors as mcolors\n",
        "\n",
        "# Color de los nodos\n",
        "cmap = dict(list(enumerate(mcolors.TABLEAU_COLORS.values())))\n",
        "node_cmap = [cmap[v] for v in comms.values()]\n",
        "\n",
        "nx.draw_networkx(G, node_color= node_cmap)"
      ]
    },
    {
      "cell_type": "markdown",
      "metadata": {
        "id": "Nr9HAGnZK5R9"
      },
      "source": [
        "# Trabajo futuro\n",
        "- 01 - Sistema de recomendación con graph machine learning\n",
        "- 02 - GNNs\n",
        "- 03 - Dynamic GNNs"
      ]
    },
    {
      "cell_type": "markdown",
      "metadata": {
        "id": "zaePMZZhK5R9"
      },
      "source": [
        "# References"
      ]
    },
    {
      "cell_type": "markdown",
      "metadata": {
        "id": "jfnE_NiTK5R9"
      },
      "source": [
        "\n",
        "\n",
        "https://towardsdatascience.com/graph-machine-learning-with-python-pt-1-basics-metrics-and-algorithms-cc40972de113\n",
        "\n",
        "https://towardsdatascience.com/graph-machine-learning-with-python-pt-2-random-graphs-and-diffusion-models-of-cryptopunks-trading-99cd5170b5ea\n",
        "\n",
        "https://towardsdatascience.com/graph-machine-learning-with-python-part-3-unsupervised-learning-aa2854fe0ff2\n",
        "\n",
        "https://ericmjl.github.io/Network-Analysis-Made-Simple/01-introduction/03-viz/\n",
        "\n",
        "http://networksciencebook.com/\n",
        "\n"
      ]
    },
    {
      "cell_type": "markdown",
      "metadata": {
        "id": "fpKEZu7YK5R9"
      },
      "source": [
        "## Distribución de grados\n",
        "\n",
        "La distribución de grados, pk, proporciona la probabilidad de que un nodo seleccionado al azar en la red tenga un grado k. Dado que pk es una probabilidad, debe normalizarse, es decir\n",
        "\n",
        "$$\n",
        "\\sum_{k=1}^{\\infty} p_k=1\n",
        "$$\n",
        "Para una red con $\\mathrm{N}$ nodos, la distribución de grados es el histograma normalizado está dado por\n",
        "$$\n",
        "p_k=\\frac{N_k}{N}\n",
        "$$\n",
        "donde $N_k$ es el número de nodos de grado k. Por lo tanto, el número de nodos de grado k se puede obtener a partir de la distribución de grados como $N_k=N p_k$.\n",
        "\n",
        "La distribución de grados ha asumido un papel central en la teoría de redes tras el descubrimiento de las redes libres de escala [8]. Una razón es que el cálculo de la mayoría de las propiedades de la red requiere que conozcamos $p_k$. Por ejemplo, el grado promedio de una red se puede escribir como\n",
        "$$\n",
        "\\langle k\\rangle=\\sum_{k=0}^{\\infty} k p_k\n",
        "$$\n",
        "La otra razón es que la forma funcional precisa de $p_k$ determina muchos fenómenos de red, desde la solidez de la red hasta la propagación de virus."
      ]
    },
    {
      "cell_type": "markdown",
      "metadata": {
        "id": "Z0yclzOrK5R9"
      },
      "source": [
        "![Network Science](https://github.com/fcarazo/network-science/blob/master/docs/img/00_degree-dist.jpeg?raw=true)"
      ]
    },
    {
      "attachments": {},
      "cell_type": "markdown",
      "metadata": {
        "id": "l-bIsAQgK5R9"
      },
      "source": [
        "## Información de sesión"
      ]
    },
    {
      "cell_type": "code",
      "execution_count": null,
      "metadata": {},
      "outputs": [],
      "source": [
        "from sinfo import sinfo\n",
        "sinfo()"
      ]
    },
    {
      "attachments": {},
      "cell_type": "markdown",
      "metadata": {},
      "source": [
        "## Bibliografía\n",
        "<br>\n",
        "\n",
        "Linear Models with R by Julian J.Faraway [libro](https://www.amazon.es/gp/product/1439887330/ref=as_li_qf_asin_il_tl?ie=UTF8&tag=cienciadedato-21&creative=24630&linkCode=as2&creativeASIN=1439887330&linkId=e9ca62e854567fb3f9d0ea044f084b11)"
      ]
    },
    {
      "attachments": {},
      "cell_type": "markdown",
      "metadata": {},
      "source": [
        "**¿Cómo citar este documento?**\n",
        "\n",
        "<p style=\"text-align:left\"><font size=\"3\" color=\"#555\">\n",
        "Graph Machine Learning: Grafos by Fernando Carazo, available under a Attribution 4.0 International (CC BY 4.0) at https://www.cienciadedatos.net/documentos/\n",
        "\n",
        "    \n",
        "</font></p>"
      ]
    },
    {
      "attachments": {},
      "cell_type": "markdown",
      "metadata": {},
      "source": [
        "<a rel=\"license\" href=\"http://creativecommons.org/licenses/by/4.0/\"><img alt=\"Creative Commons Licence\" style=\"border-width:0\" src=\"https://i.creativecommons.org/l/by/4.0/88x31.png\" /></a><br />This work by Fernando Carazo is licensed under a <a rel=\"license\" href=\"http://creativecommons.org/licenses/by/4.0/\">Creative Commons Attribution 4.0 International License</a>."
      ]
    },
    {
      "attachments": {},
      "cell_type": "markdown",
      "metadata": {},
      "source": [
        "%%html\n",
        "<style>\n",
        ".text_cell_render p {\n",
        "    text-align: justify;\n",
        "    font-family: 'Open Sans','Helvetica Neue',Helvetica,Arial,sans-serif;\n",
        "    #font-size: 16px;\n",
        "    line-height: 1.5;\n",
        "    font-weight: 400;\n",
        "    text-shadow: none;\n",
        "    color: #333333;\n",
        "    text-rendering: optimizeLegibility;\n",
        "    letter-spacing: +0.1px;\n",
        "    margin-bottom: 1.15rem;\n",
        "    font-size: 1.15em\n",
        "}\n",
        "\n",
        "#notebook-container {\n",
        "    background-color: #fcfcfc;\n",
        "}\n",
        "\n",
        "div.inner_cell {\n",
        "    margin-right: 5%;\n",
        "}\n",
        "\n",
        ".output_png {\n",
        "        display: table-cell;\n",
        "        text-align: center;\n",
        "        vertical-align: middle;\n",
        "}\n",
        "\n",
        ".rendered_html code {\n",
        "    background-color: #f2f2f2;\n",
        "    font-family: monospace;\n",
        "    color: #a20505;\n",
        "    font-size: 15px;\n",
        "    #font-size: 1em;\n",
        "    padding: 1px 1px;\n",
        "    border: solid;\n",
        "    border-color: darkgray;\n",
        "    border-width: thin;\n",
        "}\n",
        "\n",
        ".rendered_html h1 {\n",
        "    padding-top: 50px;\n",
        "}\n",
        "\n",
        ".rendered_html h2 {\n",
        "    font-size: 30px\n",
        "    margin-top: 0;\n",
        "    font-size: 2.488em;\n",
        "}\n",
        "\n",
        ".rendered_html h3 {\n",
        "    font-size: 25px;\n",
        "}\n",
        "\n",
        ".rendered_html h4 {\n",
        "    font-size: 20px;\n",
        "}\n",
        "\n",
        "</style>"
      ]
    }
  ],
  "metadata": {
    "colab": {
      "provenance": []
    },
    "kernelspec": {
      "display_name": "base",
      "language": "python",
      "name": "python3"
    },
    "language_info": {
      "codemirror_mode": {
        "name": "ipython",
        "version": 3
      },
      "file_extension": ".py",
      "mimetype": "text/x-python",
      "name": "python",
      "nbconvert_exporter": "python",
      "pygments_lexer": "ipython3",
      "version": "3.9.12"
    },
    "toc": {
      "base_numbering": 1,
      "nav_menu": {},
      "number_sections": true,
      "sideBar": true,
      "skip_h1_title": false,
      "title_cell": "Table of Contents",
      "title_sidebar": "Contents",
      "toc_cell": false,
      "toc_position": {},
      "toc_section_display": true,
      "toc_window_display": false
    },
    "vscode": {
      "interpreter": {
        "hash": "d7288e82646d3164eca24130947288f8779d11454649f2c02a5dfc42af7f324c"
      }
    }
  },
  "nbformat": 4,
  "nbformat_minor": 0
}
