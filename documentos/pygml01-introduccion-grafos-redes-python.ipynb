{
 "cells": [
  {
   "cell_type": "markdown",
   "metadata": {},
   "source": [
    "<h1><center><font size=\"25\">Introducción a grafos y redes con Python</font></center></h1>"
   ]
  },
  {
   "cell_type": "markdown",
   "metadata": {},
   "source": [
    "<center><b>Fernando Carazo, Joaquín Amat</b></center>\n",
    "\n",
    "<center><i>Enero, 2023</i></center>"
   ]
  },
  {
   "cell_type": "markdown",
   "metadata": {},
   "source": [
    "## Introducción\n",
    "<br>\n",
    "\n",
    "Una de las últimas tendencias en el campo de la inteligencia artificial es el *Graph Machine Learning (GML)*. Esta disciplina se centra en aplicar algoritmos de machine learning y estadística al estudio de redes o grafos complejos.\n",
    "\n",
    "Un grafo es una estructura de datos formada por nodos y enlaces que permite representar relaciones entre objetos. A modo de ejemplo, en una red social, los nodos podrían representar a los usuarios y los enlaces la conexión entre ellos.\n",
    "\n",
    "El *GML* utiliza grafos para entrenar modelos de aprendizaje automático y poder hacer inferencia sobre los nodos o enlaces. Los tres tipos principales de problemas que se pueden resolver con *GML* son:\n",
    "\n",
    "- Inferencia sobre nodos: predecir características de los nodos utilizando las características de sus nodos vecinos.\n",
    "\n",
    "- Inferencia sobre enlaces: predecir carteristicas o exitencia de enlaces, por ejemplo, inferir qué enlaces tiene mayor probabilidad de ocurrir en un futuro. Este es un caso típico de los sistemas de recomendación.\n",
    "\n",
    "- Inferencia sobre conjuntos de nodos: identificar comunidades de nodos que presentan comportamientos similares. Este es un caso típico en segmentación de clientes con características similares.\n",
    "\n",
    "En esta serie de artículos se pretende mostrar las bases del *Graph Machine Learning* y resolver casos prácticos utilizando las librerías de grafos más importantes de Python como [NetworkX](https://networkx.org/) [PyTorch Geometric](https://pytorch-geometric.readthedocs.io/en/latest/), [Stellargraph](https://stellargraph.readthedocs.io/en/v0.8.3/quickstart.html) o [Graph Neural Networks](https://en.wikipedia.org/wiki/Graph_neural_network).\n",
    "\n",
    "\n",
    "<p align=\"center\"><img src=\"../imagenes/00_Internet_map.jpg\" style=\"width: 300px\"></p>\n",
    "\n",
    "<br>\n",
    "\n",
    "<center><font size='2.5'>\n",
    "<i>Mapa parcial de internet basado en la información obtenida del sitio opte.org el 15 de enero de 2005. Cada linea dibujada entre dos nodos representa el enlace entre dos direcciones IP. La longitud de las líneas es proporcional al tiempo de espera entre los nodos. La imagen representa 30% de las redes accesibles en el año 2005.</i>\n",
    "</font></center>\n"
   ]
  },
  {
   "cell_type": "markdown",
   "metadata": {
    "id": "SVcr85GxK5Rv"
   },
   "source": [
    "## Tipos de grafos\n",
    "<br>\n",
    "\n",
    "Los grafos se clasifican en base a sus nodos y los enlaces. Se pueden diferenciar varios tipos de grafos dependiendo del tipo de relación que existe entre sus nodos.\n",
    "\n",
    "**Grafos no dirigidos**\n",
    "\n",
    "Los enlaces no tienen dirección, es decir, si un nodo $A$ está conectado a un nodo $B$, entonces $B$ también está conectado a $A$. Un ejemplo de grafo no dirigido es una red social donde los usuarios están conectados entre sí a través de vínculos de amistad.\n",
    "\n",
    "<p align=\"center\"><img src=\"../imagenes/10_grafo_no_dirigido_red_social.png\" style=\"width: 400px\"></p>\n",
    "\n",
    "<center><font size='2.5'>\n",
    "<i>Ejemplo de un red social, donde los nodos son usuarios y los ejes indican si existe una relación de amistad entre ellos. Es un grafo no dirigido porque las conexiones no tienen direccionalidad.</i>\n",
    "</font></center>\n",
    "\n",
    "<br>\n",
    "\n",
    "**Grafos dirigidos**\n",
    "\n",
    "Los enlaces tienen una dirección, es decir, si un nodo $A$ está conectado a un nodo $B$, $B$ no está necesariamente conectado a $A$. Un ejemplo de un grafo dirigido es una red de llamadas telefónicas donde los nodos son personas y los ejes muestran cada llamada, teniendo en cuenta quién llama a quién.\n",
    "\n",
    "\n",
    "<p align=\"center\"><img src=\"../imagenes/directed-network.png\" style=\"width: 200px\"></p>\n",
    "<br>\n",
    "\n",
    "<center><font size='2.5'>\n",
    "<i> Ejemplo de grafo dirigido.</i>\n",
    "</font></center>\n",
    "\n",
    "<br>\n",
    "\n",
    "**Grafos ponderados**\n",
    "\n",
    "Los enlaces tienen un peso asociado, que representa la importancia o la intensidad de la relación entre los nodos. Un ejemplo de  grafo ponderado es una red de ciudades donde los enlaces representan las rutas de transporte y el peso representa la distancia entre ciudades.\n",
    "\n",
    "<p align=\"center\"><img src=\"../imagenes/08_grafo-ciudades.png\" style=\"width: 400px\"></p>\n",
    "\n",
    "<br>\n",
    "\n",
    "<center><font size='2.5'>\n",
    "<i>Ejemplo de un red de ciudades, donde los nodos son ciudades y los ejes la distancia entre ellas. Es un grafo ponderado.</i>\n",
    "</font></center>\n",
    "\n",
    "<br>\n",
    "\n",
    "\n",
    "**Grafos bipartitos**\n",
    "\n",
    "Los nodos se dividen en dos conjuntos disjuntos (dos tipos de nodos), y solo se permiten enlaces entre nodos de diferentes conjuntos. Un ejemplo de grafo bipartito es una red de películas y actores, donde los nodos de un conjunto son las películas y los nodos del otro conjunto son los actores; y solo se permiten enlaces entre películas y actores.\n",
    "\n",
    "<p align=\"center\"><img src=\"../imagenes/imdb-bipartite.png\" style=\"width: 400px\"></p>\n",
    "\n",
    "<br>\n",
    "\n",
    "<center><font size='2.5'>\n",
    "<i>Ejemplo de un grafo bipartito, donde los nodos pueden ser de dos tipos: actores o películas.</i>\n",
    "</font></center>"
   ]
  },
  {
   "cell_type": "markdown",
   "metadata": {},
   "source": [
    "## Matriz de adyacencia\n",
    "<br>\n",
    "\n",
    "Para poder analizar un grafo es neceario representarlo de forma matemática. Existen dos formas principales de hacerlo: la lista de ejes (edgelist) y la matriz de adyacencia.\n",
    "\n",
    "La lista de ejes es simplemente una lista en la que se indican todas las conexiones. Por ejemplo, en un grafo dirigido con tres nodos {$A$, $B$ y $C$}, donde $A$ se conecta con $B$ y $C$, la lista de ejes es {($A$,$B$), ($A$,$C$)}. Si el grafo es no dirigido, la lista debe incluir las conexiones en ambas direcciones {($A$,$B$), ($B$,$A$) ($A$,$C$), ($C$,$A$)}.\n",
    "\n",
    "Otra forma de representar un grafo es mediante lo que se conoce como matriz de adyacencia. La matriz de adyacencia es una matriz de dimensión $NxN$, siendo $N$ el número de nodos y donde aparece un 1 si la conexión entre un par de nodos existe y un 0 de lo contrario. Para grafos ponderados, en vez de un 1, la matriz presenta el valor del peso de la conexión. Debido a sus propiedades matemáticas, la matriz de adyacencia es el método de representación de grafos más utilizado. \n",
    "\n",
    "La desventaja de la matriz de adyacencia, es que para grafos muy grandes, puede ocupar mucho espacio. Por este motivo, se utiliza con frecuencia una *matriz de adyacencia sparse*, que internamente únicamente almacena la información de las conexiones existentes, es decir, no almacena los ceros.\n",
    "\n",
    "Para grafos no dirigidos la matriz de adyacencia es simétrica ya que, si existe la conexión entre los nodos $A$ y $B$, también existirá la conexión recíproca.\n",
    "\n",
    "<p align=\"center\"><img src=\"../imagenes/05_adjacency_matrix.jpg\" style=\"width: 300px\"></p>\n",
    "\n",
    "<center><font size='2.5'>\n",
    "<i>Ejemplo de un grafo y su matriz de adyacencia. Al ser un grafo no dirigido, la matriz es simétrica.</i>\n",
    "</font></center>\n",
    "\n",
    "<br>\n",
    "\n",
    "Con una formulación matetemática, la matriz de adyacencia de un grafo dirigido de $\\mathrm{N}$ nodos tiene $\\mathrm{N}$ filas y $\\mathrm{N}$ columnas, siendo sus elementos:\n",
    "\n",
    "- $A_{i j}=1$ si existe un enlace que apunta desde el nodo $j$ al nodo $i$\n",
    "\n",
    "- $A_{i j}=0$ si los nodos $i$ y $j$ no están conectados entre sí\n",
    "\n",
    "La matriz de adyacencia de una red no dirigida tiene dos entradas para cada enlace. El enlace $(1,2)$ se representa como $A_{12}$ $=1$ y $A_{21}=1$. Por lo tanto, la matriz de adyacencia de una red no dirigida es simétrica, $A_{i j}=A_{j i}.$"
   ]
  },
  {
   "cell_type": "markdown",
   "metadata": {},
   "source": [
    "En la siguiente figura se representan los distintos tipos de grafos junto con sus matrices de adyacencia. Como se puede observar, los grafos dirigidos ($B$) son los únicos que no tienen una matriz de adyacencia simétrica. En el caso de los grafos bipartitos ($D$), se pueden proyectar para obtener las conexiones indirectas entre cada tipo de nodo ($E$), esto último se verá en profundidad más adelante.\n",
    "\n",
    "<p align=\"center\"><img src=\"../imagenes/01_tipos_de_grafos.jpg\" style=\"width: 800px\"></p>\n",
    "\n",
    "<center><font size='2.5'>\n",
    "<br>\n",
    "    \n",
    "<i>Ejemplo de grafos de distintos tipos con sus matrices de adyacencia correspondientes. A) Grafo no dirigido. B) Grafo dirigido. C) Grafo ponderado. D) Grafo bipartito, con dos tipos de nodos (verde y naranja). E) Proyección del grafo bipartito en los nodos de cada tipo. Fuente: wikipedia.</i>\n",
    "</font></center>"
   ]
  },
  {
   "cell_type": "markdown",
   "metadata": {},
   "source": [
    "## Meta-información de nodos y ejes.\n",
    "<br>\n",
    "\n",
    "Cuando se trabaja con grafos, especialmente si se quieren hacer predicciones u otro tipo de analítica, es muy común que se disponga de información adicional de los nodos y enlaces. Esta información se denomina meta-información porque no pertenece estrictamente al grafo y se suele almacenar a modo de tabla, cuyas filas son los nodos o enlaces y sus columnas son las variables disponibles de cada uno. Si se utiliza el ejemplo de la red social, la meta-información de los nodos podría ser el nombre, edad, aficiones, etc... \n",
    "\n",
    "Aunque menos común que para los nodos, los enlaces también pueden tener meta-información. Continuando con el ejmplo de la red social, la meta-información de los ejes podría ser el año en el que se inició la relación de amistad entre dos personas."
   ]
  },
  {
   "cell_type": "markdown",
   "metadata": {},
   "source": [
    "## Grafos bipartitos\n",
    "<br>\n",
    "\n",
    "Un grafo bipartito es una red cuyos nodos se pueden dividir en dos conjuntos disjuntos $U$ y $V$ de tal manera que los enlaces conectan nodos de $U$ con nodos de $V$. En otras palabras, si se colorean los nodos $U$ de verde y los nodos $V$ de morado,  unicamente existen enlaces que conecten nodos de diferentes colores.\n",
    "\n",
    "\n",
    "<p align=\"center\"><img src=\"../imagenes/11_grafo bipartito.jpg\" style=\"width: 500px\"></p>\n",
    "\n",
    "<br>\n",
    "\n",
    "<center><font size='2.5'>\n",
    "<i>Ejemplo de grafo bipartito. Fuente: Network Science - Albert-László Barabási.</i>\n",
    "</font></center>\n",
    "\n",
    "<br>\n",
    "\n",
    "\n",
    "Es posible generar dos proyecciones para cada red bipartita. La primera proyección conecta nodos $U$ si estos están conectados con el mismo nodo $V$ en la representación bipartita. La segunda proyección conecta nodos $V$ si estos están conectados con el mismo nodo $U$ en la representación bipartita.\n",
    "\n",
    "Volviendo al ejemplo anterior de una red bipartita, en la que un conjunto de nodos corresponde a las películas ($U$) y el otro a los actores ($V$), y cada película está conectada a los actores que actúan en ella; la primera proyección de esta red conecta los nodos de actores sí estos han actuado en la misma película. La otra proyección, conecta las películas que comparten al menos un actor en su reparto."
   ]
  },
  {
   "cell_type": "markdown",
   "metadata": {},
   "source": [
    "## Caminos y distancias\n",
    "\n",
    "<br>\n",
    "\n",
    "La distancia física desempeña un papel clave en las interacciones entre los componentes de los sistemas. Por ejemplo, la distancia física entre dos ciudades influye al número de visitantes que viajan de una ciudad a otra.\n",
    "\n",
    "En las redes, la distancia es un concepto diferente a la distancia física. Si se plantea la pregunta: ¿Cuál es la distancia entre dos usuarios de una red social? La distancia física deja de ser relevante porque dos individuos que viven en el mismo edificio pueden no conocerse y tener muy buenos amigos en otras partes del mundo.\n",
    "\n",
    "En las redes, la distancia física se reemplaza por la longitud del camino. Un camino entre dos nodos es una ruta que se inicia en el primer nodo y recorre los enlaces de la red pasando por distintos nodos hasta llegar al segundo nodo. La longitud del camino representa el número de enlaces que contiene el camino entre dos nodos.\n",
    "\n",
    "En la ciencia de las redes, los caminos desempeñan un papel central. A continuación, se describen algunas de sus propiedades más importantes:\n",
    "\n",
    "**Reciprocidad**\n",
    "<br>\n",
    "\n",
    "En una red no dirigida, la distancia entre el nodo $i$ y el nodo $j$ es la misma que la distancia entre el nodo $j$ y el nodo $i$ ($d_{ij}$ = $d_{ji}$). Por lo contrario, en una red dirigida, a menudo $d_{ij}$ $\\neq$ $d_{ji}$. Además, en una red dirigida, la existencia de un camino desde el nodo $i$ al nodo $j$ no garantiza la existencia de un camino desde $j$ a $i$.\n",
    "\n",
    "\n",
    "**Camino más corto entre dos nodos**\n",
    "\n",
    "En las redes determinar la distancia entre dos nodos equivale a identificar el camino más corto entre dichos nodos. La distancia (o camino más corto) $d_{ij}$ entre dos nodos $i$ y $j$ se puede calcular directamente a partir de la matriz de adyacencia $A_{i j}$. Basta con multiplicar la matriz de adyacencia por sí misma tantas veces como distancia entre dos nodos.\n",
    "\n",
    "- $d_{i j}=1$: Si hay un enlace directo entre $i$ y $j$, entonces $A_{i j}=1$ ( $A_{i j}=0$ de lo contrario $)$\n",
    "\n",
    "- $d_{i j}=2$: Si hay un camino de longitud 2 entre $i$ y $j$, entonces $A_{i k} A_{k j}=1\\left(A_{i k} A_{k j}=0\\right.$ de lo contrario). La cantidad de caminos $d_{i j}=2$ entre $i$ y $j$ es\n",
    "\n",
    "$$\n",
    "N_{i j}^{(2)}=\\sum_{k=1}^N A_{i k} A_{j k}=A_{i j}^2\n",
    "$$\n",
    "​\n",
    " La cantidad de caminos de longitud $d$ entre $i$ y $j$ es\n",
    "​\n",
    " $$\n",
    "N_{i j}^{(d)}=A_{i j}^d\n",
    "$$\n",
    "\n",
    "Estas ecuaciones son válidas tanto para redes dirigidas como no dirigidas. \n",
    "\n",
    "En otras palabras, para obtener la distancia de orden 2 entre cualquier par de nodos, basta con multiplicar la matriz de adyacencia por sí misma. Si la multiplicamos por sí misma `n` veces, obtenemos la matriz de distancias de orden `n`. \n",
    "\n",
    "Así, la matriz de distancia de orden 2 nos mostrará todos los pares de nodos que están conectados con un nodo intermedio. En el siguiente ejemplo, los nodos `2` y `5` tienen entre medias los nodos `4` y `1`, es decir, existen dos caminos posibles de orden 2 que los conectan: el `2-4-5` y el `2-1-5`. Por este motivo, si se multiplica la matriz de adyacencia por sí misma, se obtiene que el elemento [2,5] de la matriz de distancias es 2. Lo que quiere decir que existen dos caminos de distancia 2 entre los nodos 2 y 5.\n",
    "\n",
    "<p align=\"center\"><img src=\"../imagenes/05_adjacency_matrix.jpg\" style=\"width: 300px\"></p>\n",
    "\n",
    "<center><font size='2.5'>\n",
    "<i>Ejemplo de un grafo y su matriz de adyacencia. Al ser un grafo no dirigido, la matriz es simétrica.</i>\n",
    "</font></center>"
   ]
  },
  {
   "cell_type": "markdown",
   "metadata": {},
   "source": [
    "## Propiedades de redes y nodos\n",
    "\n",
    "Las siguientes son algunas propiedades importantes de las redes y nodos en teoría de grafos. En artículos sucesivos se explicarán con más detalle, incluyendo su formulación e implicaciones matemáticas. \n",
    "\n",
    "+ **Grado de un nodo**: el número de enlaces que tiene un nodo. Los grafos dirigidos presentan dos tipos de grado \"in degree\" para conexiones entrantes y \"out degree\" para conexiones salientes.\n",
    "\n",
    "\n",
    "+ **Vecindario de un nodo**: los nodos a los que está conectado directamente un nodo.\n",
    "\n",
    "\n",
    "+ **Grado medio**: el promedio del grado de todos los nodos en una red.\n",
    "\n",
    "\n",
    "+ **Densidad**: el número de enlaces en una red dividido por el número máximo de enlaces posibles. La densidad proporciona una idea de qúan poblada de enlaces está la red.\n",
    "\n",
    "\n",
    "+ **Componentes conectadas**: grupos de nodos conectados entre sí. No tienen porqué existir todas la conexiones, pero sí que desde cualquier nodo puedas viajar al resto de nodos.\n",
    "\n",
    "\n",
    "+ **Caminos y ciclos**: un camino es una secuencia de enlaces que conectan dos nodos, mientras que un ciclo es un camino que comienza y termina en el mismo nodo.\n",
    "\n",
    "\n",
    "+ **Centralidad**: medida de la importancia de un nodo en una red, según su grado, vecindario, caminos y ciclos, entre otros factores.\n",
    "\n",
    "\n",
    "+ **Clustering**: medida de la cantidad de enlaces existentes entre los vecinos de un nodo.\n",
    "\n",
    "\n",
    "+ **Cliqué**: conjunto de nodos todos conectados con todos.\n",
    "\n",
    "\n",
    "+ **Sub-grafo**: la red resultante al seleccionar únicamente una serie de nodos."
   ]
  },
  {
   "cell_type": "markdown",
   "metadata": {},
   "source": [
    "## Centralidad de los nodos\n",
    "<br>\n",
    "\n",
    "La centralidad es un concepto utilizado para medir la importancia de los nodos en un grafo. Las tres medidas de centralidad más importantes son:\n",
    "\n",
    "+ **Centralidad de grado**: es la medida más simple, se basa en el número de enlaces que tiene un nodo, la suma de enlaces que entran y salen.\n",
    "\n",
    "\n",
    "+ **Centralidad de intermediación**: mide la cantidad de caminos que pasan por un nodo.\n",
    "\n",
    "\n",
    "+ **Centralidad de cercanía**: mide la distancia promedio desde un nodo a todos los demás nodos del grafo.\n",
    "<br><br>\n",
    "\n",
    "Para conocer más detalle de las propiedades de los grafos, puedes visitar el siguiente capítulo de la serie XX."
   ]
  },
  {
   "cell_type": "markdown",
   "metadata": {},
   "source": [
    "## Grafos con NetworkX\n",
    "<br>\n",
    "\n",
    "[NetworkX](https://networkx.org/) es una de las librerías de Python más utilizadas para trabajar con grafos y redes. NetworkX permite crear, manipular y analizar grafos de manera eficiente.\n",
    "\n",
    "Una de las principales ventajas de NetworkX es su capacidad para trabajar con grafos de gran tamaño y complejidad, permitiendo manejar grafos con millones de nodos y enlaces. La librería cuenta con una gran variedad de funcionalidades que permiten crear, importar y exportar grafos en múltiples formatos, así como analizar las propiedades de estas redes (grado medio, la densidad, el coeficiente de clustering, el camino más corto entre dos nodos, y muchas otras más). Además, cuenta con una serie de algoritmos para buscar patrones, como la detección de comunidades, detección de centralidad y detección de componentes conectados. Todas estas propiedades se irán viendo en artículos sucesivos.\n",
    "\n",
    "NetworkX también es compatible con otras librerías de Python, como NumPy, SciPy, Matplotlib o Pytorch, lo que permite integrar fácilmente el análisis de redes en un flujo de trabajo de análisis de datos más amplio."
   ]
  },
  {
   "cell_type": "markdown",
   "metadata": {},
   "source": [
    "\n",
    "## Funciones importantes de NetworkX\n",
    "<br>\n",
    "\n",
    "A continuación, se muestra un listado con algunas de las funciones más utilizadas de NetworkX. \n",
    "\n",
    "+ **Creación de grafos**: NetworkX permite crear grafos vacíos o con nodos y enlaces específicos utilizando funciones como `Graph()` (grafos no dirigidos), `DiGraph()` (grafos dirigidos), o incluso para conjuntos de grafos con `MultiGraph()` y `MultiDiGraph()`.\n",
    "\n",
    "\n",
    "+ **Agregar nodos y enlaces**: Se pueden agregar nodos y enlaces a un grafo existente de forma manual, bien uno a uno con `add_node()` y `add_edge()`, o desde una lista con `add_nodes_from()`  y `add_edges_from()`. También pueden añadirse desde un archivo o DataFrame con `from_pandas_edgelist()`. Para grafos ponderados se utiliza la función `add_weighted_edges_from`.\n",
    "\n",
    "\n",
    "+ **Información del grafo**: Se pueden obtener información básica del grafo, como el número de nodos y enlaces, utilizando las funciones `number_of_nodes()`, `number_of_edges()`. Utilizando `nodes()` y `edges()` se accede a la meta-información de nodos y ejes.\n",
    "\n",
    "\n",
    "+ **Vecinos y grado**: Se pueden identificar los vecinos y el grado de un nodo utilizando las funciones: `neighbors()` y `degree()`; para redes dirigidas se utiliza `in_degree()` y `out_degree()`.\n",
    "\n",
    "\n",
    "+ **Centralidad**: Se pueden calcular medidas de centralidad, como la centralidad de grado, la centralidad de intermediación, y la centralidad entre los nodos utilizando las funciones `degree_centrality()`, `betweenness_centrality()` y `closeness_centrality()`.\n",
    "\n",
    "\n",
    "+ **Componentes conectadas**: Se pueden encontrar las componentes conectadas de un grafo utilizando la función `connected_components()`.\n",
    "\n",
    "\n",
    "+ **Lectura y escritura de archivos**: NetworkX permite leer y escribir grafos en varios formatos de archivo utilizando  `read_edgelist()`, `write_edgelist()`, `read_adjlist()` y `write_adjlist()`.\n",
    "\n",
    "\n",
    "+ **Algoritmos de optimización**: NetworkX tiene integrados algoritmos de optimización como el camino más corto y el flujo máximo. Se accede a ellos con las funciones `shortest_path()` y `dijkstra_path()`.\n",
    "\n",
    "\n",
    "+ **Subgrafos**: Se pueden generar subgrafos de un grafo utilizando la función `subgraph()`, dando una lista de nodos como *input*.\n",
    "\n",
    "\n",
    "+ **Operaciones de conjunto**: NetworkX permite realizar operaciones de conjunto en grafos tales como la unión, la intersección y la diferencia utilizando `union()`, `intersection()` y `difference()`.\n",
    "\n",
    "\n",
    "+ **Matriz de adyacencia**: Con la función `nx.adjacency_matrix(G)` se obtiene la matriz de adyacencia de un grafo. Por defecto, está en formato *sparse*, para verla por pantalla hay que utilizar la función `to_dense()` de numpy.\n",
    "\n",
    "\n",
    "+ **Gráfico de grafos**:La función `draw()` permite dibujar grafos utilizando la ibrería Matplotlib."
   ]
  },
  {
   "cell_type": "markdown",
   "metadata": {},
   "source": [
    "\n",
    "## Creación de grafos no dirigidos\n",
    "<br>\n",
    "\n",
    "NetworkX permite crear redes de manera manual, añadiendo los nodos y ejes uno por uno o desde un archivo o un DataFrame que contenga las conexiones. Esto último es especialmente útil cuando se trabaja con datos de redes que ya han sido recopilados y se encuentran en un formato estructurado."
   ]
  },
  {
   "cell_type": "markdown",
   "metadata": {},
   "source": [
    "### Creación manual"
   ]
  },
  {
   "cell_type": "code",
   "execution_count": 14,
   "metadata": {
    "id": "1UJW3sS5K5Rx",
    "outputId": "07f1c833-65d4-4ce7-cf5d-69b761b60845"
   },
   "outputs": [],
   "source": [
    "# Librerías\n",
    "# ======================================================================================\n",
    "import networkx as nx\n",
    "import pandas as pd\n",
    "import warnings\n",
    "import matplotlib.pyplot as plt\n",
    "\n",
    "warnings.filterwarnings(\"ignore\")\n"
   ]
  },
  {
   "cell_type": "markdown",
   "metadata": {},
   "source": [
    "Para crear un grafo en NetworkX, se debe crear un objeto de tipo \"Grafo\" utilizando la función `nx.Graph()`. Esta función crea un grafo vacío, sin nodos ni ejes, al que se pueden agregar elementos más adelante."
   ]
  },
  {
   "cell_type": "code",
   "execution_count": 15,
   "metadata": {},
   "outputs": [
    {
     "name": "stdout",
     "output_type": "stream",
     "text": [
      "Graph with 0 nodes and 0 edges\n"
     ]
    }
   ],
   "source": [
    "# Creación de una instancia de tipo \"Grafo\"\n",
    "# ======================================================================================\n",
    "G = nx.Graph()\n",
    "print(G)\n"
   ]
  },
  {
   "cell_type": "markdown",
   "metadata": {},
   "source": [
    "Se verifica que es un grafo no dirigido."
   ]
  },
  {
   "cell_type": "code",
   "execution_count": 16,
   "metadata": {},
   "outputs": [
    {
     "data": {
      "text/plain": [
       "False"
      ]
     },
     "execution_count": 16,
     "metadata": {},
     "output_type": "execute_result"
    }
   ],
   "source": [
    "G.is_directed()"
   ]
  },
  {
   "cell_type": "markdown",
   "metadata": {},
   "source": [
    "Una vez que el objeto Grafo ha sido creado, se puede poblar con nodos y conexiones. Para ello se utilizan dos métodos:\n",
    "\n",
    "+ `add_node`: añade un único nodo al grafo.\n",
    "\n",
    "\n",
    "+ `add_nodes_from`: añade multiples nodos al grafo.\n",
    "\n",
    "\n",
    "+ `add_edge`: añade un eje entre los nodos *u* y *v*. Si los nodos no existen, se crean y añaden automáticamente al grafo.\n",
    "\n",
    "\n",
    "+ `add_edges_from`: mismo comportamiento que `add_edge` pero utilizando una colección de ejes. Cada eje se define con una tupla (*u*, *v*).\n",
    "\n",
    "El nombre de los nodos puede ser tanto de numérico como caracteres."
   ]
  },
  {
   "cell_type": "code",
   "execution_count": 17,
   "metadata": {},
   "outputs": [
    {
     "name": "stdout",
     "output_type": "stream",
     "text": [
      "Graph with 1 nodes and 0 edges\n"
     ]
    },
    {
     "data": {
      "image/png": "[encoded data removed]",
      "text/plain": [
       "<Figure size 100x100 with 1 Axes>"
      ]
     },
     "metadata": {},
     "output_type": "display_data"
    }
   ],
   "source": [
    "# Añadir un único nodo\n",
    "# ======================================================================================\n",
    "fig, ax = plt.subplots(figsize=(1,1))\n",
    "G.add_node(\"A\")\n",
    "nx.draw(G, with_labels=True, ax=ax)\n",
    "print(G)\n"
   ]
  },
  {
   "cell_type": "code",
   "execution_count": 18,
   "metadata": {},
   "outputs": [
    {
     "name": "stdout",
     "output_type": "stream",
     "text": [
      "Graph with 3 nodes and 0 edges\n"
     ]
    },
    {
     "data": {
      "image/png": "[encoded data removed]",
      "text/plain": [
       "<Figure size 300x200 with 1 Axes>"
      ]
     },
     "metadata": {},
     "output_type": "display_data"
    }
   ],
   "source": [
    "# Añadir multiples nodos\n",
    "# ======================================================================================\n",
    "G.add_nodes_from([\"B\", \"C\"])\n",
    "\n",
    "fig, ax = plt.subplots(figsize=(3, 2))\n",
    "nx.draw(G, with_labels=True, ax=ax)\n",
    "ax.set_xlim([1.2*x for x in ax.get_xlim()])\n",
    "ax.set_ylim([1.2*y for y in ax.get_ylim()])\n",
    "print(G)\n"
   ]
  },
  {
   "cell_type": "code",
   "execution_count": 19,
   "metadata": {},
   "outputs": [
    {
     "name": "stdout",
     "output_type": "stream",
     "text": [
      "Graph with 3 nodes and 1 edges\n"
     ]
    },
    {
     "data": {
      "image/png": "[encoded data removed]",
      "text/plain": [
       "<Figure size 300x200 with 1 Axes>"
      ]
     },
     "metadata": {},
     "output_type": "display_data"
    }
   ],
   "source": [
    "# Añadir un único eje\n",
    "# ======================================================================================\n",
    "G.add_edge(\"A\", \"B\")\n",
    "\n",
    "fig, ax = plt.subplots(figsize=(3, 2))\n",
    "nx.draw(G, with_labels=True, ax=ax)\n",
    "ax.set_xlim([1.2*x for x in ax.get_xlim()])\n",
    "ax.set_ylim([1.2*y for y in ax.get_ylim()])\n",
    "print(G)\n"
   ]
  },
  {
   "cell_type": "code",
   "execution_count": 20,
   "metadata": {},
   "outputs": [
    {
     "name": "stdout",
     "output_type": "stream",
     "text": [
      "Graph with 3 nodes and 3 edges\n"
     ]
    },
    {
     "data": {
      "image/png": "[encoded data removed]",
      "text/plain": [
       "<Figure size 300x200 with 1 Axes>"
      ]
     },
     "metadata": {},
     "output_type": "display_data"
    }
   ],
   "source": [
    "# Añadir múltiples ejes\n",
    "# ======================================================================================\n",
    "G.add_edges_from([(\"A\", \"C\"), (\"B\", \"C\")])\n",
    "\n",
    "fig, ax = plt.subplots(figsize=(3, 2))\n",
    "nx.draw(G, with_labels=True, ax=ax)\n",
    "ax.set_xlim([1.2*x for x in ax.get_xlim()])\n",
    "ax.set_ylim([1.2*y for y in ax.get_ylim()])\n",
    "print(G)\n"
   ]
  },
  {
   "cell_type": "markdown",
   "metadata": {},
   "source": [
    "Si se añade una conexión cuyos nodos no existen, se crean automáticamente."
   ]
  },
  {
   "cell_type": "code",
   "execution_count": 21,
   "metadata": {},
   "outputs": [
    {
     "name": "stdout",
     "output_type": "stream",
     "text": [
      "Graph with 6 nodes and 5 edges\n"
     ]
    },
    {
     "data": {
      "image/png": "[encoded data removed]",
      "text/plain": [
       "<Figure size 400x400 with 1 Axes>"
      ]
     },
     "metadata": {},
     "output_type": "display_data"
    }
   ],
   "source": [
    "G.add_edges_from([(\"D\", \"E\"), (\"E\", \"F\")])\n",
    "\n",
    "fig, ax = plt.subplots(figsize=(4, 4))\n",
    "nx.draw(G, with_labels=True, ax=ax)\n",
    "ax.set_xlim([1.2*x for x in ax.get_xlim()])\n",
    "ax.set_ylim([1.2*y for y in ax.get_ylim()])\n",
    "print(G)\n"
   ]
  },
  {
   "cell_type": "markdown",
   "metadata": {},
   "source": [
    "La matriz de adyacencia correspondiente es:"
   ]
  },
  {
   "cell_type": "code",
   "execution_count": 22,
   "metadata": {},
   "outputs": [
    {
     "data": {
      "text/plain": [
       "matrix([[0, 1, 1, 0, 0, 0],\n",
       "        [1, 0, 1, 0, 0, 0],\n",
       "        [1, 1, 0, 0, 0, 0],\n",
       "        [0, 0, 0, 0, 1, 0],\n",
       "        [0, 0, 0, 1, 0, 1],\n",
       "        [0, 0, 0, 0, 1, 0]])"
      ]
     },
     "execution_count": 22,
     "metadata": {},
     "output_type": "execute_result"
    }
   ],
   "source": [
    "adjM = nx.adjacency_matrix(G)\n",
    "\n",
    "# Se convierte la matriz de formato sparse a dense para poder imprimirla\n",
    "adjM = adjM.todense()\n",
    "adjM\n"
   ]
  },
  {
   "cell_type": "markdown",
   "metadata": {},
   "source": [
    "Y el número de nodos y ejes:"
   ]
  },
  {
   "cell_type": "code",
   "execution_count": 23,
   "metadata": {},
   "outputs": [
    {
     "name": "stdout",
     "output_type": "stream",
     "text": [
      "5\n",
      "6\n"
     ]
    }
   ],
   "source": [
    "print(G.number_of_edges())\n",
    "print(G.number_of_nodes())\n"
   ]
  },
  {
   "cell_type": "markdown",
   "metadata": {
    "id": "Ap7V20e5K5Ry"
   },
   "source": [
    "La información de los nodos y ejes del grafo está almacenada en los attributos `nodes` y `edges`."
   ]
  },
  {
   "cell_type": "code",
   "execution_count": 24,
   "metadata": {},
   "outputs": [
    {
     "name": "stdout",
     "output_type": "stream",
     "text": [
      "Nodos del grafo: ['A', 'B', 'C', 'D', 'E', 'F']\n",
      "Ejes del grafo: [('A', 'B'), ('A', 'C'), ('B', 'C'), ('D', 'E'), ('E', 'F')]\n"
     ]
    }
   ],
   "source": [
    "print(f\"Nodos del grafo: {G.nodes}\")\n",
    "print(f\"Ejes del grafo: {G.edges}\")\n"
   ]
  },
  {
   "cell_type": "markdown",
   "metadata": {
    "id": "us7rV6k7K5Rz"
   },
   "source": [
    "### Creación desde un DataFrame"
   ]
  },
  {
   "cell_type": "markdown",
   "metadata": {
    "id": "i6ZMsUvxK5Rz"
   },
   "source": [
    "Para crear un grafo a partir de un dataframe de pandas, la información tiene que estar estructurada de tal forma que una columna  represente el incio de cada eje y otra el destino. Por ejemplo, para representar que existen dos nodos (\"A\" y \"B\") conectados entre si, se necesita una fila que contenga el valor \"A\" en una columna y \"B\" en otra. Esta información es suficiente para que se creen los dos nodos y la conexión entre ambos."
   ]
  },
  {
   "cell_type": "code",
   "execution_count": 25,
   "metadata": {
    "id": "aUOesR7IK5Rz",
    "outputId": "73e517aa-498d-414c-dd46-bcecabcd54b9"
   },
   "outputs": [
    {
     "data": {
      "text/html": [
       "<div>\n",
       "<style scoped>\n",
       "    .dataframe tbody tr th:only-of-type {\n",
       "        vertical-align: middle;\n",
       "    }\n",
       "\n",
       "    .dataframe tbody tr th {\n",
       "        vertical-align: top;\n",
       "    }\n",
       "\n",
       "    .dataframe thead th {\n",
       "        text-align: right;\n",
       "    }\n",
       "</style>\n",
       "<table border=\"1\" class=\"dataframe\">\n",
       "  <thead>\n",
       "    <tr style=\"text-align: right;\">\n",
       "      <th></th>\n",
       "      <th>inicio</th>\n",
       "      <th>fin</th>\n",
       "    </tr>\n",
       "  </thead>\n",
       "  <tbody>\n",
       "    <tr>\n",
       "      <th>0</th>\n",
       "      <td>A</td>\n",
       "      <td>C</td>\n",
       "    </tr>\n",
       "    <tr>\n",
       "      <th>1</th>\n",
       "      <td>B</td>\n",
       "      <td>C</td>\n",
       "    </tr>\n",
       "    <tr>\n",
       "      <th>2</th>\n",
       "      <td>C</td>\n",
       "      <td>D</td>\n",
       "    </tr>\n",
       "  </tbody>\n",
       "</table>\n",
       "</div>"
      ],
      "text/plain": [
       "  inicio fin\n",
       "0      A   C\n",
       "1      B   C\n",
       "2      C   D"
      ]
     },
     "execution_count": 25,
     "metadata": {},
     "output_type": "execute_result"
    }
   ],
   "source": [
    "# Dataframe con las conexiones del grafo\n",
    "# ======================================================================================\n",
    "conexiones = pd.DataFrame(\n",
    "    {\n",
    "        \"inicio\": [\"A\", \"B\", \"C\"],\n",
    "        \"fin\": [\"C\", \"C\", \"D\"],\n",
    "    }\n",
    ")\n",
    "conexiones\n"
   ]
  },
  {
   "cell_type": "markdown",
   "metadata": {},
   "source": [
    "En la función `from_pandas_edgelist` se indica la columna de origen y destino (para grafos no dirigidos, se elige un origen indistintamente)."
   ]
  },
  {
   "cell_type": "code",
   "execution_count": 26,
   "metadata": {
    "id": "0jsyqRxTK5R0",
    "outputId": "6028df3b-9523-4492-a78c-e0c28d58d9d8"
   },
   "outputs": [
    {
     "data": {
      "image/png": "[encoded data removed]",
      "text/plain": [
       "<Figure size 300x200 with 1 Axes>"
      ]
     },
     "metadata": {},
     "output_type": "display_data"
    }
   ],
   "source": [
    "# Crear un grafo a partir de un Dataframe\n",
    "# ======================================================================================\n",
    "fig, ax = plt.subplots(figsize=(3,2))\n",
    "G = nx.from_pandas_edgelist(conexiones, source=\"inicio\", target=\"fin\")\n",
    "nx.draw(G, with_labels=True, ax=ax)\n"
   ]
  },
  {
   "cell_type": "markdown",
   "metadata": {},
   "source": [
    "## Creación de grafos dirigidos"
   ]
  },
  {
   "cell_type": "markdown",
   "metadata": {},
   "source": [
    "### Creación manual"
   ]
  },
  {
   "cell_type": "markdown",
   "metadata": {},
   "source": [
    "Como se ha explicado anteriormente, los enlaces de los grafos dirigidos tienen una dirección definida (los enlaces de estos grafos se representan con una flecha). El proceso de creación de un grafo dirigido es esquivalente al de un grafos no dirigido pero utilizando `DiGraph` en luigar de `Graph`."
   ]
  },
  {
   "cell_type": "code",
   "execution_count": 27,
   "metadata": {},
   "outputs": [
    {
     "data": {
      "image/png": "[encoded data removed]",
      "text/plain": [
       "<Figure size 300x200 with 1 Axes>"
      ]
     },
     "metadata": {},
     "output_type": "display_data"
    }
   ],
   "source": [
    "# Creación de un grafo dirigido\".\n",
    "# ======================================================================================\n",
    "G = nx.DiGraph()\n",
    "\n",
    "# Conexiones\n",
    "G.add_edges_from([(1, 2), (2, 3), (1, 4), (1, 5), (4, 2), (5, 4)])\n",
    "\n",
    "# Representación gráfica\n",
    "fig, ax = plt.subplots(figsize=(3,2))\n",
    "nx.draw(G, with_labels=True, ax=ax)\n"
   ]
  },
  {
   "cell_type": "markdown",
   "metadata": {},
   "source": [
    "Se verifica que sí es un grafo dirigido."
   ]
  },
  {
   "cell_type": "code",
   "execution_count": 28,
   "metadata": {},
   "outputs": [
    {
     "data": {
      "text/plain": [
       "True"
      ]
     },
     "execution_count": 28,
     "metadata": {},
     "output_type": "execute_result"
    }
   ],
   "source": [
    "G.is_directed()"
   ]
  },
  {
   "cell_type": "markdown",
   "metadata": {},
   "source": [
    "### Creación desde un DataFrame"
   ]
  },
  {
   "cell_type": "markdown",
   "metadata": {},
   "source": [
    "El proceso de creación de un grafo dirigido desde un DataFrame es equivalente al de los grafos no dirigidos mostrado en el apartado anterior, con la única diferencia de que se ha de indicar el argumento `create_using = nx.DiGraph`."
   ]
  },
  {
   "cell_type": "code",
   "execution_count": 29,
   "metadata": {
    "id": "MwV2isIlK5R0",
    "outputId": "b33057ab-56b2-4f6b-9ccc-9f8a80d6305c"
   },
   "outputs": [
    {
     "data": {
      "image/png": "[encoded data removed]",
      "text/plain": [
       "<Figure size 300x200 with 1 Axes>"
      ]
     },
     "metadata": {},
     "output_type": "display_data"
    }
   ],
   "source": [
    "# Crear un grafo dirigido a partir de un Dataframe\n",
    "# ======================================================================================\n",
    "G = nx.from_pandas_edgelist(\n",
    "    conexiones,\n",
    "    source = \"inicio\",\n",
    "    target = \"fin\",\n",
    "    create_using = nx.DiGraph\n",
    ")\n",
    "fig, ax = plt.subplots(figsize=(3,2))\n",
    "nx.draw(G, with_labels=True, ax=ax)\n"
   ]
  },
  {
   "cell_type": "markdown",
   "metadata": {},
   "source": [
    "Al tratarse de un grafo dirigido, su matriz de adjacencia no es simétrica."
   ]
  },
  {
   "cell_type": "code",
   "execution_count": 30,
   "metadata": {},
   "outputs": [
    {
     "data": {
      "text/plain": [
       "matrix([[0, 1, 0, 0],\n",
       "        [0, 0, 0, 1],\n",
       "        [0, 1, 0, 0],\n",
       "        [0, 0, 0, 0]])"
      ]
     },
     "execution_count": 30,
     "metadata": {},
     "output_type": "execute_result"
    }
   ],
   "source": [
    "adjM = nx.adjacency_matrix(G)\n",
    "adjM = adjM.todense()\n",
    "adjM"
   ]
  },
  {
   "cell_type": "markdown",
   "metadata": {},
   "source": [
    "## Distancia entre dos nodos\n",
    "<br>\n",
    "\n",
    "\n",
    "Para obtener la distancia de orden 2 entre cualquier par de nodos, basta con multiplicar la matriz de adyacencia por sí misma. Si la multiplicamos por sí misma `n` veces, obtenemos la matriz de distancias de orden `n`. "
   ]
  },
  {
   "cell_type": "code",
   "execution_count": 31,
   "metadata": {},
   "outputs": [
    {
     "data": {
      "image/png": "[encoded data removed]",
      "text/plain": [
       "<Figure size 300x200 with 1 Axes>"
      ]
     },
     "metadata": {},
     "output_type": "display_data"
    }
   ],
   "source": [
    "# Creación del grafo\n",
    "G = nx.Graph()\n",
    "\n",
    "# Se añadennodos a grafo\n",
    "G.add_edges_from([(1, 2), (2, 3), (1, 4), (1, 5), (4, 2), (5, 4)])\n",
    "\n",
    "# Representación gráfica\n",
    "fig, ax = plt.subplots(figsize=(3,2))\n",
    "nx.draw(G, with_labels=True, ax=ax)\n"
   ]
  },
  {
   "cell_type": "code",
   "execution_count": 32,
   "metadata": {
    "id": "qv5fPtRnK5R1",
    "outputId": "3f4c48b3-ea84-4a8e-d279-28bd002c0b6d"
   },
   "outputs": [
    {
     "data": {
      "text/plain": [
       "matrix([[0, 1, 0, 1, 1],\n",
       "        [1, 0, 1, 1, 0],\n",
       "        [0, 1, 0, 0, 0],\n",
       "        [1, 1, 0, 0, 1],\n",
       "        [1, 0, 0, 1, 0]])"
      ]
     },
     "execution_count": 32,
     "metadata": {},
     "output_type": "execute_result"
    }
   ],
   "source": [
    "# Matrix de adyacencia\n",
    "adjM = nx.adjacency_matrix(G).todense()\n",
    "adjM\n"
   ]
  },
  {
   "cell_type": "markdown",
   "metadata": {},
   "source": [
    "La matriz de distancia de orden 2 muestra todos los pares de nodos que están conectados con un nodo intermedio. En el ejemplo, los nodos `2` y `5` tienen entre medias los nodos `4` y `1`, es decir, existen dos caminos posibles de orden 2 que los conectan: el `2-4-5` y el `2-1-5`. Por ese motivo, si se multiplica la matriz de adyacencia por sí misma, el elemento [2, 5] de la matriz de distancias tiene el valor 2. Lo que indica que existen dos caminos de distancia 2 entre los nodos 2 y 5.\n"
   ]
  },
  {
   "cell_type": "code",
   "execution_count": 33,
   "metadata": {},
   "outputs": [
    {
     "data": {
      "text/plain": [
       "matrix([[3, 1, 1, 2, 1],\n",
       "        [1, 3, 0, 1, 2],\n",
       "        [1, 0, 1, 1, 0],\n",
       "        [2, 1, 1, 3, 1],\n",
       "        [1, 2, 0, 1, 2]])"
      ]
     },
     "execution_count": 33,
     "metadata": {},
     "output_type": "execute_result"
    }
   ],
   "source": [
    "# Multiplicación de la matriz por sí misma de forma matricial\n",
    "distancias_orden_dos = adjM @ adjM\n",
    "distancias_orden_dos"
   ]
  },
  {
   "cell_type": "code",
   "execution_count": 34,
   "metadata": {},
   "outputs": [
    {
     "name": "stdout",
     "output_type": "stream",
     "text": [
      "Caminos de orden dos entre los nodos 2 y 5 = 2\n"
     ]
    }
   ],
   "source": [
    "# Los indices en python empiezan en 0\n",
    "print(f\"Caminos de orden dos entre los nodos 2 y 5 = {distancias_orden_dos[1, 4]}\")"
   ]
  },
  {
   "cell_type": "markdown",
   "metadata": {},
   "source": [
    "También se puede calcular el camino más corto (shortest path) utilizando directamente la función `nx.shortest_path`."
   ]
  },
  {
   "cell_type": "code",
   "execution_count": 35,
   "metadata": {},
   "outputs": [
    {
     "data": {
      "text/plain": [
       "[2, 1, 5]"
      ]
     },
     "execution_count": 35,
     "metadata": {},
     "output_type": "execute_result"
    }
   ],
   "source": [
    "nx.shortest_path(G, source=2, target=5)\n"
   ]
  },
  {
   "cell_type": "markdown",
   "metadata": {
    "id": "ROa5hFD5K5R2"
   },
   "source": [
    "## Grafo ponderado\n",
    "<br>\n",
    "\n",
    "En un grafo ponderado, los ejes del grafo tienen un peso asociado. En la representación gráfica de este tipo de redes, los ejes se suelen mostrar con una anchura distinta en función de su peso."
   ]
  },
  {
   "cell_type": "code",
   "execution_count": 36,
   "metadata": {
    "id": "91z2frnYK5R2",
    "outputId": "750fb7dd-f94e-4109-c298-ceab0cde3697"
   },
   "outputs": [
    {
     "data": {
      "text/plain": [
       "EdgeDataView([(1, 2, {'weight': 0.5}), (1, 4, {'weight': 0.1}), (1, 5, {'weight': 0.75}), (2, 3, {'weight': 0.9}), (2, 4, {'weight': 0.01}), (4, 5, {'weight': 0.3})])"
      ]
     },
     "execution_count": 36,
     "metadata": {},
     "output_type": "execute_result"
    }
   ],
   "source": [
    "# Creacion del grafo\n",
    "G = nx.Graph()\n",
    "\n",
    "# Nodos y vonexiones\n",
    "G.add_weighted_edges_from(\n",
    "    [(1, 2, 0.5),\n",
    "    (2, 3, 0.9),\n",
    "    (1, 4, 0.1),\n",
    "    (1, 5, 0.75),\n",
    "    (4, 2, 0.01),\n",
    "    (5, 4, 0.3)]\n",
    ")\n",
    "G.edges(data=True)"
   ]
  },
  {
   "cell_type": "code",
   "execution_count": 37,
   "metadata": {},
   "outputs": [
    {
     "data": {
      "text/plain": [
       "False"
      ]
     },
     "execution_count": 37,
     "metadata": {},
     "output_type": "execute_result"
    }
   ],
   "source": [
    "# Se verifica que es un grafo no dirigido y ponderado\n",
    "G.is_directed()"
   ]
  },
  {
   "cell_type": "code",
   "execution_count": 38,
   "metadata": {},
   "outputs": [
    {
     "data": {
      "text/plain": [
       "True"
      ]
     },
     "execution_count": 38,
     "metadata": {},
     "output_type": "execute_result"
    }
   ],
   "source": [
    "nx.is_weighted(G)"
   ]
  },
  {
   "cell_type": "code",
   "execution_count": 39,
   "metadata": {},
   "outputs": [
    {
     "data": {
      "text/plain": [
       "[(1, 2, {'weight': 0.5}),\n",
       " (1, 4, {'weight': 0.1}),\n",
       " (1, 5, {'weight': 0.75}),\n",
       " (2, 3, {'weight': 0.9}),\n",
       " (2, 4, {'weight': 0.01}),\n",
       " (4, 5, {'weight': 0.3})]"
      ]
     },
     "execution_count": 39,
     "metadata": {},
     "output_type": "execute_result"
    }
   ],
   "source": [
    "# Se muestra el peso de cada eje, así como los nodos que conecta\n",
    "[a for a in G.edges(data=True)]"
   ]
  },
  {
   "cell_type": "markdown",
   "metadata": {},
   "source": [
    "Para extraer los pesos, se itera sobre cada eje y se accede al tercer elemento de la tupla."
   ]
  },
  {
   "cell_type": "code",
   "execution_count": 40,
   "metadata": {},
   "outputs": [
    {
     "data": {
      "text/plain": [
       "[0.5, 0.1, 0.75, 0.9, 0.01, 0.3]"
      ]
     },
     "execution_count": 40,
     "metadata": {},
     "output_type": "execute_result"
    }
   ],
   "source": [
    "weights = [a[2][\"weight\"] for a in G.edges(data=True)]\n",
    "weights"
   ]
  },
  {
   "cell_type": "markdown",
   "metadata": {},
   "source": [
    "Para dibujar un grafo ponderado con NetworkX, es necesario dibujar por separado nodos y ejes. En primer lugar se utiliza un utilizando un *graph layout* que define la posición de los nodos. Una vez definida su posición se representan los nodos y los ejes. Para este ejemplo se utiliza el *spring_layout*, pero hay [muchos más](https://networkx.org/documentation/stable/reference/drawing.html#module-networkx.drawing.layout)."
   ]
  },
  {
   "cell_type": "code",
   "execution_count": 41,
   "metadata": {},
   "outputs": [
    {
     "data": {
      "image/png": "[encoded data removed]",
      "text/plain": [
       "<Figure size 300x200 with 1 Axes>"
      ]
     },
     "metadata": {},
     "output_type": "display_data"
    }
   ],
   "source": [
    "# Definir la posición de los nodos utilizando un layout\n",
    "pos = nx.spring_layout(G)\n",
    "\n",
    "# Representar nodos y ejes\n",
    "fig, ax = plt.subplots(figsize=(3,2))\n",
    "nx.draw_networkx_nodes(\n",
    "    G,\n",
    "    pos = pos,\n",
    "    ax = ax\n",
    ")\n",
    "nx.draw_networkx_edges(\n",
    "    G,\n",
    "    pos = pos,\n",
    "    edgelist = G.edges,\n",
    "    width = weights,\n",
    "    ax = ax\n",
    ");"
   ]
  },
  {
   "cell_type": "markdown",
   "metadata": {},
   "source": [
    "**Otros tipos de layout**"
   ]
  },
  {
   "cell_type": "markdown",
   "metadata": {},
   "source": [
    "\n",
    "\n",
    "<p align=\"center\"><img src=\"../imagenes/networkx-layout.png\" style=\"width: 700px\"></p>\n",
    "\n",
    "<center><font size='2.5'>\n",
    "<i>Ejemplos de los layouts más utilizados.</i>\n",
    "</font></center>\n"
   ]
  },
  {
   "cell_type": "markdown",
   "metadata": {},
   "source": [
    "Representar de forma separada los nodos y ejes permite tener más control sobre las caracteristicas visuales, por ejemplo, el color de los nodos y ejes. "
   ]
  },
  {
   "cell_type": "code",
   "execution_count": 42,
   "metadata": {},
   "outputs": [
    {
     "data": {
      "image/png": "[encoded data removed]",
      "text/plain": [
       "<Figure size 300x300 with 1 Axes>"
      ]
     },
     "metadata": {},
     "output_type": "display_data"
    }
   ],
   "source": [
    "pos = nx.circular_layout(G)\n",
    "\n",
    "fig, ax = plt.subplots(figsize=(3,3))\n",
    "nx.draw_networkx_nodes(G, pos=pos, node_color=\"red\", ax=ax)\n",
    "nx.draw_networkx_edges(G, pos=pos, edgelist=G.edges, width=weights, edge_color=\"blue\", ax=ax);\n"
   ]
  },
  {
   "cell_type": "markdown",
   "metadata": {
    "id": "EF6X8aPTK5R2"
   },
   "source": [
    "## Grafo bipartito\n",
    "<br>\n",
    "\n",
    "Cuando los nodos de un grafo representan entidades de distinta naturaleza se utiliza el termino grafo bipartito. Un ejemplo común de este típo de grafos son las redes de publicaciones donde existen nodos de tipo \"artículo\" y otros de tipo \"escritor\". \n",
    "\n",
    "En este tipo de grafos, las conexiones únicamente puden ocurrir entre nodos de distinta naturaleza, cada escritor está conectado a los artículos que ha escrito. No pueden existir conexiones directas entre artículos o entre escritores."
   ]
  },
  {
   "cell_type": "markdown",
   "metadata": {},
   "source": [
    "Para crear un grafo bipartito NetworkX se utiliza el método `add_nodes_from()` con el que se agregan los nodos indicando el tipo con el argumento `bipartite` y luego se utiliza el método `add_edges_from()` para agregar las relaciones entre ellos. A continuación, se muesra un ejemplo de cómo crear un grafo bipartito con dos conjuntos de nodos llamados \"grupo A\" y \"grupo B\"."
   ]
  },
  {
   "cell_type": "code",
   "execution_count": 43,
   "metadata": {},
   "outputs": [],
   "source": [
    "# Crear un grafo bipartito vacío\n",
    "G_peliculas_actores = nx.Graph()\n",
    "\n",
    "# Agregar los nodos de cada grupo\n",
    "G_peliculas_actores.add_nodes_from([\"Pelicula_1\", \"Pelicula_2\", \"Pelicula_3\"], bipartite=\"Peliculas\")\n",
    "G_peliculas_actores.add_nodes_from([\"Actor_1\", \"Actor_2\", \"Actor_3\"], bipartite=\"Actores\")\n",
    "\n",
    "# Agregar las relaciones entre los nodos\n",
    "G_peliculas_actores.add_edges_from(\n",
    "    [\n",
    "        (\"Pelicula_1\", \"Actor_1\"),\n",
    "        (\"Pelicula_2\", \"Actor_2\"),\n",
    "        (\"Pelicula_3\", \"Actor_3\"),\n",
    "        (\"Pelicula_2\", \"Actor_3\"),\n",
    "        (\"Pelicula_2\", \"Actor_1\"),\n",
    "    ]\n",
    ")"
   ]
  },
  {
   "cell_type": "code",
   "execution_count": 44,
   "metadata": {},
   "outputs": [
    {
     "data": {
      "text/plain": [
       "NodeDataView({'Pelicula_1': {'bipartite': 'Peliculas'}, 'Pelicula_2': {'bipartite': 'Peliculas'}, 'Pelicula_3': {'bipartite': 'Peliculas'}, 'Actor_1': {'bipartite': 'Actores'}, 'Actor_2': {'bipartite': 'Actores'}, 'Actor_3': {'bipartite': 'Actores'}})"
      ]
     },
     "execution_count": 44,
     "metadata": {},
     "output_type": "execute_result"
    }
   ],
   "source": [
    "G_peliculas_actores.nodes(data=True)"
   ]
  },
  {
   "cell_type": "markdown",
   "metadata": {},
   "source": [
    "Para acceder al tipo de cada nodo se recorre cada nodo y se accede al attributo `\"bipartite\"`."
   ]
  },
  {
   "cell_type": "code",
   "execution_count": 45,
   "metadata": {},
   "outputs": [
    {
     "data": {
      "text/plain": [
       "['Peliculas', 'Peliculas', 'Peliculas', 'Actores', 'Actores', 'Actores']"
      ]
     },
     "execution_count": 45,
     "metadata": {},
     "output_type": "execute_result"
    }
   ],
   "source": [
    "tipo_nodo = [\n",
    "    G_peliculas_actores.nodes[i][\"bipartite\"]\n",
    "    for i in G_peliculas_actores.nodes()\n",
    "]\n",
    "tipo_nodo\n"
   ]
  },
  {
   "cell_type": "code",
   "execution_count": 46,
   "metadata": {},
   "outputs": [
    {
     "ename": "NameError",
     "evalue": "name 'B' is not defined",
     "output_type": "error",
     "traceback": [
      "\u001b[0;31m---------------------------------------------------------------------------\u001b[0m",
      "\u001b[0;31mNameError\u001b[0m                                 Traceback (most recent call last)",
      "Cell \u001b[0;32mIn[46], line 7\u001b[0m\n\u001b[1;32m      3\u001b[0m colores_nodos \u001b[39m=\u001b[39m [colores[n] \u001b[39mfor\u001b[39;00m n \u001b[39min\u001b[39;00m tipo_nodo]\n\u001b[1;32m      5\u001b[0m fig, ax \u001b[39m=\u001b[39m plt\u001b[39m.\u001b[39msubplots(figsize\u001b[39m=\u001b[39m(\u001b[39m5\u001b[39m, \u001b[39m4\u001b[39m))\n\u001b[1;32m      6\u001b[0m nx\u001b[39m.\u001b[39mdraw(\n\u001b[0;32m----> 7\u001b[0m     B,\n\u001b[1;32m      8\u001b[0m     pos\u001b[39m=\u001b[39mnx\u001b[39m.\u001b[39mspring_layout(G_peliculas_actores),\n\u001b[1;32m      9\u001b[0m     with_labels\u001b[39m=\u001b[39m\u001b[39mTrue\u001b[39;00m,\n\u001b[1;32m     10\u001b[0m     node_color\u001b[39m=\u001b[39mcolores_nodos,\n\u001b[1;32m     11\u001b[0m     ax\u001b[39m=\u001b[39max,\n\u001b[1;32m     12\u001b[0m )\n",
      "\u001b[0;31mNameError\u001b[0m: name 'B' is not defined"
     ]
    },
    {
     "data": {
      "image/png": "[encoded data removed]",
      "text/plain": [
       "<Figure size 500x400 with 1 Axes>"
      ]
     },
     "metadata": {},
     "output_type": "display_data"
    }
   ],
   "source": [
    "# colores para cada tipo de nodo en el grafo bipartito\n",
    "colores = {\"Peliculas\": \"red\", \"Actores\": \"blue\"}\n",
    "colores_nodos = [colores[n] for n in tipo_nodo]\n",
    "\n",
    "fig, ax = plt.subplots(figsize=(5, 4))\n",
    "nx.draw(\n",
    "    B,\n",
    "    pos=nx.spring_layout(G_peliculas_actores),\n",
    "    with_labels=True,\n",
    "    node_color=colores_nodos,\n",
    "    ax=ax,\n",
    ")\n"
   ]
  },
  {
   "cell_type": "markdown",
   "metadata": {},
   "source": [
    "En el código anterior se utiliza la función *spring_layout* para posicionar los nodos en el gráfico. Con el arguemento `with_labels=True` se muestran las etiquetas de los nodos y con `node_color`se asigna el color de cada nodo."
   ]
  },
  {
   "cell_type": "markdown",
   "metadata": {},
   "source": [
    "Una vez que creado el grafo bipartito, se puede hacer una proyección de éste para obtener un grafo no bipartito que contenga sólo los nodos de uno de los conjuntos. Para hacer esto, se emplea el método `project()` especificando el conjunto de nodos que se desea incluir en la proyección. A continuación se genera una proyección del grafo bipartito para obtener sólo los nodos del grupo 'Actores'."
   ]
  },
  {
   "cell_type": "code",
   "execution_count": null,
   "metadata": {},
   "outputs": [
    {
     "data": {
      "image/png": "[encoded data removed]",
      "text/plain": [
       "<Figure size 400x400 with 1 Axes>"
      ]
     },
     "metadata": {},
     "output_type": "display_data"
    }
   ],
   "source": [
    "# Se identifican los nodos del conjunto de interés\n",
    "nodes_bipartite = [\n",
    "    n[0]\n",
    "    for n in G_peliculas_actores.nodes(data=True)\n",
    "    if n[1][\"bipartite\"] == \"Actores\"\n",
    "]\n",
    "\n",
    "# Proyección del grafo bipartito para obtener sólo los nodos del grupo A\n",
    "G_actores = nx.bipartite.projected_graph(B, nodes_bipartite)\n",
    "\n",
    "fig, ax = plt.subplots(figsize=(4, 4))\n",
    "nx.draw(G_actores, with_labels=True, ax=ax)\n",
    "ax.set_xlim([1.2 * x for x in ax.get_xlim()])\n",
    "ax.set_ylim([1.2 * y for y in ax.get_ylim()])\n"
   ]
  },
  {
   "cell_type": "markdown",
   "metadata": {
    "id": "J-ulgTh9K5R3"
   },
   "source": [
    "## Meta-información: atributos de nodos y ejes\n",
    "<br>\n",
    "\n",
    "En la matoria de los problemas de grafos reales, se dispone de información adicional de nodos y ejes.  Los atributos de los nodos se añaden con el método `networkx.set_node_atributes(Grafo, diccionario, nombre)` y los atributos de los ejes se añaden con el método `networkx.set_edge_atributes()`."
   ]
  },
  {
   "cell_type": "code",
   "execution_count": null,
   "metadata": {
    "id": "TTYVGRkSK5R3",
    "outputId": "0581134a-5fc3-4d39-f9a8-678711dadd28"
   },
   "outputs": [
    {
     "data": {
      "text/plain": [
       "EdgeDataView([(1, 2, {}), (1, 4, {}), (1, 5, {}), (2, 3, {}), (2, 4, {}), (4, 5, {})])"
      ]
     },
     "execution_count": 80,
     "metadata": {},
     "output_type": "execute_result"
    }
   ],
   "source": [
    "# Creación del grafo\n",
    "G = nx.Graph()\n",
    "G.add_edges_from([(1, 2), (2, 3), (1, 4), (1, 5), (4, 2), (5, 4)])\n",
    "G.edges(data=True)"
   ]
  },
  {
   "cell_type": "code",
   "execution_count": null,
   "metadata": {
    "id": "dKRZRCXPK5R3"
   },
   "outputs": [],
   "source": [
    "# Añadir atributos de los nodos\n",
    "node_name = {1: \"Jaime\", 2: \"María\", 3: \"Julio\", 4: \"Rosa\", 5: \"Alberto\"}\n",
    "\n",
    "node_aficiones = {\n",
    "    1: [\"Futbol\"],\n",
    "    2: [\"Baile\", \"Pádel\"],\n",
    "    3: [\"Golf\", \"Baile\"],\n",
    "    4: [\"Cocina\"],\n",
    "    5: [\"Cocina\", \"Jamón\"],\n",
    "}\n",
    "\n",
    "nx.set_node_attributes(G, node_name, name=\"Nombre\")\n",
    "nx.set_node_attributes(G, node_aficiones, name=\"Aficiones\")\n",
    "\n",
    "# añadir atributos de los ejes\n",
    "edges_weight = {\n",
    "    (1, 2): 0.5,\n",
    "    (2, 3): 0.9,\n",
    "    (1, 4): 0.1,\n",
    "    (1, 5): 0.75,\n",
    "    (4, 2): 0.01,\n",
    "    (5, 4): 0.3,\n",
    "}\n",
    "\n",
    "nx.set_edge_attributes(G, edges_weight, name=\"weight\")"
   ]
  },
  {
   "cell_type": "markdown",
   "metadata": {
    "id": "WctYbwK3K5R3"
   },
   "source": [
    "Para acceder a los atributos de nodos y ejes (meta-información) se utiliza `G.nodes(data=True)` o `G.edges(data=True)`. \n",
    "Estos comandos devuelven una estructura en forma de diccionario donde la clave es el nombre del nodo y el valor contiene todos los atributos."
   ]
  },
  {
   "cell_type": "code",
   "execution_count": null,
   "metadata": {
    "id": "BptRWxS2K5R3",
    "outputId": "acf91134-6f83-495e-de2f-b6a6fff353d9"
   },
   "outputs": [
    {
     "data": {
      "text/plain": [
       "NodeDataView({1: {'Nombre': 'Jaime', 'Aficiones': ['Futbol']}, 2: {'Nombre': 'María', 'Aficiones': ['Baile', 'Pádel']}, 3: {'Nombre': 'Julio', 'Aficiones': ['Golf', 'Baile']}, 4: {'Nombre': 'Rosa', 'Aficiones': ['Cocina']}, 5: {'Nombre': 'Alberto', 'Aficiones': ['Cocina', 'Jamón']}})"
      ]
     },
     "execution_count": 82,
     "metadata": {},
     "output_type": "execute_result"
    }
   ],
   "source": [
    "G.nodes(data=True)"
   ]
  },
  {
   "cell_type": "code",
   "execution_count": null,
   "metadata": {
    "id": "dyukUM6JK5R3",
    "outputId": "3b659157-0315-4b07-df20-3376c7421da6"
   },
   "outputs": [
    {
     "data": {
      "text/plain": [
       "EdgeDataView([(1, 2, {'weight': 0.5}), (1, 4, {'weight': 0.1}), (1, 5, {'weight': 0.75}), (2, 3, {'weight': 0.9}), (2, 4, {'weight': 0.01}), (4, 5, {'weight': 0.3})])"
      ]
     },
     "execution_count": 83,
     "metadata": {},
     "output_type": "execute_result"
    }
   ],
   "source": [
    "G.edges(data=True)"
   ]
  },
  {
   "cell_type": "markdown",
   "metadata": {
    "id": "4JDLP0G2K5R3"
   },
   "source": [
    "Los atributos de ejes y nodos se pueden iterar directamente como si se tratase de un diccionario."
   ]
  },
  {
   "cell_type": "code",
   "execution_count": null,
   "metadata": {
    "id": "iw2DaG7tK5R4",
    "outputId": "b7814f5f-e55c-4dd3-ddb9-ea82d4cb5be5"
   },
   "outputs": [
    {
     "name": "stdout",
     "output_type": "stream",
     "text": [
      "Eje que conecte el nodo 1 con el nodo 2 y tiene un peso de 0.5.\n",
      "Eje que conecte el nodo 1 con el nodo 4 y tiene un peso de 0.1.\n",
      "Eje que conecte el nodo 1 con el nodo 5 y tiene un peso de 0.75.\n",
      "Eje que conecte el nodo 2 con el nodo 3 y tiene un peso de 0.9.\n",
      "Eje que conecte el nodo 2 con el nodo 4 y tiene un peso de 0.01.\n",
      "Eje que conecte el nodo 4 con el nodo 5 y tiene un peso de 0.3.\n"
     ]
    }
   ],
   "source": [
    "for m, n, w in G.edges(data=True):\n",
    "    print(\n",
    "        f\"Eje que conecte el nodo {m} con el nodo {n} y tiene un peso de {w['weight']}.\"\n",
    "    )\n"
   ]
  },
  {
   "cell_type": "markdown",
   "metadata": {},
   "source": [
    "## Caso de estudio: círculos sociales de Facebook (Stanford)\n",
    "<br>\n",
    "\n",
    "La base de datos \"Social circles: Facebook\" fue creada por investigadores de la universidad de Stanford en el año 2012. Este conjunto de datos consta de redes de amistad de Facebook. Los datos disponibles incluyen características de nodos (perfiles) y sus conexiones de amistad. Los datos fueron anonimizados reemplazando los nombres y otras identificaciones por un índice numérico. Pueden descargarse de la web de Stanford (https://snap.stanford.edu/data/ego-Facebook.html)."
   ]
  },
  {
   "cell_type": "markdown",
   "metadata": {},
   "source": [
    "### Libreías"
   ]
  },
  {
   "cell_type": "code",
   "execution_count": null,
   "metadata": {},
   "outputs": [],
   "source": [
    "# Librerías\n",
    "# ==============================================================================\n",
    "import pandas as pd\n",
    "import warnings\n",
    "import matplotlib.pyplot as plt\n",
    "import networkx as nx\n",
    "warnings.filterwarnings(\"ignore\")"
   ]
  },
  {
   "cell_type": "markdown",
   "metadata": {},
   "source": [
    "### Lectura de los datos"
   ]
  },
  {
   "cell_type": "code",
   "execution_count": null,
   "metadata": {},
   "outputs": [],
   "source": [
    "# Lectura de datos\n",
    "# ==============================================================================\n",
    "facebook = pd.read_csv(\n",
    "    \"../data/facebook_combined.txt\",\n",
    "    header=None,\n",
    "    sep=\" \",\n",
    "    names=[\"user_1\", \"user_2\"],\n",
    ")"
   ]
  },
  {
   "cell_type": "markdown",
   "metadata": {},
   "source": [
    "Los datos consisten en una lista de ejes entre usuarios, cada fila es una relacción de amistad. Para reducir los requerimientos computacionales, en este ejemplo se emplean únicamente las 2000 primeras conexiones."
   ]
  },
  {
   "cell_type": "code",
   "execution_count": null,
   "metadata": {},
   "outputs": [
    {
     "data": {
      "text/html": [
       "<div>\n",
       "<style scoped>\n",
       "    .dataframe tbody tr th:only-of-type {\n",
       "        vertical-align: middle;\n",
       "    }\n",
       "\n",
       "    .dataframe tbody tr th {\n",
       "        vertical-align: top;\n",
       "    }\n",
       "\n",
       "    .dataframe thead th {\n",
       "        text-align: right;\n",
       "    }\n",
       "</style>\n",
       "<table border=\"1\" class=\"dataframe\">\n",
       "  <thead>\n",
       "    <tr style=\"text-align: right;\">\n",
       "      <th></th>\n",
       "      <th>user_1</th>\n",
       "      <th>user_2</th>\n",
       "    </tr>\n",
       "  </thead>\n",
       "  <tbody>\n",
       "    <tr>\n",
       "      <th>0</th>\n",
       "      <td>0</td>\n",
       "      <td>1</td>\n",
       "    </tr>\n",
       "    <tr>\n",
       "      <th>1</th>\n",
       "      <td>0</td>\n",
       "      <td>2</td>\n",
       "    </tr>\n",
       "    <tr>\n",
       "      <th>2</th>\n",
       "      <td>0</td>\n",
       "      <td>3</td>\n",
       "    </tr>\n",
       "    <tr>\n",
       "      <th>3</th>\n",
       "      <td>0</td>\n",
       "      <td>4</td>\n",
       "    </tr>\n",
       "    <tr>\n",
       "      <th>4</th>\n",
       "      <td>0</td>\n",
       "      <td>5</td>\n",
       "    </tr>\n",
       "  </tbody>\n",
       "</table>\n",
       "</div>"
      ],
      "text/plain": [
       "   user_1  user_2\n",
       "0       0       1\n",
       "1       0       2\n",
       "2       0       3\n",
       "3       0       4\n",
       "4       0       5"
      ]
     },
     "execution_count": 4,
     "metadata": {},
     "output_type": "execute_result"
    }
   ],
   "source": [
    "facebook = facebook[:2000]\n",
    "facebook.head()"
   ]
  },
  {
   "cell_type": "markdown",
   "metadata": {},
   "source": [
    "Al ser relaciones de amistad y no tener direccionalidad, se representan mediante un grafo no direccional."
   ]
  },
  {
   "cell_type": "code",
   "execution_count": null,
   "metadata": {},
   "outputs": [],
   "source": [
    "# Creación de grafo\n",
    "# ==============================================================================\n",
    "G_facebook = nx.from_pandas_edgelist(facebook, source=\"user_1\", target=\"user_2\", create_using=nx.Graph())"
   ]
  },
  {
   "cell_type": "markdown",
   "metadata": {},
   "source": [
    "### Información del grafo\n"
   ]
  },
  {
   "cell_type": "markdown",
   "metadata": {},
   "source": [
    "Se muestra la información sobre la estructura del grafo."
   ]
  },
  {
   "cell_type": "code",
   "execution_count": null,
   "metadata": {},
   "outputs": [
    {
     "name": "stdout",
     "output_type": "stream",
     "text": [
      "Número de nodos: 713\n",
      "Número de enlaces: 2000\n"
     ]
    }
   ],
   "source": [
    "print(\"Número de nodos:\", G_facebook.number_of_nodes())\n",
    "print(\"Número de enlaces:\", G_facebook.number_of_edges())"
   ]
  },
  {
   "cell_type": "markdown",
   "metadata": {},
   "source": [
    "### Visualización de la red"
   ]
  },
  {
   "cell_type": "markdown",
   "metadata": {},
   "source": [
    "Al visualizar la red se observa que hay tres comunidades de usuarios: \n",
    "\n",
    "- Dos grandes conjuntos de usuarios altamente conectados.\n",
    "\n",
    "- Un grupo de unos pocos nodos centrales, algunos de los cuales conectan los otros dos grandes grupos."
   ]
  },
  {
   "cell_type": "code",
   "execution_count": null,
   "metadata": {},
   "outputs": [
    {
     "data": {
      "image/png": "[encoded data removed]",
      "text/plain": [
       "<Figure size 900x500 with 1 Axes>"
      ]
     },
     "metadata": {},
     "output_type": "display_data"
    }
   ],
   "source": [
    "fig, ax = plt.subplots(figsize=(9, 5))\n",
    "spring_pos = nx.spring_layout(G_facebook)\n",
    "nx.draw_networkx(\n",
    "    G_facebook, pos=spring_pos, with_labels=False, node_size=15, ax=ax\n",
    ")\n"
   ]
  },
  {
   "cell_type": "markdown",
   "metadata": {},
   "source": [
    "### Vecinos y grado"
   ]
  },
  {
   "cell_type": "markdown",
   "metadata": {},
   "source": [
    "Para cualquier nodo del grafo, se puede conocer quienes son sus vecinos y su grado (el número de vecinos que tiene el nodo). "
   ]
  },
  {
   "cell_type": "code",
   "execution_count": null,
   "metadata": {},
   "outputs": [
    {
     "name": "stdout",
     "output_type": "stream",
     "text": [
      "Vecinos del nodo {nodo_id}: [0, 78, 152, 181, 195, 218, 273, 275, 306, 328]\n",
      "Grado del nodo {nodo_id}: 10\n"
     ]
    }
   ],
   "source": [
    "nodo_id = 4\n",
    "vecinos = list(G_facebook.neighbors(nodo_id))\n",
    "print(\"Vecinos del nodo {nodo_id}:\", vecinos)\n",
    "\n",
    "grado = G_facebook.degree[nodo_id]\n",
    "print(\"Grado del nodo {nodo_id}:\", grado)"
   ]
  },
  {
   "cell_type": "markdown",
   "metadata": {},
   "source": [
    "Utilizando la función `subgraph`, se pueden extraer el nodo y sus vecinos, y analizaros con mayor detalle."
   ]
  },
  {
   "cell_type": "code",
   "execution_count": null,
   "metadata": {},
   "outputs": [
    {
     "data": {
      "image/png": "[encoded data removed]",
      "text/plain": [
       "<Figure size 700x400 with 1 Axes>"
      ]
     },
     "metadata": {},
     "output_type": "display_data"
    }
   ],
   "source": [
    "nodos = vecinos + [nodo_id]\n",
    "G_s = nx.subgraph(G_facebook, nodos)\n",
    "\n",
    "fig, ax = plt.subplots(figsize=(7, 4))\n",
    "nx.draw_networkx(G_s, pos=spring_pos, with_labels=True, node_size=200, node_color='r', ax=ax)"
   ]
  },
  {
   "cell_type": "markdown",
   "metadata": {},
   "source": [
    "### Centralidad\n",
    "<br>\n",
    "\n",
    "Como se ha descrito anteriormente, la centralidad es un concepto utilizado para medir la importancia de los nodos en un grafo."
   ]
  },
  {
   "cell_type": "code",
   "execution_count": null,
   "metadata": {},
   "outputs": [
    {
     "name": "stdout",
     "output_type": "stream",
     "text": [
      "Centralidad de grado: 0.014044943820224719\n",
      "Centralidad de intermediación: 4.345833530871221e-05\n",
      "Centralidad de cercanía: 0.40022484541877457\n"
     ]
    }
   ],
   "source": [
    "# Métricas de centralidad para un único nodo\n",
    "# ==============================================================================\n",
    "nodo_id = 4\n",
    "\n",
    "# 1. **Centralidad de grado**\n",
    "# Se basa en el número de enlaces que tiene un nodo. Es el número de enlaces que entran y salen de un nodo.\n",
    "centralidad_grado = nx.degree_centrality(G_facebook)\n",
    "print(\"Centralidad de grado:\", centralidad_grado[nodo_id])\n",
    "\n",
    "# 2. **Centralidad de intermediación**\n",
    "# Mide la cantidad de caminos que pasan por un nodo.\n",
    "centralidad_intermediacion = nx.betweenness_centrality(G_facebook)\n",
    "print(\"Centralidad de intermediación:\", centralidad_intermediacion[nodo_id])\n",
    "\n",
    "# 3. **Centralidad de cercanía**\n",
    "# Mide la distancia promedio desde un nodo a todos los demás nodos del grafo.\n",
    "centralidad_cercania = nx.closeness_centrality(G_facebook)\n",
    "print(\"Centralidad de cercanía:\", centralidad_cercania[nodo_id])\n"
   ]
  },
  {
   "cell_type": "code",
   "execution_count": null,
   "metadata": {},
   "outputs": [
    {
     "data": {
      "text/html": [
       "<div>\n",
       "<style scoped>\n",
       "    .dataframe tbody tr th:only-of-type {\n",
       "        vertical-align: middle;\n",
       "    }\n",
       "\n",
       "    .dataframe tbody tr th {\n",
       "        vertical-align: top;\n",
       "    }\n",
       "\n",
       "    .dataframe thead th {\n",
       "        text-align: right;\n",
       "    }\n",
       "</style>\n",
       "<table border=\"1\" class=\"dataframe\">\n",
       "  <thead>\n",
       "    <tr style=\"text-align: right;\">\n",
       "      <th></th>\n",
       "      <th>grado</th>\n",
       "      <th>intermediacion</th>\n",
       "      <th>cercania</th>\n",
       "    </tr>\n",
       "  </thead>\n",
       "  <tbody>\n",
       "    <tr>\n",
       "      <th>0</th>\n",
       "      <td>0.487360</td>\n",
       "      <td>0.704019</td>\n",
       "      <td>0.661096</td>\n",
       "    </tr>\n",
       "    <tr>\n",
       "      <th>1</th>\n",
       "      <td>0.023876</td>\n",
       "      <td>0.000119</td>\n",
       "      <td>0.401806</td>\n",
       "    </tr>\n",
       "    <tr>\n",
       "      <th>2</th>\n",
       "      <td>0.014045</td>\n",
       "      <td>0.000026</td>\n",
       "      <td>0.400225</td>\n",
       "    </tr>\n",
       "    <tr>\n",
       "      <th>3</th>\n",
       "      <td>0.023876</td>\n",
       "      <td>0.000079</td>\n",
       "      <td>0.401806</td>\n",
       "    </tr>\n",
       "    <tr>\n",
       "      <th>4</th>\n",
       "      <td>0.014045</td>\n",
       "      <td>0.000043</td>\n",
       "      <td>0.400225</td>\n",
       "    </tr>\n",
       "    <tr>\n",
       "      <th>...</th>\n",
       "      <td>...</td>\n",
       "      <td>...</td>\n",
       "      <td>...</td>\n",
       "    </tr>\n",
       "    <tr>\n",
       "      <th>1222</th>\n",
       "      <td>0.001404</td>\n",
       "      <td>0.000000</td>\n",
       "      <td>0.401127</td>\n",
       "    </tr>\n",
       "    <tr>\n",
       "      <th>1223</th>\n",
       "      <td>0.001404</td>\n",
       "      <td>0.000000</td>\n",
       "      <td>0.401127</td>\n",
       "    </tr>\n",
       "    <tr>\n",
       "      <th>1224</th>\n",
       "      <td>0.001404</td>\n",
       "      <td>0.000000</td>\n",
       "      <td>0.401127</td>\n",
       "    </tr>\n",
       "    <tr>\n",
       "      <th>1225</th>\n",
       "      <td>0.001404</td>\n",
       "      <td>0.000000</td>\n",
       "      <td>0.401127</td>\n",
       "    </tr>\n",
       "    <tr>\n",
       "      <th>1226</th>\n",
       "      <td>0.001404</td>\n",
       "      <td>0.000000</td>\n",
       "      <td>0.401127</td>\n",
       "    </tr>\n",
       "  </tbody>\n",
       "</table>\n",
       "<p>713 rows × 3 columns</p>\n",
       "</div>"
      ],
      "text/plain": [
       "         grado  intermediacion  cercania\n",
       "0     0.487360        0.704019  0.661096\n",
       "1     0.023876        0.000119  0.401806\n",
       "2     0.014045        0.000026  0.400225\n",
       "3     0.023876        0.000079  0.401806\n",
       "4     0.014045        0.000043  0.400225\n",
       "...        ...             ...       ...\n",
       "1222  0.001404        0.000000  0.401127\n",
       "1223  0.001404        0.000000  0.401127\n",
       "1224  0.001404        0.000000  0.401127\n",
       "1225  0.001404        0.000000  0.401127\n",
       "1226  0.001404        0.000000  0.401127\n",
       "\n",
       "[713 rows x 3 columns]"
      ]
     },
     "execution_count": 12,
     "metadata": {},
     "output_type": "execute_result"
    }
   ],
   "source": [
    "# Métricas de centralidad para todos los nodos\n",
    "# ==============================================================================\n",
    "grado = pd.DataFrame.from_dict(centralidad_grado, orient='index',columns=[\"grado\"])\n",
    "intermendiacion = pd.DataFrame.from_dict(centralidad_intermediacion, orient='index',columns=[\"intermediacion\"])\n",
    "cercania = pd.DataFrame.from_dict(centralidad_cercania, orient='index',columns=[\"cercania\"])\n",
    "centralidad = pd.concat([grado, intermendiacion, cercania], axis=1)\n",
    "centralidad"
   ]
  },
  {
   "cell_type": "markdown",
   "metadata": {},
   "source": [
    "Se puede observar que, por norma general, los nodos con alta centralidad de grado, también tienen alta centralidad de intermediación. Sin embargo, se pueden encontar algunos nodos que tienen alta intermeciación pero bajo grado. \n",
    "\n",
    "En este grafo, se pueden observar cuatro nodos con alta intermediación y bajo grado. Estos cuatro nodos son los cuatro nodos que estaban entre los dos grandes grupos de usuarios."
   ]
  },
  {
   "cell_type": "code",
   "execution_count": null,
   "metadata": {},
   "outputs": [
    {
     "data": {
      "image/png": "[encoded data removed]",
      "text/plain": [
       "<Figure size 600x300 with 1 Axes>"
      ]
     },
     "metadata": {},
     "output_type": "display_data"
    }
   ],
   "source": [
    "fig, ax = plt.subplots(figsize=(6, 3))\n",
    "centralidad.plot.scatter(x=\"grado\", y=\"intermediacion\", ax=ax)\n",
    "ax.set_xscale('log')\n",
    "ax.set_yscale('log')"
   ]
  },
  {
   "cell_type": "markdown",
   "metadata": {},
   "source": [
    "## Visualización avanzada de redes\n",
    "<br>\n",
    "\n",
    "Existen otras librerías con las que se pueden visualizar redes mucho más grandes de forma muy eficiente e interactiva. En próximos artículos se mostrarán con detalle las principales alternativas."
   ]
  },
  {
   "cell_type": "markdown",
   "metadata": {},
   "source": [
    "\n",
    "\n",
    "<p align=\"center\"><img src=\"../imagenes/Facebook-nf.png\" style=\"width: 700px\"></p>\n",
    "\n",
    "<center><font size='2.5'>\n",
    "<i>Representación generada con Netwulf.</i>\n",
    "</font></center>\n"
   ]
  },
  {
   "cell_type": "markdown",
   "metadata": {
    "id": "l-bIsAQgK5R9"
   },
   "source": [
    "## Información de sesión"
   ]
  },
  {
   "cell_type": "code",
   "execution_count": 79,
   "metadata": {},
   "outputs": [
    {
     "name": "stdout",
     "output_type": "stream",
     "text": [
      "-----\n",
      "matplotlib          3.6.3\n",
      "networkx            3.0\n",
      "netwulf             0.1.5\n",
      "pandas              1.5.3\n",
      "session_info        1.0.0\n",
      "-----\n",
      "IPython             8.9.0\n",
      "jupyter_client      8.0.2\n",
      "jupyter_core        5.2.0\n",
      "notebook            6.2.0\n",
      "-----\n",
      "Python 3.9.16 (main, Jan 11 2023, 16:05:54) [GCC 11.2.0]\n",
      "Linux-5.15.0-1028-aws-x86_64-with-glibc2.31\n",
      "-----\n",
      "Session information updated at 2023-02-11 16:42\n"
     ]
    }
   ],
   "source": [
    "import session_info\n",
    "session_info.show(html=False)"
   ]
  },
  {
   "cell_type": "markdown",
   "metadata": {},
   "source": [
    "## Bibliografía\n",
    "<br>\n",
    "\n",
    "Network Science - Albert-László Barabási\n",
    "\n",
    "https://towardsdatascience.com/graph-machine-learning-with-python-pt-1-basics-metrics-and-algorithms-cc40972de113\n",
    "\n",
    "https://towardsdatascience.com/graph-machine-learning-with-python-pt-2-random-graphs-and-diffusion-models-of-cryptopunks-trading-99cd5170b5ea\n",
    "\n",
    "https://towardsdatascience.com/graph-machine-learning-with-python-part-3-unsupervised-learning-aa2854fe0ff2\n",
    "\n",
    "https://ericmjl.github.io/Network-Analysis-Made-Simple/01-introduction/03-viz/\n",
    "\n",
    "http://networksciencebook.com/\n"
   ]
  },
  {
   "cell_type": "markdown",
   "metadata": {},
   "source": [
    "**¿Cómo citar este documento?**\n",
    "\n",
    "<p style=\"text-align:left\"><font size=\"3\" color=\"#555\">\n",
    "Introducción a grafos y redes con Python por Fernando Carazo y Joaquín Amat, available under a Attribution 4.0 International (CC BY 4.0) at https://www.cienciadedatos.net/documentos/pygml01-introduccion-grafos-redes-python.html\n",
    "\n",
    "    \n",
    "</font></p>"
   ]
  },
  {
   "cell_type": "markdown",
   "metadata": {},
   "source": [
    "<a rel=\"license\" href=\"http://creativecommons.org/licenses/by/4.0/\"><img alt=\"Creative Commons Licence\" style=\"border-width:0\" src=\"https://i.creativecommons.org/l/by/4.0/88x31.png\" /></a><br />This work by Fernando Carazo and Joaquín Amat is licensed under a <a rel=\"license\" href=\"http://creativecommons.org/licenses/by/4.0/\">Creative Commons Attribution 4.0 International License</a>."
   ]
  },
  {
   "cell_type": "code",
   "execution_count": null,
   "metadata": {
    "ExecuteTime": {
     "end_time": "2022-10-15T10:18:30.231210Z",
     "start_time": "2022-10-15T10:18:30.220787Z"
    },
    "code_folding": [],
    "hide_input": true,
    "remove_cell": true,
    "tags": [
     "\"hide_input\""
    ]
   },
   "outputs": [
    {
     "data": {
      "text/html": [
       "<style>\n",
       ".text_cell_render p {\n",
       "    text-align: justify;\n",
       "    font-family: 'Open Sans','Helvetica Neue',Helvetica,Arial,sans-serif;\n",
       "    line-height: 1.5;\n",
       "    font-weight: 400;\n",
       "    text-shadow: none;\n",
       "    color: #333333;\n",
       "    text-rendering: optimizeLegibility;\n",
       "    letter-spacing: +0.1px;\n",
       "    margin-bottom: 1.15rem;\n",
       "    font-size: 1.15em\n",
       "}\n",
       "\n",
       "#notebook-container {\n",
       "    background-color: #fcfcfc;\n",
       "}\n",
       "\n",
       "div.inner_cell {\n",
       "    margin-right: 5%;\n",
       "}\n",
       "\n",
       ".output_png {\n",
       "        display: table-cell;\n",
       "        text-align: center;\n",
       "        vertical-align: middle;\n",
       "}\n",
       "\n",
       ".rendered_html code {\n",
       "    background-color: #f2f2f2;\n",
       "    font-family: monospace;\n",
       "    color: #a20505;\n",
       "    font-size: 15px;\n",
       "    padding: 1px 1px;\n",
       "    border: solid;\n",
       "    border-color: darkgray;\n",
       "    border-width: thin;\n",
       "}\n",
       "\n",
       ".rendered_html h1 {\n",
       "    padding-top: 50px;\n",
       "}\n",
       "\n",
       ".rendered_html h2 {\n",
       "    font-size: 30px;\n",
       "    margin-top: 0;\n",
       "    font-size: 2.488em;\n",
       "}\n",
       "\n",
       ".rendered_html h3 {\n",
       "    font-size: 25px;\n",
       "}\n",
       "\n",
       ".rendered_html h4 {\n",
       "    font-size: 20px;\n",
       "}\n",
       "\n",
       "</style>\n"
      ],
      "text/plain": [
       "<IPython.core.display.HTML object>"
      ]
     },
     "metadata": {},
     "output_type": "display_data"
    }
   ],
   "source": [
    "%%html\n",
    "<style>\n",
    ".text_cell_render p {\n",
    "    text-align: justify;\n",
    "    font-family: 'Open Sans','Helvetica Neue',Helvetica,Arial,sans-serif;\n",
    "    line-height: 1.5;\n",
    "    font-weight: 400;\n",
    "    text-shadow: none;\n",
    "    color: #333333;\n",
    "    text-rendering: optimizeLegibility;\n",
    "    letter-spacing: +0.1px;\n",
    "    margin-bottom: 1.15rem;\n",
    "    font-size: 1.15em\n",
    "}\n",
    "\n",
    "#notebook-container {\n",
    "    background-color: #fcfcfc;\n",
    "}\n",
    "\n",
    "div.inner_cell {\n",
    "    margin-right: 5%;\n",
    "}\n",
    "\n",
    ".output_png {\n",
    "        display: table-cell;\n",
    "        text-align: center;\n",
    "        vertical-align: middle;\n",
    "}\n",
    "\n",
    ".rendered_html code {\n",
    "    background-color: #f2f2f2;\n",
    "    font-family: monospace;\n",
    "    color: #a20505;\n",
    "    font-size: 15px;\n",
    "    padding: 1px 1px;\n",
    "    border: solid;\n",
    "    border-color: darkgray;\n",
    "    border-width: thin;\n",
    "}\n",
    "\n",
    ".rendered_html h1 {\n",
    "    padding-top: 50px;\n",
    "}\n",
    "\n",
    ".rendered_html h2 {\n",
    "    font-size: 30px;\n",
    "    margin-top: 0;\n",
    "    font-size: 2.488em;\n",
    "}\n",
    "\n",
    ".rendered_html h3 {\n",
    "    font-size: 25px;\n",
    "}\n",
    "\n",
    ".rendered_html h4 {\n",
    "    font-size: 20px;\n",
    "}\n",
    "\n",
    "</style>"
   ]
  }
 ],
 "metadata": {
  "colab": {
   "provenance": []
  },
  "kernelspec": {
   "display_name": "Python 3 (ipykernel)",
   "language": "python",
   "name": "python3"
  },
  "language_info": {
   "codemirror_mode": {
    "name": "ipython",
    "version": 3
   },
   "file_extension": ".py",
   "mimetype": "text/x-python",
   "name": "python",
   "nbconvert_exporter": "python",
   "pygments_lexer": "ipython3",
   "version": "3.10.9"
  },
  "toc": {
   "base_numbering": 1,
   "nav_menu": {},
   "number_sections": false,
   "sideBar": true,
   "skip_h1_title": true,
   "title_cell": "Tabla de contenidos",
   "title_sidebar": "Tabla de contenidos",
   "toc_cell": false,
   "toc_position": {
    "height": "calc(100% - 180px)",
    "left": "10px",
    "top": "150px",
    "width": "511.575px"
   },
   "toc_section_display": true,
   "toc_window_display": true
  },
  "vscode": {
   "interpreter": {
    "hash": "9c3117aef5e50d9c3a15ab70a76fbaced96e5bce13fc3a9f4b8d42ebad56ea88"
   }
  }
 },
 "nbformat": 4,
 "nbformat_minor": 1
}
