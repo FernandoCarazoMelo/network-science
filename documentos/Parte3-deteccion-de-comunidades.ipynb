{
  "cells": [
    {
      "attachments": {},
      "cell_type": "markdown",
      "metadata": {},
      "source": [
        "<h1><center><font size=\"25\">Graph Machine Learning: Grafos</font></center></h1>"
      ]
    },
    {
      "attachments": {},
      "cell_type": "markdown",
      "metadata": {},
      "source": [
        "<center><b>Fernando Carazo</b></center>\n",
        "\n",
        "<center><i>Enero, 2023</i></center>"
      ]
    },
    {
      "attachments": {},
      "cell_type": "markdown",
      "metadata": {},
      "source": [
        "## Introducción"
      ]
    },
    {
      "attachments": {},
      "cell_type": "markdown",
      "metadata": {
        "id": "w8wDyzUoK5R8"
      },
      "source": [
        "Un problema muy común en teoría de grafos es el de identificar grupos de nodos similares dentro de un grafo. Este problema también se le conoce como detección de comunidades. La detección de comunidades tiene muchísimas aplicaciones en diversos sectores. Un ejemplo muy conocido es el de detectar grupos de usuarios en una red social con intereses similares a los que dirigir una campaña de marqueting personalizada.\n",
        "\n",
        "\n",
        "## Detección de comunidades\n",
        "La detección de comunidades en teoría de grafos se refiere a la tarea de encontrar grupos o comunidades de nodos en un grafo que están más conectados entre sí que con el resto del grafo. Esto puede ser útil para entender mejor la estructura de un grafo y cómo están conectados sus nodos. La detección de comunidades se considera un problema importante en el análisis de redes y ha sido objeto de muchos estudios en la teoría de grafos.\n",
        "\n",
        "Existen muchos algoritmos diferentes para detectar comunidades en un grafo, y el algoritmo adecuado depende del tipo de grafo y del problema en cuestión. Algunos de los algoritmos más comunes y relevantes son:\n",
        "\n",
        "- Algoritmo de Louvain: este algoritmo es uno de los más populares y se basa en la idea de optimización modularidad, que busca maximizar el número de enlaces dentro de una comunidad y minimizar el número de enlaces entre comunidades.\n",
        "\n",
        "- Algoritmo de Girvan-Newman: este algoritmo se basa en la idea de eliminar gradualmente las aristas que conectan las comunidades, hasta que queden subgrafos desconectados que representan las comunidades.\n",
        "\n",
        "- Algoritmo de Infomap: este algoritmo se basa en la idea de que los nodos de una comunidad tienen una probabilidad más alta de ser visitados por un recorrido aleatorio que los nodos del resto del grafo.\n",
        "\n",
        "El algoritmo de Louvain es uno de los algoritmos más populares y eficientes para detectar comunidades en un grafo. Es una buena opción en situaciones en las que se desea encontrar comunidades en un grafo de manera rápida y eficiente. También es una buena opción cuando se desea encontrar comunidades que sean compactas y bien definidas. Además, el algoritmo de Louvain es fácil de implementar y puede manejar grafos grandes y complejos con eficiencia."
      ]
    },
    {
      "cell_type": "markdown",
      "metadata": {
        "id": "cgfOZdl1K5R8"
      },
      "source": [
        "## Modularidad\n",
        "\n",
        "El algoritmo de Louvain tiene como objetivo optimizar la modularidad. La modularidad es una medida que se utiliza en la teoría de grafos para evaluar la calidad de una partición de un grafo en comunidades. Esta medida busca maximizar el número de enlaces dentro de una comunidad y minimizar el número de enlaces entre comunidades.\n",
        "\n",
        "La modularidad se define como la diferencia entre el número de enlaces dentro de las comunidades y el número esperado de enlaces si los enlaces se distribuyeran de manera aleatoria en el grafo. Una alta modularidad indica que las comunidades encontradas tienen más conexiones que las esperadas por azar y,  por tanto, las comunidades son compactas y bien definidas, lo que es deseable en muchos casos. \n",
        "\n",
        "La modularidad tiene un rango de valores entre -0,5 y 1 y se define mediante la siguiente fórmula:\n",
        "\n",
        "$$\n",
        "Q=\\frac{1}{2 m} \\sum_{i j}\\left[A_{i j}-\\frac{k_i k_j}{2 m}\\right] \\delta\\left(c_i, c_j\\right)\n",
        "$$\n",
        "dónde\n",
        "- $A_{i j}$ matriz de adyacencia (nodos $i$ y $j$). Puede ser de un grafo ponderado.;\n",
        "- $k_i$ y $k_j$ son la suma de los pesos de la matriz de adyacencia de los ejes que conectan a los nodos $i$ y $j$, respectivamente;\n",
        "- $m$ es la suma de todos los pesos de la matriz de adyacencia (en un grafo no ponderado, es el número de ejes);\n",
        "- $c_i$ y $c_j$ son las comunidades a las que pertenecen los nodos $i$ y $j$; y\n",
        "- $\\delta$ es la función delta de Kronecker ( $\\delta(x, y)=1$ si $x=y, 0$ en caso contrario), de tal forma que la fórmula sólo aplica si los nodos pertenecen a la misma comunidad.\n",
        "\n",
        "En la siguiente imagen se muestran varios ejemplos de modularidad con distintas particiones. Se puede observar que la mejor partición es la de modularidad más alta."
      ]
    },
    {
      "cell_type": "markdown",
      "metadata": {
        "id": "04Bya2hzK5R8"
      },
      "source": [
        "![](https://github.com/fcarazo/network-science/blob/master/docs/img/06_modularity-graph-database-1.png?raw=true)"
      ]
    },
    {
      "cell_type": "markdown",
      "metadata": {
        "id": "switEBJZK5R8"
      },
      "source": [
        "## Algoritmo de Louvain\n",
        "\n",
        "El algoritmo de [Louvain](https://perso.uclouvain.be/vincent.blondel/research/louvain.html) es uno de los algoritmos más populares y eficientes para detectar comunidades en un grafo. Se basa en la idea de optimización modularidad, que busca maximizar el número de enlaces dentro de una comunidad y minimizar el número de enlaces entre comunidades.\n",
        "\n",
        "El algoritmo de Louvain se divide en dos fases: una fase de agrupamiento y una fase de refinamiento. \n",
        "\n",
        "- En la fase de agrupamiento, se comienza agrupando todos los nodos del grafo en una sola comunidad. Luego, se itera sobre cada nodo del grafo y se calcula la ganancia en modularidad que se obtendría al mover el nodo a una comunidad diferente. Si se obtiene una ganancia positiva, se mueve el nodo a la comunidad correspondiente. Esto se repite hasta que ya no se pueden obtener ganancias adicionales.\n",
        "\n",
        "- la fase de refinamiento se aplica después de la fase de agrupamiento. Su objetivo es mejorar aún más la partición del grafo en comunidades encontrada en la fase de agrupamiento. Esta fase se realiza utilizando técnicas de agrupamiento jerárquico. Esto significa que se divide cada comunidad en subcomunidades, y luego se vuelve a calcular la modularidad de la partición resultante. Si se obtiene una ganancia positiva en modularidad, se mantiene la partición. Si no se obtiene una ganancia, se vuelve a la partición anterior. Esta etapa se repite hasta que ya no se pueden obtener ganancias adicionales en modularidad. \n",
        "\n",
        "Al final de esta fase, se obtiene una partición final del grafo en comunidades que es más compacta y bien definida que la obtenida en la fase de agrupamiento.\n",
        "\n",
        "El algoritmo de Louvain fue propuesto por primera vez en un artículo titulado \"Fast unfolding of communities in large networks\" (\"Despliegue rápido de comunidades en grandes redes\"), publicado en la revista \"Journal of Statistical Mechanics: Theory and Experiment\" en 2008. En la siguiente imagen extraída del artículo, se resume el algoritmo.\n"
      ]
    },
    {
      "cell_type": "markdown",
      "metadata": {
        "id": "StS-U1IsK5R8"
      },
      "source": [
        "![](https://github.com/fcarazo/network-science/blob/master/docs/img/07_louvain.png?raw=true)"
      ]
    },
    {
      "cell_type": "markdown",
      "metadata": {
        "id": "gmjCEKjvK5R8"
      },
      "source": [
        "## Detección de comunidades con Python\n",
        "\n",
        "El algoritmo de Louvain se puede utilizar con Python utilizando el paquete de código abierto \"Community\". Este paquete se puede instalar utilizando el administrador de paquetes de Python, pip, de la siguiente manera:\n",
        "\n",
        "\n",
        "`pip install python-louvain`"
      ]
    },
    {
      "cell_type": "markdown",
      "metadata": {
        "id": "255r50xhK5R8"
      },
      "source": [
        "Una vez que se ha instalado el paquete, se puede importar el módulo community_louvain. Puede encontrar más documentación asociada con la función a la que nos referiremos aquí [4].\n",
        "\n",
        "Esto debería devolver las comunidades asociadas detectadas desde G en forma de diccionario. Las claves del diccionario son los nodos y los valores corresponden a la comunidad a la que pertenece ese nodo.\n",
        "\n"
      ]
    },
    {
      "cell_type": "code",
      "execution_count": null,
      "metadata": {
        "id": "Dy_SnLIuK5R8",
        "outputId": "8aac3a47-a7ec-4673-bad8-903183b746de"
      },
      "outputs": [
        {
          "data": {
            "text/plain": [
              "dict_items([(0, 0), (1, 0), (2, 0), (3, 0), (4, 0), (5, 0), (6, 0), (7, 0), (8, 0), (9, 0), (10, 1), (11, 1), (12, 1), (13, 2), (14, 2), (15, 2), (16, 2), (17, 2), (18, 2), (19, 2), (20, 2), (21, 2), (22, 2)])"
            ]
          },
          "execution_count": 31,
          "metadata": {},
          "output_type": "execute_result"
        }
      ],
      "source": [
        "# pip install python-louvain\n",
        "\n",
        "from community import community_louvain\n",
        "\n",
        "\n",
        "# calculamos con el \n",
        "comms = community_louvain.best_partition(G, random_state=999)\n",
        "comms.items()"
      ]
    },
    {
      "cell_type": "markdown",
      "metadata": {
        "id": "ADis_sNJK5R9"
      },
      "source": [
        "## Visualización de comunidades"
      ]
    },
    {
      "cell_type": "markdown",
      "metadata": {
        "id": "DoO-_ocRK5R9"
      },
      "source": [
        "Filmente podemos visualizar las comunidades. Con este código coloreamos los nodos en base a las comunidades calculadas anteriormente:"
      ]
    },
    {
      "cell_type": "code",
      "execution_count": null,
      "metadata": {
        "id": "aVfsws2gK5R9",
        "outputId": "f1d54379-a62d-4a6c-8b8a-000f39c7cb51"
      },
      "outputs": [
        {
          "data": {
            "image/png": "[encoded data removed]",
            "text/plain": [
              "<Figure size 640x480 with 1 Axes>"
            ]
          },
          "metadata": {},
          "output_type": "display_data"
        }
      ],
      "source": [
        "import matplotlib.colors as mcolors\n",
        "\n",
        "# Color de los nodos\n",
        "cmap = dict(list(enumerate(mcolors.TABLEAU_COLORS.values())))\n",
        "node_cmap = [cmap[v] for v in comms.values()]\n",
        "\n",
        "nx.draw_networkx(G, node_color= node_cmap)"
      ]
    },
    {
      "cell_type": "markdown",
      "metadata": {
        "id": "Nr9HAGnZK5R9"
      },
      "source": [
        "# Trabajo futuro\n",
        "- 01 - Sistema de recomendación con graph machine learning\n",
        "- 02 - GNNs\n",
        "- 03 - Dynamic GNNs"
      ]
    },
    {
      "cell_type": "markdown",
      "metadata": {
        "id": "zaePMZZhK5R9"
      },
      "source": [
        "# References"
      ]
    },
    {
      "cell_type": "markdown",
      "metadata": {
        "id": "jfnE_NiTK5R9"
      },
      "source": [
        "\n",
        "\n",
        "https://towardsdatascience.com/graph-machine-learning-with-python-pt-1-basics-metrics-and-algorithms-cc40972de113\n",
        "\n",
        "https://towardsdatascience.com/graph-machine-learning-with-python-pt-2-random-graphs-and-diffusion-models-of-cryptopunks-trading-99cd5170b5ea\n",
        "\n",
        "https://towardsdatascience.com/graph-machine-learning-with-python-part-3-unsupervised-learning-aa2854fe0ff2\n",
        "\n",
        "https://ericmjl.github.io/Network-Analysis-Made-Simple/01-introduction/03-viz/\n",
        "\n",
        "http://networksciencebook.com/\n",
        "\n"
      ]
    },
    {
      "attachments": {},
      "cell_type": "markdown",
      "metadata": {
        "id": "l-bIsAQgK5R9"
      },
      "source": [
        "## Información de sesión"
      ]
    },
    {
      "cell_type": "code",
      "execution_count": null,
      "metadata": {},
      "outputs": [],
      "source": [
        "from sinfo import sinfo\n",
        "sinfo()"
      ]
    },
    {
      "attachments": {},
      "cell_type": "markdown",
      "metadata": {},
      "source": [
        "## Bibliografía\n",
        "<br>\n",
        "\n",
        "Linear Models with R by Julian J.Faraway [libro](https://www.amazon.es/gp/product/1439887330/ref=as_li_qf_asin_il_tl?ie=UTF8&tag=cienciadedato-21&creative=24630&linkCode=as2&creativeASIN=1439887330&linkId=e9ca62e854567fb3f9d0ea044f084b11)"
      ]
    },
    {
      "attachments": {},
      "cell_type": "markdown",
      "metadata": {},
      "source": [
        "**¿Cómo citar este documento?**\n",
        "\n",
        "<p style=\"text-align:left\"><font size=\"3\" color=\"#555\">\n",
        "Graph Machine Learning: Grafos by Fernando Carazo, available under a Attribution 4.0 International (CC BY 4.0) at https://www.cienciadedatos.net/documentos/\n",
        "\n",
        "    \n",
        "</font></p>"
      ]
    },
    {
      "attachments": {},
      "cell_type": "markdown",
      "metadata": {},
      "source": [
        "<a rel=\"license\" href=\"http://creativecommons.org/licenses/by/4.0/\"><img alt=\"Creative Commons Licence\" style=\"border-width:0\" src=\"https://i.creativecommons.org/l/by/4.0/88x31.png\" /></a><br />This work by Fernando Carazo is licensed under a <a rel=\"license\" href=\"http://creativecommons.org/licenses/by/4.0/\">Creative Commons Attribution 4.0 International License</a>."
      ]
    },
    {
      "attachments": {},
      "cell_type": "markdown",
      "metadata": {},
      "source": [
        "%%html\n",
        "<style>\n",
        ".text_cell_render p {\n",
        "    text-align: justify;\n",
        "    font-family: 'Open Sans','Helvetica Neue',Helvetica,Arial,sans-serif;\n",
        "    #font-size: 16px;\n",
        "    line-height: 1.5;\n",
        "    font-weight: 400;\n",
        "    text-shadow: none;\n",
        "    color: #333333;\n",
        "    text-rendering: optimizeLegibility;\n",
        "    letter-spacing: +0.1px;\n",
        "    margin-bottom: 1.15rem;\n",
        "    font-size: 1.15em\n",
        "}\n",
        "\n",
        "#notebook-container {\n",
        "    background-color: #fcfcfc;\n",
        "}\n",
        "\n",
        "div.inner_cell {\n",
        "    margin-right: 5%;\n",
        "}\n",
        "\n",
        ".output_png {\n",
        "        display: table-cell;\n",
        "        text-align: center;\n",
        "        vertical-align: middle;\n",
        "}\n",
        "\n",
        ".rendered_html code {\n",
        "    background-color: #f2f2f2;\n",
        "    font-family: monospace;\n",
        "    color: #a20505;\n",
        "    font-size: 15px;\n",
        "    #font-size: 1em;\n",
        "    padding: 1px 1px;\n",
        "    border: solid;\n",
        "    border-color: darkgray;\n",
        "    border-width: thin;\n",
        "}\n",
        "\n",
        ".rendered_html h1 {\n",
        "    padding-top: 50px;\n",
        "}\n",
        "\n",
        ".rendered_html h2 {\n",
        "    font-size: 30px\n",
        "    margin-top: 0;\n",
        "    font-size: 2.488em;\n",
        "}\n",
        "\n",
        ".rendered_html h3 {\n",
        "    font-size: 25px;\n",
        "}\n",
        "\n",
        ".rendered_html h4 {\n",
        "    font-size: 20px;\n",
        "}\n",
        "\n",
        "</style>"
      ]
    }
  ],
  "metadata": {
    "colab": {
      "provenance": []
    },
    "kernelspec": {
      "display_name": "base",
      "language": "python",
      "name": "python3"
    },
    "language_info": {
      "codemirror_mode": {
        "name": "ipython",
        "version": 3
      },
      "file_extension": ".py",
      "mimetype": "text/x-python",
      "name": "python",
      "nbconvert_exporter": "python",
      "pygments_lexer": "ipython3",
      "version": "3.9.12"
    },
    "toc": {
      "base_numbering": 1,
      "nav_menu": {},
      "number_sections": true,
      "sideBar": true,
      "skip_h1_title": false,
      "title_cell": "Table of Contents",
      "title_sidebar": "Contents",
      "toc_cell": false,
      "toc_position": {},
      "toc_section_display": true,
      "toc_window_display": false
    },
    "vscode": {
      "interpreter": {
        "hash": "d7288e82646d3164eca24130947288f8779d11454649f2c02a5dfc42af7f324c"
      }
    }
  },
  "nbformat": 4,
  "nbformat_minor": 0
}
