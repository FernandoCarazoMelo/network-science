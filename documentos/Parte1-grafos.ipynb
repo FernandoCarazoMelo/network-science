{
  "cells": [
    {
      "attachments": {},
      "cell_type": "markdown",
      "metadata": {},
      "source": [
        "<h1><center><font size=\"25\">Introducción a grafos y redes con Python</font></center></h1>"
      ]
    },
    {
      "attachments": {},
      "cell_type": "markdown",
      "metadata": {},
      "source": [
        "<center><b>Fernando Carazo</b></center>\n",
        "\n",
        "<center><i>Enero, 2023</i></center>"
      ]
    },
    {
      "attachments": {},
      "cell_type": "markdown",
      "metadata": {},
      "source": [
        "## Introducción"
      ]
    },
    {
      "attachments": {},
      "cell_type": "markdown",
      "metadata": {
        "id": "jBGmnpqwK5Ru"
      },
      "source": [
        "Una de las últimas tendencias en el campo de la inteligencia artificial es *Graph Machine Learning*. Esta rama del machine learning se centra en aplicar algoritmos de analítica avanzada al estudio de redes o grafos.\n",
        "\n",
        "Los grafos son estructuras de datos compuesta por nodos y enlaces que se utilizan para representar relaciones entre objetos. Si utilizamos el ejemplo de una red social, los nodos representarían a los usuarios y los enlaces la amistad o seguimiento entre los usuarios de dicha red social. Utilizando el Graph Machine Learning podremos realizar tareas como detectar los usuarios más populares, predecir futuras amistades o detectar comunidades de amigos con intereses parecidos.\n",
        "\n",
        "En esta serie de artículos aprenderemos las bases del Graph Machine Learning y resolveremos problemas utilizando las librerías de grafos más importantes de Python como [NetworkX](https://networkx.org/) [PyTorch Geometric](https://pytorch-geometric.readthedocs.io/en/latest/), [Stellargraph](https://stellargraph.readthedocs.io/en/v0.8.3/quickstart.html) o [Graph Neural Networks](https://en.wikipedia.org/wiki/Graph_neural_network) (GNNs)."
      ]
    },
    {
      "attachments": {},
      "cell_type": "markdown",
      "metadata": {},
      "source": [
        "<p align=\"center\"><img src=\"https://upload.wikimedia.org/wikipedia/commons/d/d2/Internet_map_1024.jpg\" style=\"width: 400px\"></p>\n",
        "\n",
        "<center><font size='2.5'>\n",
        "<i>Figura 1. Mapa parcial de Internet basado en la información obtenida del sitio opte.org el 15 de enero de 2005. Cada linea dibujada entre dos nodos representa el enlace entre dos direcciones IP. La longitud de las líneas es proporcional al tiempo de espera entre los nodos. La imagen representa 30% de las redes accesibles en el año 2005.</i>\n",
        "</font></center>\n"
      ]
    },
    {
      "attachments": {},
      "cell_type": "markdown",
      "metadata": {
        "id": "SVcr85GxK5Rv"
      },
      "source": [
        "## Tipos de Grafos\n",
        "\n",
        "Los grafos se desriben por sus nodos y los enlaces entre dichos nodos. El número total de nodos de un grafo se representa con la letra *N* y el número de links con la *L*. Existen varios tipos de grafos en relación al tipo de relación que existe entre sus nodos, cada uno de ellos permite modelar distintas problemas:\n",
        "\n",
        "- **Grafos no dirigidos**: los enlaces no tienen dirección, es decir, si un nodo A está conectado a un nodo B, entonces B también está conectado a A. Un ejemplo de un grafo no dirigido podría ser una red social donde los usuarios están conectados entre sí a través de amistad.\n",
        "\n",
        "- **Grafos dirigidos**: los enlaces tienen una dirección, es decir, si un nodo A está conectado a un nodo B, no necesariamente B estará conectado a A. Un ejemplo de un grafo dirigido podría ser una red de seguimiento en una red social, donde un usuario sigue a otro pero no necesariamente es seguido de vuelta.\n",
        "\n",
        "- **Grafos ponderados**: los enlaces tienen un peso asociado, que representa la importancia o la intensidad de la relación entre los nodos. Un ejemplo de un grafo ponderado podría ser una red de ciudades donde los enlaces representan las rutas de transporte y el peso representa la distancia entre dos ciudades.\n",
        "\n",
        "<p align=\"center\"><img src=\"../docs/img/08_grafo-ciudades.png\" style=\"width: 400px\"></p>\n",
        "\n",
        "<center><font size='2.5'>\n",
        "<i>Figura 3. Ejemplo de un grafo ponderado.</i>\n",
        "</font></center>\n",
        "\n",
        "- **Grafos bipartitos**: los nodos se dividen en dos conjuntos disjuntos, y solo se permiten enlaces entre nodos de diferentes conjuntos. Un ejemplo de grafo bipartito podría ser una red de películas y actores, donde los nodos de un conjunto son las películas y los nodos del otro conjunto son los actores, y solo se permiten enlaces entre películas y actores (ya que un actor solo puede actuar en una película).\n"
      ]
    },
    {
      "attachments": {},
      "cell_type": "markdown",
      "metadata": {},
      "source": [
        "## Matriz de adyacencia\n",
        "\n",
        "Para analizar un grafo es neceario representarlo de forma matemática. Existen dos formas principales de: la lista de adyacencia y la matriz de adyacencia. La lista de adyacencia simplemente es una lista en la que se indican todas las conexiones. Por ejemplo, si tenemos un grafo dirigido con tres nodos {A, B y C}, donde A se conecta con B y C, tendremos la lista de adyacencia {(A,B), (A,C)}. Si el grafo es no dirigido, la lista debe incluir las conexiones en ambas direcciones {(A,B), (B,A) (A,C), (C,A)}.\n",
        "\n",
        "Otra forma de representar un grafo es mediante lo que se conoce como matriz de adyacencia. La matriz de adyacencia es una matriz de dimensión NxN, siendo N el número de nodos y donde aparece un 0 si la conexión entre un par de nodos no existe y un 1 si sí que existe. Para grafos ponderados, en vez de un 1, la matriz presentará el valor del peso de la conexión. Debido a sus propiedades matemáticas, la matriz de adyacencia es el método de representación de grafos más utilizado. \n",
        "\n",
        "La desventaja de la matriz de adyacencia, es que para grafos muy grandes, puede ocupar mucho espacio. Por este motivo, para grafos grandes se utiliza la *matriz de adyacencia sparse*, que internamente únicamente almacena la información de las conexiones existentes.\n",
        "\n",
        "Para grafos no dirigidos la matriz de adyacencia es simétrica, ya que si existe la conexión entre los nodos A y B, también existirá la conexión recíproca."
      ]
    },
    {
      "attachments": {},
      "cell_type": "markdown",
      "metadata": {},
      "source": [
        "<p align=\"center\"><img src=\"https://github.com/fcarazo/network-science/blob/master/docs/img/05_adjacency_matrix.jpg?raw=true\" style=\"width: 400px\"></p>\n",
        "\n",
        "<center><font size='2.5'>\n",
        "<i>Figura 3. Ejemplo de un grafo y su matriz de adyacencia. Al ser un grafo no dirigido, la matriz es simétrica.</i>\n",
        "</font></center>\n",
        "\n",
        "\n",
        "Con una formulación matetemática, la matriz de adyacencia de una red dirigida de $\\mathrm{N}$ nodos tiene $\\mathrm{N}$ filas y $\\mathrm{N}$ columnas, siendo sus elementos:\n",
        "\n",
        "- $A_{i j}=1$ si hay un enlace que apunta desde el nodo $j$ al nodo $i$\n",
        "- $A_{i j}=0$ si los nodos $i$ y $j$ no están conectados entre sí\n",
        "\n",
        "La matriz de adyacencia de una red no dirigida tiene dos entradas para cada enlace. el enlace $(1,2)$ se representa como $A_{12}$ $=1$ y $A_{21}=1$. Por lo tanto, la matriz de adyacencia de una red no dirigida es simétrica, $A_{i j}=A_{j i}.$"
      ]
    },
    {
      "attachments": {},
      "cell_type": "markdown",
      "metadata": {},
      "source": [
        "En la siguiente figura se representan los distintos tipos de grafos junto con sus matrices de adyacencia.\n",
        "\n",
        "<p align=\"center\"><img src=\"https://github.com/fcarazo/network-science/blob/master/docs/img/01_tipos_de_grafos.jpg?raw=true\" style=\"width: 900px\"></p>\n",
        "\n",
        "<center><font size='2.5'>\n",
        "<i>Figura 5. Ejemplo de grafos de distintos tipos con sus matrices de adyacencia correspondientes. A) Grafo no dirigido. B) Grafo dirigido. C) Grafo ponderado. D) Grafo bipartito, con dos tipos de nodos (verde y naranja). E) Proyección del grafo bipartito en los nodos de cada tipo.</i>\n",
        "</font></center>"
      ]
    },
    {
      "attachments": {},
      "cell_type": "markdown",
      "metadata": {},
      "source": [
        "## Creación de gráfos con Python: NetworkX"
      ]
    },
    {
      "attachments": {},
      "cell_type": "markdown",
      "metadata": {
        "id": "J6xm7wXqK5Rw"
      },
      "source": [
        "Una de las librerías de python más utilizadas para la representación y análisis de grafos es [networkx](https://networkx.org/). Esta librería permite crear grafos de dos formas:\n",
        "\n",
        "1. De forma manual, añadiendo los nodos y ejes.\n",
        "2. Desde una archivo o un DataFrame que contenga las conexiones.\n",
        "\n",
        "En la práctica, lo más frecuente es crear los grafos desde archivos, sin embargo, conviene conocer cómo acerlo de forma manueal. A contianuación, se muestran algunos ejemplos."
      ]
    },
    {
      "attachments": {},
      "cell_type": "markdown",
      "metadata": {
        "id": "ETFhxACfK5Rw"
      },
      "source": [
        "#### Creación de un grafo de forma manual"
      ]
    },
    {
      "cell_type": "code",
      "execution_count": 1,
      "metadata": {
        "id": "1UJW3sS5K5Rx",
        "outputId": "07f1c833-65d4-4ce7-cf5d-69b761b60845"
      },
      "outputs": [],
      "source": [
        "# Librerías\n",
        "# ======================================================================================\n",
        "import networkx as nx\n",
        "import pandas as pd\n",
        "import warnings\n",
        "import matplotlib.pyplot as plt\n",
        "warnings.filterwarnings('ignore')"
      ]
    },
    {
      "cell_type": "markdown",
      "metadata": {},
      "source": [
        "En primer lugar se crea un objeto de tipo \"Grafo\"."
      ]
    },
    {
      "cell_type": "code",
      "execution_count": 3,
      "metadata": {},
      "outputs": [
        {
          "name": "stdout",
          "output_type": "stream",
          "text": [
            "Graph with 0 nodes and 0 edges\n"
          ]
        }
      ],
      "source": [
        "# Creación de una instancia tipo \"Grafo\"\n",
        "# ======================================================================================\n",
        "G = nx.Graph()\n",
        "print(G)"
      ]
    },
    {
      "attachments": {},
      "cell_type": "markdown",
      "metadata": {},
      "source": [
        "Una vez que el objeto Grafo ha sido creado, se puede poblar con nodos y conexiones. Para ello se utilizan dos métodos:\n",
        "\n",
        "+ `add_node`: añade un único nodo al grafo.\n",
        "\n",
        "+ `add_nodes_from`: añade multiples nodos al grafo.\n",
        "\n",
        "+ `add_edge`: añade un eje entre los nodos *u* y *v*. Si los nodos no existen, se crean y añaden automáticamente al grafo.\n",
        "\n",
        "+ `add_edges_from`: mismo comportamiento que `add_edge` pero utilizando una colección de ejes. Cada eje se define con una tupla (*u*, *v*).\n",
        "\n",
        "*Nota: El nombre de los nodos puede ser tanto de numérico como caracteres.*"
      ]
    },
    {
      "cell_type": "code",
      "execution_count": 6,
      "metadata": {},
      "outputs": [
        {
          "name": "stdout",
          "output_type": "stream",
          "text": [
            "Graph with 1 nodes and 0 edges\n"
          ]
        },
        {
          "data": {
            "image/png": "[encoded data removed]",
            "text/plain": [
              "<Figure size 640x480 with 1 Axes>"
            ]
          },
          "metadata": {},
          "output_type": "display_data"
        }
      ],
      "source": [
        "# Añadir un único nodo\n",
        "# ======================================================================================\n",
        "G.add_node(\"A\")\n",
        "nx.draw(G, with_labels=True)\n",
        "print(G)"
      ]
    },
    {
      "cell_type": "code",
      "execution_count": 7,
      "metadata": {},
      "outputs": [],
      "source": [
        "import seaborn as sns"
      ]
    },
    {
      "cell_type": "code",
      "execution_count": 8,
      "metadata": {},
      "outputs": [
        {
          "name": "stdout",
          "output_type": "stream",
          "text": [
            "Graph with 3 nodes and 0 edges\n"
          ]
        },
        {
          "data": {
            "image/png": "[encoded data removed]",
            "text/plain": [
              "<Figure size 640x480 with 1 Axes>"
            ]
          },
          "metadata": {},
          "output_type": "display_data"
        }
      ],
      "source": [
        "# Añadir multiples nodos \n",
        "# ======================================================================================\n",
        "G.add_nodes_from([\"B\", \"C\"])\n",
        "nx.draw(G, with_labels=True)\n",
        "print(G)"
      ]
    },
    {
      "cell_type": "code",
      "execution_count": 36,
      "metadata": {},
      "outputs": [
        {
          "name": "stdout",
          "output_type": "stream",
          "text": [
            "Graph with 3 nodes and 1 edges\n"
          ]
        },
        {
          "data": {
            "image/png": "[encoded data removed]",
            "text/plain": [
              "<Figure size 432x288 with 1 Axes>"
            ]
          },
          "metadata": {},
          "output_type": "display_data"
        }
      ],
      "source": [
        "# Añadir un único eje\n",
        "# ======================================================================================\n",
        "G.add_edge(\"A\", \"B\")\n",
        "nx.draw(G, with_labels=True)\n",
        "print(G)"
      ]
    },
    {
      "cell_type": "code",
      "execution_count": 9,
      "metadata": {},
      "outputs": [
        {
          "name": "stdout",
          "output_type": "stream",
          "text": [
            "Graph with 3 nodes and 2 edges\n"
          ]
        },
        {
          "data": {
            "image/png": "[encoded data removed]",
            "text/plain": [
              "<Figure size 640x480 with 1 Axes>"
            ]
          },
          "metadata": {},
          "output_type": "display_data"
        }
      ],
      "source": [
        "# Añadir múltiples ejes\n",
        "# ======================================================================================\n",
        "G.add_edges_from([(\"A\", \"C\"), (\"B\", \"C\")])\n",
        "nx.draw(G, with_labels=True)\n",
        "print(G)"
      ]
    },
    {
      "cell_type": "markdown",
      "metadata": {},
      "source": [
        "Si se añade una conexión cuyos nodos no existen, se crean automáticamente."
      ]
    },
    {
      "cell_type": "code",
      "execution_count": 10,
      "metadata": {},
      "outputs": [
        {
          "name": "stdout",
          "output_type": "stream",
          "text": [
            "Graph with 6 nodes and 4 edges\n"
          ]
        },
        {
          "data": {
            "image/png": "[encoded data removed]",
            "text/plain": [
              "<Figure size 640x480 with 1 Axes>"
            ]
          },
          "metadata": {},
          "output_type": "display_data"
        }
      ],
      "source": [
        "G.add_edges_from([(\"D\", \"E\"), (\"E\", \"F\")])\n",
        "nx.draw(G, with_labels=True)\n",
        "print(G)"
      ]
    },
    {
      "attachments": {},
      "cell_type": "markdown",
      "metadata": {
        "id": "Ap7V20e5K5Ry"
      },
      "source": [
        "La información de los nodos y ejes del grafo está almacenada en los attributos `nodes` y `edges`.\n"
      ]
    },
    {
      "cell_type": "code",
      "execution_count": 11,
      "metadata": {},
      "outputs": [
        {
          "name": "stdout",
          "output_type": "stream",
          "text": [
            "Nodos del grafo: ['A', 'B', 'C', 'D', 'E', 'F']\n",
            "Ejes del grafo: [('A', 'C'), ('B', 'C'), ('D', 'E'), ('E', 'F')]\n"
          ]
        }
      ],
      "source": [
        "print(f\"Nodos del grafo: {G.nodes}\")\n",
        "print(f\"Ejes del grafo: {G.edges}\")"
      ]
    },
    {
      "attachments": {},
      "cell_type": "markdown",
      "metadata": {
        "id": "us7rV6k7K5Rz"
      },
      "source": [
        "#### Creación desde un DataFrame"
      ]
    },
    {
      "attachments": {},
      "cell_type": "markdown",
      "metadata": {
        "id": "i6ZMsUvxK5Rz"
      },
      "source": [
        "Para crear un grafo a partir de un dataframe de pandas, la información tiene que estar estructurada de tal forma una columna que represente el incio de cada eje y otra el destino. Por ejemplo, para representar que existen dos nodos (\"A\" y \"B\") conectados entre si, se necesita una fila que contenga el valor \"A\" en una columna y \"B\" en otra. Esta información es suficiente para que se creen los dos nodos y la conexión entre ambos."
      ]
    },
    {
      "cell_type": "code",
      "execution_count": 12,
      "metadata": {
        "id": "aUOesR7IK5Rz",
        "outputId": "73e517aa-498d-414c-dd46-bcecabcd54b9"
      },
      "outputs": [
        {
          "data": {
            "text/html": [
              "<div>\n",
              "<style scoped>\n",
              "    .dataframe tbody tr th:only-of-type {\n",
              "        vertical-align: middle;\n",
              "    }\n",
              "\n",
              "    .dataframe tbody tr th {\n",
              "        vertical-align: top;\n",
              "    }\n",
              "\n",
              "    .dataframe thead th {\n",
              "        text-align: right;\n",
              "    }\n",
              "</style>\n",
              "<table border=\"1\" class=\"dataframe\">\n",
              "  <thead>\n",
              "    <tr style=\"text-align: right;\">\n",
              "      <th></th>\n",
              "      <th>inicio</th>\n",
              "      <th>fin</th>\n",
              "    </tr>\n",
              "  </thead>\n",
              "  <tbody>\n",
              "    <tr>\n",
              "      <th>0</th>\n",
              "      <td>A</td>\n",
              "      <td>C</td>\n",
              "    </tr>\n",
              "    <tr>\n",
              "      <th>1</th>\n",
              "      <td>B</td>\n",
              "      <td>C</td>\n",
              "    </tr>\n",
              "    <tr>\n",
              "      <th>2</th>\n",
              "      <td>C</td>\n",
              "      <td>D</td>\n",
              "    </tr>\n",
              "  </tbody>\n",
              "</table>\n",
              "</div>"
            ],
            "text/plain": [
              "  inicio fin\n",
              "0      A   C\n",
              "1      B   C\n",
              "2      C   D"
            ]
          },
          "execution_count": 12,
          "metadata": {},
          "output_type": "execute_result"
        }
      ],
      "source": [
        "# Dataframe con las conexiones del grafo\n",
        "# ======================================================================================\n",
        "conexiones = pd.DataFrame({\n",
        "                \"inicio\": [\"A\", \"B\", \"C\"],\n",
        "                \"fin\": [\"C\", \"C\", \"D\"],\n",
        "            })\n",
        "conexiones"
      ]
    },
    {
      "cell_type": "code",
      "execution_count": 13,
      "metadata": {
        "id": "0jsyqRxTK5R0",
        "outputId": "6028df3b-9523-4492-a78c-e0c28d58d9d8"
      },
      "outputs": [
        {
          "data": {
            "image/png": "[encoded data removed]",
            "text/plain": [
              "<Figure size 640x480 with 1 Axes>"
            ]
          },
          "metadata": {},
          "output_type": "display_data"
        }
      ],
      "source": [
        "# Crear un grafo a partir de un Dataframe\n",
        "# ======================================================================================\n",
        "G = nx.from_pandas_edgelist(\n",
        "        conexiones,\n",
        "        source = \"inicio\",\n",
        "        target = \"fin\"\n",
        "    )\n",
        "nx.draw(G, with_labels=True)"
      ]
    },
    {
      "attachments": {},
      "cell_type": "markdown",
      "metadata": {},
      "source": [
        "En el ejemplo anterior, el grafo no es dirigido, es decir, la conexión (\"A\", \"B\") es equivalente a (\"B\", \"A\"). Tambien es posible crear un grafo dirigido donde la conexión tiene una dirección específica (detalles más adelante). Un ejemplo de este tipo de red podría ser la de envío de mensajes entre personas."
      ]
    },
    {
      "cell_type": "code",
      "execution_count": 14,
      "metadata": {
        "id": "MwV2isIlK5R0",
        "outputId": "b33057ab-56b2-4f6b-9ccc-9f8a80d6305c"
      },
      "outputs": [
        {
          "data": {
            "image/png": "[encoded data removed]",
            "text/plain": [
              "<Figure size 640x480 with 1 Axes>"
            ]
          },
          "metadata": {},
          "output_type": "display_data"
        }
      ],
      "source": [
        "# Crear un grafo dirigido a partir de un Dataframe\n",
        "# ======================================================================================\n",
        "G = nx.from_pandas_edgelist(\n",
        "    conexiones,\n",
        "    source       = \"inicio\",\n",
        "    target       = \"fin\", \n",
        "    create_using = nx.DiGraph\n",
        ")\n",
        "nx.draw(G, with_labels=True)"
      ]
    },
    {
      "cell_type": "code",
      "execution_count": 15,
      "metadata": {
        "id": "T0OHLMo_K5R1",
        "outputId": "65d24cff-6da3-4ff4-8476-cc2a275b75b3"
      },
      "outputs": [
        {
          "data": {
            "image/png": "[encoded data removed]",
            "text/plain": [
              "<Figure size 640x480 with 1 Axes>"
            ]
          },
          "metadata": {},
          "output_type": "display_data"
        }
      ],
      "source": [
        "# Creamos una instancia tipo \"Grafo\".\n",
        "G = nx.Graph()\n",
        "\n",
        "# Añadimos conexiones\n",
        "G.add_edges_from([(1, 2), (2,3), (1, 4), (1, 5), (4,2), (5,4)])\n",
        "\n",
        "# Dibujamos la red. Más adelante daremos más detalles sobre representación de grafos.\n",
        "nx.draw(G, with_labels=True)"
      ]
    },
    {
      "cell_type": "code",
      "execution_count": 16,
      "metadata": {
        "id": "NV_xPFVhK5R1",
        "outputId": "3f01e961-5a66-4928-abe7-712560df8df9"
      },
      "outputs": [
        {
          "data": {
            "text/plain": [
              "{1: [2, 4, 5], 2: [1, 3, 4], 3: [2], 4: [1, 2, 5], 5: [1, 4]}"
            ]
          },
          "execution_count": 16,
          "metadata": {},
          "output_type": "execute_result"
        }
      ],
      "source": [
        "# neighbors\n",
        "nx.to_dict_of_lists(G)"
      ]
    },
    {
      "cell_type": "code",
      "execution_count": 17,
      "metadata": {
        "id": "H94JoDd-K5R1",
        "outputId": "eb142886-4c5f-4dca-afd8-c8fe7560a990"
      },
      "outputs": [
        {
          "data": {
            "text/plain": [
              "matrix([[0, 1, 0, 1, 1],\n",
              "        [1, 0, 1, 1, 0],\n",
              "        [0, 1, 0, 0, 0],\n",
              "        [1, 1, 0, 0, 1],\n",
              "        [1, 0, 0, 1, 0]])"
            ]
          },
          "execution_count": 17,
          "metadata": {},
          "output_type": "execute_result"
        }
      ],
      "source": [
        "adjM = nx.adjacency_matrix(G)\n",
        "\n",
        "# Pasamos de matriz sparse a dense para poder imprimirla por pantalla\n",
        "adjM = adjM.todense()\n",
        "adjM"
      ]
    },
    {
      "cell_type": "markdown",
      "metadata": {
        "id": "5yM51NrWK5R1"
      },
      "source": [
        "    Curiosidad: La matriz de adyacencia y la distancia entre nodos\n",
        "\n",
        "    La matriz de adyacencia nos da de forma implícita las distancias de orden 1 entre cualquier par de nodos. La distancia de orden 1 es trivial, ya que son directamente las conexiones del grafo.\n",
        "\n",
        "    Una propiedad interesante de la matriz de adyacencia es que si la multiplicamos por sí misma `n` veces, obtenemos la matriz de distancias de orden `n`. \n",
        "\n",
        "    Así, la matriz de distancia de orden 2 nos mostrará todos los pares de nodos que están conectados con un nodo intermedio. En el ejemplo, los nodos `2` y `5` tienen entre medias los nodos `4` y `1`, es decir, existen dos caminos posibles de orden 2 que los conectan: el `2-4-5` y el `2-1-5`. Por ese motivo, el elemento [2,5] de la matriz de distancias de orden 2 es 2."
      ]
    },
    {
      "cell_type": "code",
      "execution_count": 18,
      "metadata": {
        "id": "qv5fPtRnK5R1",
        "outputId": "3f4c48b3-ea84-4a8e-d279-28bd002c0b6d"
      },
      "outputs": [
        {
          "name": "stdout",
          "output_type": "stream",
          "text": [
            "[[3 1 1 2 1]\n",
            " [1 3 0 1 2]\n",
            " [1 0 1 1 0]\n",
            " [2 1 1 3 1]\n",
            " [1 2 0 1 2]]\n",
            "Caminos de orden dos entre los nodos 2 y 5 = 2\n"
          ]
        }
      ],
      "source": [
        "distancias_orden_dos = adjM*adjM\n",
        "\n",
        "print(distancias_orden_dos)\n",
        "# elemento 2,5 en python, se resta uno a los índices\n",
        "print(f\"Caminos de orden dos entre los nodos 2 y 5 = {distancias_orden_dos[1,4]}\")"
      ]
    },
    {
      "attachments": {},
      "cell_type": "markdown",
      "metadata": {
        "id": "DF-0O5hdK5R2"
      },
      "source": [
        "### Grafo dirigido\n",
        "\n",
        "Como se ha explicado anteriormente, los enlaces de los grafos dirigidos tienen una dirección definida. Los enlaces de estos grafos se representan con una flecha. La matriz de adyacencia de los grafos dirigidos no es simétrica.\n",
        "\n",
        "\n"
      ]
    },
    {
      "cell_type": "code",
      "execution_count": 19,
      "metadata": {
        "id": "jURj6mVyK5R2",
        "outputId": "1452022c-9877-48f8-e00c-b6a239bade3e"
      },
      "outputs": [
        {
          "data": {
            "image/png": "[encoded data removed]",
            "text/plain": [
              "<Figure size 640x480 with 1 Axes>"
            ]
          },
          "metadata": {},
          "output_type": "display_data"
        }
      ],
      "source": [
        "# Creamos una instancia tipo \"Grafo dirigido\".\n",
        "G = nx.DiGraph()\n",
        "\n",
        "# Añadimos conexiones\n",
        "G.add_edges_from([(1, 2), (2,3), (1, 4), (1, 5), (4,2), (5,4)])\n",
        "\n",
        "# Dibujamos la red. Más adelante daremos más detalles sobre representación de grafos.\n",
        "nx.draw(G, with_labels=True)"
      ]
    },
    {
      "cell_type": "code",
      "execution_count": 20,
      "metadata": {
        "id": "jP--AJfwK5R2",
        "outputId": "013332eb-ee2f-4151-d11a-9117a6712a34"
      },
      "outputs": [
        {
          "data": {
            "text/plain": [
              "matrix([[0, 1, 0, 1, 1],\n",
              "        [0, 0, 1, 0, 0],\n",
              "        [0, 0, 0, 0, 0],\n",
              "        [0, 1, 0, 0, 0],\n",
              "        [0, 0, 0, 1, 0]])"
            ]
          },
          "execution_count": 20,
          "metadata": {},
          "output_type": "execute_result"
        }
      ],
      "source": [
        "adjM = nx.adjacency_matrix(G)\n",
        "adjM.todense()"
      ]
    },
    {
      "attachments": {},
      "cell_type": "markdown",
      "metadata": {
        "id": "ROa5hFD5K5R2"
      },
      "source": [
        "### Grafo ponderado\n",
        "\n",
        "En un grafo ponderado, los ejes del grafo tienen un peso asociado. Los ejes de estos grafos se suelen representar con una anchura distinta en función del peso. Ejemplo: Red social, donde el peso es el número de interacciones entre dos usuarios.\n",
        "\n"
      ]
    },
    {
      "cell_type": "code",
      "execution_count": 21,
      "metadata": {
        "id": "91z2frnYK5R2",
        "outputId": "750fb7dd-f94e-4109-c298-ceab0cde3697"
      },
      "outputs": [
        {
          "data": {
            "text/plain": [
              "EdgeDataView([(1, 2, {'weight': 0.5}), (1, 4, {'weight': 0.1}), (1, 5, {'weight': 0.75}), (2, 3, {'weight': 0.9}), (2, 4, {'weight': 0.01}), (4, 5, {'weight': 0.3})])"
            ]
          },
          "execution_count": 21,
          "metadata": {},
          "output_type": "execute_result"
        }
      ],
      "source": [
        "# Creamos una instancia tipo \"Grafo\".\n",
        "G = nx.Graph()\n",
        "\n",
        "# Añadimos conexiones\n",
        "G.add_weighted_edges_from([(1, 2, 0.5), (2,3, 0.9), (1, 4, 0.1), (1, 5, 0.75), (4,2, 0.01), (5,4, 0.3)])\n",
        "\n",
        "G.edges(data=True)"
      ]
    },
    {
      "cell_type": "markdown",
      "metadata": {
        "id": "uCVBzhqhK5R2"
      },
      "source": [
        "Como podemos ver, ahora los ejes tienen el atributo weight.\n",
        "\n",
        "En el siguiente apartado explicaremos más detalles de los atributos asociados a nodos y ejes."
      ]
    },
    {
      "attachments": {},
      "cell_type": "markdown",
      "metadata": {
        "id": "EF6X8aPTK5R2"
      },
      "source": [
        "### Grafo bipartito\n",
        "\n",
        "Si los nodos de un grafo representan entidades de distinta naturaleza se denominan grafos bipartitos. Un ejemplo común de grafos bipartitos son las redes de publicaciones donde existen nodos de tipo \"artículo\" y otros de tipo \"escritor\". En el grafo existirá un eje cuando un escritor publique un artículo. \n",
        "\n",
        "En este tipo de grafos, las conexiones únicamente puden ocurrir entre nodos de distinta naturaleza (no pueden existir conexiones entre artículos entre sí).\n",
        "\n",
        "En los grafos bipartitos se habla de proyecciones cuando se quiere es que se pueden realizar \"proyecciones\" (Grafos \"E\"). Esto es construir un grafo para cada uno de los tipos de nodos en función de sus conexiones comunes. Más adelante veremos un ejemplo completo de estos grafos.\n"
      ]
    },
    {
      "cell_type": "markdown",
      "metadata": {
        "id": "r3GnvKFvK5R2"
      },
      "source": [
        "> Un grafo puede tener cualquier combinación de estas características: por ejemplo, podemos tener un grafo simple, dirigido y ponderado"
      ]
    },
    {
      "cell_type": "markdown",
      "metadata": {
        "id": "7dEtv912K5R2"
      },
      "source": [
        "Los grafos bipartitos son unos de los tipos de grafos más utilizados en el Graph Machine Learning. En el siguiente enlace encontrarás un case study con Grafos Bipartitos [proximamente]."
      ]
    },
    {
      "cell_type": "markdown",
      "metadata": {
        "id": "J-ulgTh9K5R3"
      },
      "source": [
        "# Atributos de nodos y ejes"
      ]
    },
    {
      "cell_type": "markdown",
      "metadata": {
        "id": "YDkyhTkpK5R3"
      },
      "source": [
        "\n",
        "\n",
        "Supongamos que estamos analizando los datos de una red social, en el que los nodos son usuarios y los ejes representan si dos usuarios son amigos.\n",
        "\n",
        "1. En este caso puede ser que queramos guardar información relativa a los usuarios, como por ejemplo:\n",
        "\n",
        "    - Nombre y apellidos.\n",
        "    - Edad.\n",
        "    - Profesión.\n",
        "    - Aficiones.\n",
        "\n",
        "    Los atributos de los nodos se añaden con el método `networkx.set_node_atributes(Grafo, diccionario, nombre)`\n",
        "\n",
        "\n",
        "2. Por otro lado, los ejes puede ser que también tengan atributos:\n",
        "\n",
        "    - Fecha en la que inició la amistad.\n",
        "    - Intensidad de la amista (weight)\n",
        "\n",
        "    Los atributos de los ejes se añaden con el método `networkx.set_edge_atributes()`\n",
        "\n",
        "Los atributos de nodos y ejes son muy importantes en el Graph Machine Learning. De hecho, las Graph Neural Networks utilizan atributos de ejes y nodos para hacer predicciones. \n",
        "\n",
        "> Por ejemplo, si queremos predecir futuras amistadas entre usuarios, será interesante tener en cuenta las aficiones de cada usuario: (Será más probable que usuarios con aficiones similares se hagan amigos en un futuro).\n"
      ]
    },
    {
      "cell_type": "code",
      "execution_count": null,
      "metadata": {
        "id": "TTYVGRkSK5R3",
        "outputId": "0581134a-5fc3-4d39-f9a8-678711dadd28"
      },
      "outputs": [
        {
          "data": {
            "text/plain": [
              "EdgeDataView([(1, 2, {}), (1, 4, {}), (1, 5, {}), (2, 3, {}), (2, 4, {}), (4, 5, {})])"
            ]
          },
          "execution_count": 16,
          "metadata": {},
          "output_type": "execute_result"
        }
      ],
      "source": [
        "# Creamos una instancia tipo \"Grafo\".\n",
        "G = nx.Graph()\n",
        "\n",
        "# Añadimos conexiones\n",
        "G.add_edges_from([(1, 2), (2,3), (1, 4), (1, 5), (4,2), (5,4)])\n",
        "\n",
        "\n",
        "G.edges(data=True)"
      ]
    },
    {
      "cell_type": "code",
      "execution_count": null,
      "metadata": {
        "id": "dKRZRCXPK5R3"
      },
      "outputs": [],
      "source": [
        "# Añadimos atributos de los nodos\n",
        "node_name = {\n",
        "    1:\"Jaime\",\n",
        "    2:\"María\",\n",
        "    3:\"Julio\",\n",
        "    4:\"Rosa\",\n",
        "    5:\"Alberto\"\n",
        "}\n",
        "\n",
        "node_aficiones = {\n",
        "    1:[\"Futbol\"],\n",
        "    2:[\"Baile\", \"Pádel\"],\n",
        "    3:[\"Golf\", \"Baile\"],\n",
        "    4:[\"Cocina\"],\n",
        "    5:[\"Cocina\", \"Jamón\"]\n",
        "}\n",
        "\n",
        "nx.set_node_attributes(G, node_name, name=\"Nombre\")\n",
        "nx.set_node_attributes(G, node_aficiones, name=\"Aficiones\")\n",
        "\n",
        "# Añadimos atributos de los ejes\n",
        "edges_weight = {\n",
        "    (1, 2): 0.5, \n",
        "    (2,3): 0.9, \n",
        "    (1, 4): 0.1, \n",
        "    (1, 5): 0.75, \n",
        "    (4,2): 0.01, \n",
        "    (5,4): 0.3\n",
        "}\n",
        "\n",
        "nx.set_edge_attributes(G, edges_weight, name=\"weight\")\n",
        "\n"
      ]
    },
    {
      "cell_type": "markdown",
      "metadata": {
        "id": "WctYbwK3K5R3"
      },
      "source": [
        "Para acceder a los atributos de nodos y ejes utilizamos `G.nodes(data=True)` o `G.edges(data=True)`. \n",
        "Estos comandos nos devuelven una objeto de nodos/ejes con un diccionario asociado con todos los atributos.\n",
        "\n",
        "En nuestro caso, los nodos no contienen ningún atributo todavía."
      ]
    },
    {
      "cell_type": "code",
      "execution_count": null,
      "metadata": {
        "id": "BptRWxS2K5R3",
        "outputId": "acf91134-6f83-495e-de2f-b6a6fff353d9"
      },
      "outputs": [
        {
          "data": {
            "text/plain": [
              "NodeDataView({1: {'Nombre': 'Jaime', 'Aficiones': ['Futbol']}, 2: {'Nombre': 'María', 'Aficiones': ['Baile', 'Pádel']}, 3: {'Nombre': 'Julio', 'Aficiones': ['Golf', 'Baile']}, 4: {'Nombre': 'Rosa', 'Aficiones': ['Cocina']}, 5: {'Nombre': 'Alberto', 'Aficiones': ['Cocina', 'Jamón']}})"
            ]
          },
          "execution_count": 18,
          "metadata": {},
          "output_type": "execute_result"
        }
      ],
      "source": [
        "G.nodes(data=True)"
      ]
    },
    {
      "cell_type": "code",
      "execution_count": null,
      "metadata": {
        "id": "dyukUM6JK5R3",
        "outputId": "3b659157-0315-4b07-df20-3376c7421da6"
      },
      "outputs": [
        {
          "data": {
            "text/plain": [
              "EdgeDataView([(1, 2, {'weight': 0.5}), (1, 4, {'weight': 0.1}), (1, 5, {'weight': 0.75}), (2, 3, {'weight': 0.9}), (2, 4, {'weight': 0.01}), (4, 5, {'weight': 0.3})])"
            ]
          },
          "execution_count": 19,
          "metadata": {},
          "output_type": "execute_result"
        }
      ],
      "source": [
        "G.edges(data=True)"
      ]
    },
    {
      "cell_type": "markdown",
      "metadata": {
        "id": "4JDLP0G2K5R3"
      },
      "source": [
        "> TRUCO: los atributos de ejes y nodos se pueden iterar directamente como si se tratase de un diccionario!"
      ]
    },
    {
      "cell_type": "code",
      "execution_count": null,
      "metadata": {
        "id": "iw2DaG7tK5R4",
        "outputId": "b7814f5f-e55c-4dd3-ddb9-ea82d4cb5be5"
      },
      "outputs": [
        {
          "name": "stdout",
          "output_type": "stream",
          "text": [
            "Eje que conecte el nodo 1 con el nodo 2 y tiene un peso de 0.5.\n",
            "Eje que conecte el nodo 1 con el nodo 4 y tiene un peso de 0.1.\n",
            "Eje que conecte el nodo 1 con el nodo 5 y tiene un peso de 0.75.\n",
            "Eje que conecte el nodo 2 con el nodo 3 y tiene un peso de 0.9.\n",
            "Eje que conecte el nodo 2 con el nodo 4 y tiene un peso de 0.01.\n",
            "Eje que conecte el nodo 4 con el nodo 5 y tiene un peso de 0.3.\n"
          ]
        },
        {
          "data": {
            "text/plain": [
              "[None, None, None, None, None, None]"
            ]
          },
          "execution_count": 20,
          "metadata": {},
          "output_type": "execute_result"
        }
      ],
      "source": [
        "[print(f\"Eje que conecte el nodo {m} con el nodo {n} y tiene un peso de {w['weight']}.\") for m, n, w in G.edges(data=True)]"
      ]
    },
    {
      "cell_type": "markdown",
      "metadata": {
        "id": "wdtTX5AAK5R4"
      },
      "source": [
        "> EJERCICIO: qué ejes tienen un peso mayor que 0.5?"
      ]
    },
    {
      "cell_type": "code",
      "execution_count": null,
      "metadata": {
        "id": "wE5FlLKRK5R4",
        "outputId": "6058c4b7-e8c8-4921-b6a5-be7ee186ec02"
      },
      "outputs": [
        {
          "data": {
            "text/plain": [
              "[(1, 2), (1, 5), (2, 3)]"
            ]
          },
          "execution_count": 21,
          "metadata": {},
          "output_type": "execute_result"
        }
      ],
      "source": [
        "threshold = 0.5\n",
        "edge_list = [\n",
        "    (n, m) for n, m, d in G.edges(data=True) if d[\"weight\"] >= threshold\n",
        "]\n",
        "\n",
        "edge_list"
      ]
    },
    {
      "cell_type": "markdown",
      "metadata": {
        "id": "0csVAoKCK5R4"
      },
      "source": [
        "Y don un subset de ejes, podemos filtrar el grafo:"
      ]
    },
    {
      "cell_type": "code",
      "execution_count": null,
      "metadata": {
        "id": "MQKcSDi_K5R4",
        "outputId": "69b336ad-0a3f-4964-9866-3532183e3a71"
      },
      "outputs": [
        {
          "name": "stdout",
          "output_type": "stream",
          "text": [
            "[(1, 2), (1, 5), (2, 3)]\n"
          ]
        },
        {
          "data": {
            "image/png": "[encoded data removed]",
            "text/plain": [
              "<Figure size 640x480 with 1 Axes>"
            ]
          },
          "metadata": {},
          "output_type": "display_data"
        }
      ],
      "source": [
        "G_filtrado = G.edge_subgraph(edge_list)\n",
        "print(G_filtrado.edges)\n",
        "nx.draw(G_filtrado, with_labels=True)\n"
      ]
    },
    {
      "cell_type": "code",
      "execution_count": null,
      "metadata": {
        "id": "hHsc6-nAK5R4",
        "outputId": "7136760c-24c5-4c8f-b5d9-8461b5583c79"
      },
      "outputs": [
        {
          "data": {
            "text/html": [
              "<div>\n",
              "<style scoped>\n",
              "    .dataframe tbody tr th:only-of-type {\n",
              "        vertical-align: middle;\n",
              "    }\n",
              "\n",
              "    .dataframe tbody tr th {\n",
              "        vertical-align: top;\n",
              "    }\n",
              "\n",
              "    .dataframe thead th {\n",
              "        text-align: right;\n",
              "    }\n",
              "</style>\n",
              "<table border=\"1\" class=\"dataframe\">\n",
              "  <thead>\n",
              "    <tr style=\"text-align: right;\">\n",
              "      <th></th>\n",
              "      <th>source</th>\n",
              "      <th>target</th>\n",
              "      <th>weight</th>\n",
              "      <th>color</th>\n",
              "    </tr>\n",
              "  </thead>\n",
              "  <tbody>\n",
              "    <tr>\n",
              "      <th>0</th>\n",
              "      <td>0</td>\n",
              "      <td>2</td>\n",
              "      <td>3</td>\n",
              "      <td>red</td>\n",
              "    </tr>\n",
              "    <tr>\n",
              "      <th>1</th>\n",
              "      <td>1</td>\n",
              "      <td>2</td>\n",
              "      <td>4</td>\n",
              "      <td>blue</td>\n",
              "    </tr>\n",
              "    <tr>\n",
              "      <th>2</th>\n",
              "      <td>2</td>\n",
              "      <td>3</td>\n",
              "      <td>5</td>\n",
              "      <td>blue</td>\n",
              "    </tr>\n",
              "  </tbody>\n",
              "</table>\n",
              "</div>"
            ],
            "text/plain": [
              "   source  target  weight color\n",
              "0       0       2       3   red\n",
              "1       1       2       4  blue\n",
              "2       2       3       5  blue"
            ]
          },
          "execution_count": 23,
          "metadata": {},
          "output_type": "execute_result"
        }
      ],
      "source": [
        "conexiones = pd.DataFrame(\n",
        "    {\n",
        "        \"source\": [0, 1, 2],\n",
        "        \"target\": [2, 2, 3],\n",
        "        \"weight\": [3, 4, 5],\n",
        "        \"color\": [\"red\", \"blue\", \"blue\"],\n",
        "    }\n",
        ")\n",
        "conexiones"
      ]
    },
    {
      "attachments": {},
      "cell_type": "markdown",
      "metadata": {
        "id": "l-bIsAQgK5R9"
      },
      "source": [
        "## Información de sesión"
      ]
    },
    {
      "cell_type": "code",
      "execution_count": null,
      "metadata": {},
      "outputs": [],
      "source": [
        "from sinfo import sinfo\n",
        "sinfo()"
      ]
    },
    {
      "attachments": {},
      "cell_type": "markdown",
      "metadata": {},
      "source": [
        "## Bibliografía\n",
        "<br>\n",
        "\n",
        "Linear Models with R by Julian J.Faraway [libro](https://www.amazon.es/gp/product/1439887330/ref=as_li_qf_asin_il_tl?ie=UTF8&tag=cienciadedato-21&creative=24630&linkCode=as2&creativeASIN=1439887330&linkId=e9ca62e854567fb3f9d0ea044f084b11)\n",
        "\n",
        "\n",
        "https://towardsdatascience.com/graph-machine-learning-with-python-pt-1-basics-metrics-and-algorithms-cc40972de113\n",
        "\n",
        "https://towardsdatascience.com/graph-machine-learning-with-python-pt-2-random-graphs-and-diffusion-models-of-cryptopunks-trading-99cd5170b5ea\n",
        "\n",
        "https://towardsdatascience.com/graph-machine-learning-with-python-part-3-unsupervised-learning-aa2854fe0ff2\n",
        "\n",
        "https://ericmjl.github.io/Network-Analysis-Made-Simple/01-introduction/03-viz/\n",
        "\n",
        "http://networksciencebook.com/\n"
      ]
    },
    {
      "attachments": {},
      "cell_type": "markdown",
      "metadata": {},
      "source": [
        "**¿Cómo citar este documento?**\n",
        "\n",
        "<p style=\"text-align:left\"><font size=\"3\" color=\"#555\">\n",
        "Graph Machine Learning: Grafos by Fernando Carazo, available under a Attribution 4.0 International (CC BY 4.0) at https://www.cienciadedatos.net/documentos/\n",
        "\n",
        "    \n",
        "</font></p>"
      ]
    },
    {
      "attachments": {},
      "cell_type": "markdown",
      "metadata": {},
      "source": [
        "<a rel=\"license\" href=\"http://creativecommons.org/licenses/by/4.0/\"><img alt=\"Creative Commons Licence\" style=\"border-width:0\" src=\"https://i.creativecommons.org/l/by/4.0/88x31.png\" /></a><br />This work by Fernando Carazo is licensed under a <a rel=\"license\" href=\"http://creativecommons.org/licenses/by/4.0/\">Creative Commons Attribution 4.0 International License</a>."
      ]
    },
    {
      "attachments": {},
      "cell_type": "markdown",
      "metadata": {},
      "source": [
        "%%html\n",
        "<style>\n",
        ".text_cell_render p {\n",
        "    text-align: justify;\n",
        "    font-family: 'Open Sans','Helvetica Neue',Helvetica,Arial,sans-serif;\n",
        "    #font-size: 16px;\n",
        "    line-height: 1.5;\n",
        "    font-weight: 400;\n",
        "    text-shadow: none;\n",
        "    color: #333333;\n",
        "    text-rendering: optimizeLegibility;\n",
        "    letter-spacing: +0.1px;\n",
        "    margin-bottom: 1.15rem;\n",
        "    font-size: 1.15em\n",
        "}\n",
        "\n",
        "#notebook-container {\n",
        "    background-color: #fcfcfc;\n",
        "}\n",
        "\n",
        "div.inner_cell {\n",
        "    margin-right: 5%;\n",
        "}\n",
        "\n",
        ".output_png {\n",
        "        display: table-cell;\n",
        "        text-align: center;\n",
        "        vertical-align: middle;\n",
        "}\n",
        "\n",
        ".rendered_html code {\n",
        "    background-color: #f2f2f2;\n",
        "    font-family: monospace;\n",
        "    color: #a20505;\n",
        "    font-size: 15px;\n",
        "    #font-size: 1em;\n",
        "    padding: 1px 1px;\n",
        "    border: solid;\n",
        "    border-color: darkgray;\n",
        "    border-width: thin;\n",
        "}\n",
        "\n",
        ".rendered_html h1 {\n",
        "    padding-top: 50px;\n",
        "}\n",
        "\n",
        ".rendered_html h2 {\n",
        "    font-size: 30px\n",
        "    margin-top: 0;\n",
        "    font-size: 2.488em;\n",
        "}\n",
        "\n",
        ".rendered_html h3 {\n",
        "    font-size: 25px;\n",
        "}\n",
        "\n",
        ".rendered_html h4 {\n",
        "    font-size: 20px;\n",
        "}\n",
        "\n",
        "</style>"
      ]
    }
  ],
  "metadata": {
    "colab": {
      "provenance": []
    },
    "kernelspec": {
      "display_name": "network-science",
      "language": "python",
      "name": "python3"
    },
    "language_info": {
      "codemirror_mode": {
        "name": "ipython",
        "version": 3
      },
      "file_extension": ".py",
      "mimetype": "text/x-python",
      "name": "python",
      "nbconvert_exporter": "python",
      "pygments_lexer": "ipython3",
      "version": "3.10.9"
    },
    "toc": {
      "base_numbering": 1,
      "nav_menu": {},
      "number_sections": true,
      "sideBar": true,
      "skip_h1_title": false,
      "title_cell": "Table of Contents",
      "title_sidebar": "Contents",
      "toc_cell": false,
      "toc_position": {},
      "toc_section_display": true,
      "toc_window_display": false
    },
    "vscode": {
      "interpreter": {
        "hash": "9c3117aef5e50d9c3a15ab70a76fbaced96e5bce13fc3a9f4b8d42ebad56ea88"
      }
    }
  },
  "nbformat": 4,
  "nbformat_minor": 0
}
