{
  "cells": [
    {
      "attachments": {},
      "cell_type": "markdown",
      "metadata": {},
      "source": [
        "<h1><center><font size=\"25\">Graph Machine Learning: Propiedades de los Grafos</font></center></h1>"
      ]
    },
    {
      "attachments": {},
      "cell_type": "markdown",
      "metadata": {},
      "source": [
        "<center><b>Fernando Carazo</b></center>\n",
        "\n",
        "<center><i>Enero, 2023</i></center>"
      ]
    },
    {
      "attachments": {},
      "cell_type": "markdown",
      "metadata": {},
      "source": [
        "## Introducción"
      ]
    },
    {
      "attachments": {},
      "cell_type": "markdown",
      "metadata": {},
      "source": [
        "Los grafos son estructuras de datos compuesta por nodos y enlaces que se utilizan para representar relaciones entre objetos. Si utilizamos el ejemplo de una red social, los nodos representarían a los usuarios y los enlaces la amistad o seguimiento entre los usuarios de dicha red social. Si queremos entender un grafo, primero tenemos que saber cómo interactúan entre sí sus componentes. \n",
        "\n",
        "\n",
        "## Parámetros básicos\n",
        "\n",
        "En este artículo se mostrarán técnicas de análisis descriptivo de los grafos, para responder a preguntas cómo, cuáles son los usuarios más importantes en una red social.\n",
        "\n",
        "Los dos parámetros básicos de la red son:\n",
        "\n",
        "- El número de nodos, o N, representa el número de componentes del sistema. A menudo llamaremos N al tamaño de la red. Para distinguir los nodos, los etiquetamos con i = 1, 2, ..., N.\n",
        "\n",
        "- El número de enlaces, que denotamos con L, representa el número total de interacciones entre los nodos. Los enlaces rara vez se etiquetan, ya que pueden identificarse a través de los nodos que conectan. Por ejemplo, el enlace (2, 4) conecta los nodos 2 y 4.\n",
        "\n"
      ]
    },
    {
      "attachments": {},
      "cell_type": "markdown",
      "metadata": {},
      "source": [
        "## Grado, grado medio y distribución de grados\n",
        "\n",
        "### Grado\n",
        "Una propiedad clave de cada nodo es su grado, que representa el número de enlaces que tiene con otros nodos. El grado puede representar el número de contactos de teléfono móvil que tiene una persona en el grafo de llamadas (es decir, el número de personas diferentes con las que ha hablado), o el número de citas que recibe un trabajo de investigación en la red de citas.\n",
        "\n",
        "Grado\n",
        "Denotamos con $k_i$ el grado del nodo en la red. Por ejemplo, para la red no dirigida mostrada  em la figura XX tenemos $k_1=3, k_2=3, k_3=1, k_4=3, k_5=2$. En una red no dirigida, el número total de enlaces, L, puede expresarse como la suma de los grados de los nodos dividdida entre dos:\n",
        "\n",
        "$$\n",
        "L = \\frac{1}{2}\\sum_{i=1}^N k_i\n",
        "$$\n",
        "\n",
        "Aquí el factor 1/2 corrige el hecho de que en la suma cada enlace se cuenta dos veces. Por ejemplo, el enlace que conecta los nodos 2 y 4 en la figura XX se contará una vez en el grado del nodo 2 y una vez en el grado del nodo 4.\n",
        "\n",
        "En un grafo dirigido, el grado de un nodo se puede definir de dos maneras: el grado de entrada ($k_i^{in}$), que es el número de aristas que apuntan hacia el nodo, y el grado de salida ($k_i^{out}$), que es el número de aristas que salen del nodo.\n",
        "\n",
        "<p align=\"center\"><img src=\"../docs/img/09_grafo-5-nodos.png\" style=\"width: 400px\"></p>\n",
        "\n",
        "<center><font size='2.5'>\n",
        "<i>Grafo de 5 nodos (N = 5) y 6 enlaces (L = 6).</i>\n",
        "</font></center>"
      ]
    },
    {
      "attachments": {},
      "cell_type": "markdown",
      "metadata": {},
      "source": [
        "El grado $k_i$ del nodo $i$ se puede obtener de los elementos de la matriz de adyacencia. Para redes no dirigidas, el grado de un nodo es una suma sobre las filas o las columnas de la matriz, es decir:\n",
        "$$\n",
        "k_i=\\sum_{j=1}^N A_{j i}=\\sum_{i=1}^N A_{j i}\n",
        "$$\n",
        "Para redes dirigidas, las sumas sobre las filas y columnas de la matriz de adyacencia proporcionan los grados entrantes y salientes, respectivamente.\n",
        "$$\n",
        "k_i^{i n}=\\sum_{j=1}^N A_{i j}, \\quad \\quad k_i^{\\text {out}}=\\sum_{j=1}^N A_{j i}\n",
        "$$\n",
        "Dado que en una red no dirigida el número de enlaces salientes es igual al número de enlaces entrantes, tenemos\n",
        "$$\n",
        "2 L=\\sum_{i=1}^N k_i^{i n}=\\sum_{i=1}^N k_i^{\\text {out}}=\\sum_{i j}^N A_{i j}\n",
        "$$\n",
        "El número de elementos distintos de cero de la matriz de adyacencia es $2 L$, o el doble del número de enlaces. De hecho, un enlace no dirigido que conecta los nodos $i$ y $j$ aparece en dos entradas: $A_{i j}=1$, un enlace que apunta desde el nodo $j$ al nodo $i$, y $A_{i i}=1 $, un enlace que apunta de $i$ a $j$."
      ]
    },
    {
      "attachments": {},
      "cell_type": "markdown",
      "metadata": {},
      "source": [
        "## Grado medio\n",
        "\n",
        "El grado medio representa el número medio de conexiones que tienen los nodos de un grafo. Se calcula como la suma los grados de todos los nodos dividida por el número de nodos. La importancia de esta medida reside en que permite comparar redes de distintos tamaños entre sí. Por estadística, una red con más nodosEl número de conexiones de los nodos de un grafo es igual al número de ejes multiplicado por dos. Por tanto, el número medio de conexiones de un grafo es:\n",
        "\n",
        "$$\n",
        "\\langle k\\rangle=\\frac{1}{N} \\sum_{i=1}^N k_i=\\frac{2 L}{N}\n",
        "$$\n"
      ]
    },
    {
      "cell_type": "code",
      "execution_count": null,
      "metadata": {
        "id": "f0GXXWzpK5R5",
        "outputId": "c4f87a2d-93c9-4b94-869f-f8cc1962a408"
      },
      "outputs": [
        {
          "name": "stdout",
          "output_type": "stream",
          "text": [
            "Grafo con 5 nodos, 6 ejes y número medio de conexiones 2.4\n"
          ]
        }
      ],
      "source": [
        "nodos = G.number_of_nodes()\n",
        "ejes = G.number_of_edges()\n",
        "\n",
        "k = ejes*2/nodos\n",
        "\n",
        "print(f\"Grafo con {nodos} nodos, {ejes} ejes y número medio de conexiones {k}\")\n",
        "\n"
      ]
    },
    {
      "attachments": {},
      "cell_type": "markdown",
      "metadata": {
        "id": "rVLXw706K5R5"
      },
      "source": [
        "## Comparativa de redes"
      ]
    },
    {
      "cell_type": "markdown",
      "metadata": {
        "id": "K0LuRZfIK5R5"
      },
      "source": [
        "Estas redes de referencia, enumeradas en la Tabla inferior, abarcan:\n",
        "\n",
        "- Sistemas sociales (grafo de llamadas móviles o red de correo electrónico), \n",
        "- Redes de colaboración y afiliación (red de colaboración científica, red de actores de Hollywood), \n",
        "- Sistemas de información (WWW), sistemas tecnológicos y de infraestructura (Internet y red eléctrica). ), \n",
        "- Sistemas biológicos (interacción de proteínas y red metabólica) y redes de referencia (citas). \n",
        "\n",
        "Difieren ampliamente en sus tamaños, desde tan solo N = 1039 nodos en el metabolismo de E. coli, hasta casi medio millón de nodos en la red de citas. Cubren varias áreas en las que las redes se aplican activamente y representan conjuntos de datos \"canónicos\" que los investigadores utilizan con frecuencia para ilustrar las propiedades clave de la red. Como indicamos en la Tabla, algunos de ellos son dirigidos, otros son no dirigidos.\n",
        "\n",
        "Fuente: http://networksciencebook.com/"
      ]
    },
    {
      "cell_type": "markdown",
      "metadata": {
        "id": "pMnGcp8wK5R5"
      },
      "source": [
        "| **Red** | **Nodos** | **Enlaces** | **Dirigido / No dirigido** | **N** | **L** | **‹K›** |\n",
        "|---------------------------|----------------------------|----------------------|---------------------------|---------|------------|---------|\n",
        "| **Internet** | Routers | Conexiones a Internet | No dirigido | 192,244 | 609,066 | 6.34 |\n",
        "| **WWW** | paginas web | Enlaces | Dirigida | 325,729 | 1,497,134 | 4.60 |\n",
        "| **Red eléctrica** | Centrales eléctricas, transformadores | Cables | No dirigido | 4,941 | 6,594 | 2.67 |\n",
        "| **Llamadas a teléfonos móviles** | Suscriptores | Llamadas | Dirigido | 36,595 | 91,826 | 2.51 |\n",
        "| **Correo electrónico** | Direcciones de correo electrónico | Correos electrónicos | Dirigido | 57,194 | 103,731 | 1.81 |\n",
        "| **Colaboración científica** | Científicos | Coautorías | No dirigido | 23,133 | 93,437 | 8.08 |\n",
        "| **Red de actores** | Actores | Co-actuando | No dirigido | 702,388 | 29,397,908 | 83.71 |\n",
        "| **Red de citas** | Papeles | Citas | Dirigido | 449,673 | 4.689,479 | 10.43 |\n",
        "| **MI. Metabolismo coli** | Metabolitos | Reacciones químicas | Dirigido | 1,039 | 5,802 | 5.58 |\n",
        "| **Interacciones de proteínas** | Proteínas | Interacciones vinculantes | No dirigido | 2,018 | 2,930 | 2,90 |"
      ]
    },
    {
      "cell_type": "markdown",
      "metadata": {
        "id": "Nu_3ahW6K5R5"
      },
      "source": [
        "# Diagnóstico de grafos"
      ]
    },
    {
      "cell_type": "markdown",
      "metadata": {
        "id": "E0fWX6aAK5R5"
      },
      "source": [
        "Como bien hemos aprendido en [cienciadedatos.net](cienciadedatos.net), en ciencia de datos, lo primero que hay que hacer al tener un dataset es realizar un análisis exploratorio de los datos o EDA por sus siglas en inglés.\n",
        "\n",
        "¿Cómo se puede hacer un EDA de un grafo? Para ello introducimos las propiedades de los grafos. Algunas son más importantes que otras, pero entre todas ellas nos darán una visión global del grafo que estamos analizando.\n",
        "\n",
        "Se resumen en tres grupos principales según se relacionen con 1) nodos individuales, 2) conjuntos de nodos o 3) propiedades globales de la red:"
      ]
    },
    {
      "cell_type": "markdown",
      "metadata": {
        "id": "AQa13nd6K5R5"
      },
      "source": [
        "![](https://raw.githubusercontent.com/fcarazo/network-science/d10e8fc9109c90072bc8355bfe790bf0067bdf80/docs/img/drawio/03_properties.drawio.svg)\n"
      ]
    },
    {
      "attachments": {},
      "cell_type": "markdown",
      "metadata": {},
      "source": [
        "### ¿Cuál es el nodo más importante de la red?\n",
        "\n",
        "\n",
        "Tras un primer vistazo, podemos observar que algunos nodos tendrán propiedades muy diferentes.\n",
        "\n",
        "Por ejemplo, los nodos 11, 10 y 12 son nodos muy importantes si consideramos la \"betweenness de la red\". Lo que quiere decir que estos nodos forma parte del único camino posible entre muchos pares de nodos. En otras palabras: si estos nodos desaparecen, los dos clusters de nodos dejarían de estar conectados.\n",
        "\n",
        "Por otro lado, los nodos de los clusters, por ejemplo el nodo 17, tiene una alta conectividad: está conectado a muchos otros nodos (alto degree).\n",
        "\n",
        "Dependiendo de a qué característica le demos más importancia, diremos que el nodo más importante de la red es uno u otro."
      ]
    },
    {
      "cell_type": "markdown",
      "metadata": {
        "id": "x6B9AlkmK5R5"
      },
      "source": [
        "En este apartado utilizaremos el primer modelo de generación de grafos: barbell_graph. Los modelos de generación de grafos son algoritmos que generan grafos con distintas propiedades. Hay muchos modelos de generación de grafos, iremos viendo algunos de ellos a medida que avance el curso.\n",
        "\n",
        "El barbell graph permite generar un grafo con dos conjuntos de N nodos con alta conectividad (m1) unidos por una cadena de nodos (m2)."
      ]
    },
    {
      "cell_type": "code",
      "execution_count": null,
      "metadata": {
        "id": "urwzk_J4K5R5",
        "outputId": "9ac38e9c-5542-43e6-c570-8215d707c870"
      },
      "outputs": [
        {
          "data": {
            "image/png": "[encoded data removed]",
            "text/plain": [
              "<Figure size 640x480 with 1 Axes>"
            ]
          },
          "metadata": {},
          "output_type": "display_data"
        }
      ],
      "source": [
        "G =nx.barbell_graph(m1=10, m2=3)\n",
        "nx.draw(G, with_labels=True)"
      ]
    },
    {
      "cell_type": "markdown",
      "metadata": {
        "id": "tPmja0A1K5R5"
      },
      "source": [
        "### ¿Cuál es el nodo más importante de la red?\n",
        "\n",
        "Tras un primer vistazo, podemos observar que algunos nodos tendrán propiedades muy diferentes.\n",
        "\n",
        "Por ejemplo, los nodos 11, 10 y 12 son nodos muy importantes si consideramos la \"betweenness de la red\". Lo que quiere decir que estos nodos forma parte del único camino posible entre muchos pares de nodos. En otras palabras: si estos nodos desaparecen, los dos clusters de nodos dejarían de estar conectados.\n",
        "\n",
        "Por otro lado, los nodos de los clusters, por ejemplo el nodo 17, tiene una alta conectividad: está conectado a muchos otros nodos (alto degree).\n",
        "\n",
        "Dependiendo de a qué característica le demos más importancia, diremos que el nodo más importante de la red es uno u otro."
      ]
    },
    {
      "cell_type": "markdown",
      "metadata": {
        "id": "QBDxI4laK5R6"
      },
      "source": [
        "## Número de nodos y ejes\n",
        "\n",
        "Lo primero que exploraremos del grafo son el número de ejes y de nodos. Nuestro grafo tiene 23 nodos y 94 ejes."
      ]
    },
    {
      "cell_type": "code",
      "execution_count": null,
      "metadata": {
        "id": "euzwgDzNK5R6",
        "outputId": "362a1268-6aa0-4d92-8256-bc637f1daab6"
      },
      "outputs": [
        {
          "data": {
            "text/plain": [
              "(23, 94)"
            ]
          },
          "execution_count": 26,
          "metadata": {},
          "output_type": "execute_result"
        }
      ],
      "source": [
        "G.number_of_nodes(), G.number_of_edges()"
      ]
    },
    {
      "cell_type": "markdown",
      "metadata": {
        "id": "MBIhiPSRK5R6"
      },
      "source": [
        "## 1. Centralidad\n",
        "\n",
        "Cuando se analizan redes es común que se desee encontrar los nodos que son más importantes para la red. En términos generales, la importancia de un nodo depende de su posición en la red. A medida que las redes se vuelven más complejas, será necesario emplear medidas de centralidad para describirlas. Así como en la estadística se cuenta con medidas de tendencia central como la mediana y la moda para caracterizar dónde se encuentra el “centro” de los datos, en el caso de las redes se cuenta con medidas de centralidad para determinar los nodos más importantes. \n",
        "\n",
        "En otras palabras, la centralidad mide la importancia de cada nodo según distintos criterios. Por lo tanto, estas funciones nos devolverán un vector de la misma longitud que el número de nodos.\n",
        "\n"
      ]
    },
    {
      "cell_type": "markdown",
      "metadata": {
        "id": "5-VOlyigK5R6"
      },
      "source": [
        "### 1.1. Medidas locales\n",
        "\n",
        "El adjetivo local se debe a que estas medidas solo toman en cuenta la influencia de un nodo sobre sus compañeros más cercanos. Estas medidas locales de centralidad muestran la importancia de un nodo teniendo en cuenta su posición en un contexto cercano, los nodos que tienen cerca.\n",
        "\n",
        "#### 1.1.1 Grado de centralidad (Degree): Número de conexiones de un nodo.\n",
        "\n",
        "Para obtener esta medida basta con contar el número de enlaces relacionados con cada nodo (Tanto los entrantes como los salientes de cada nodo). Tal y como está definida, esta estadística hará que destaquen aquellos nodos conectados a las sub-redes más amplias. Un valor más grande de esta medida indicará una mayor centralidad del nodo. \n",
        "\n",
        "El degree de un nodo se puede calcular directamente desde la matriz de adyacencia del grafo.\n",
        "\n",
        "* Para un grafo no dirigido:\n",
        "\n",
        "$Degree = \\sum_i{A_{ij}} = \\sum_j{A_{ij}}$\n",
        "\n",
        "Esta métrica se puede presentar también de manera normalizada; es decir, dividiendo el número de enlaces relacionados con cada uno de los n nodos dividido por n-1.\n",
        "\n",
        "* Degree Centrality: Número de conexiones de un nodo normalizado.\n",
        "\n",
        "$Degree Centrality = \\frac{\\sum_i{A_{ij}}}{N-1}$\n",
        "\n",
        "Otras variantes de esta medida de centralidad solo consideran los enlaces de salida (out-degree) de cada nodo o solo los de entrada (in-degree). Estas últimas dos métricas pueden estar normalizadas o no. La normalización puede ser importante cuando se quiere comparar esta métrica entre diferentes grafos con números de nodos muy diferentes.\n",
        "\n",
        "* Para un grafo dirigido, existen dos tipos de Degree según nos refiramos a conexiones entrante o salientes: \n",
        "\n",
        "$inDegree = \\sum_i{A_{ij}}$\n",
        "\n",
        "$outDegree = \\sum_j{A_{ij}}$\n"
      ]
    },
    {
      "cell_type": "markdown",
      "metadata": {
        "id": "pvOa4zZpK5R6"
      },
      "source": [
        "#### 1.1.2 Betweenness\n",
        "\n",
        "Esta medida cuantifica el número de veces que un nodo actúa como un puente a lo largo de la ruta geodésica (esto es, la de menor longitud) entre dos nodos. Su cálculo implica los siguientes pasos: \n",
        "\n",
        "1. Contar el número de rutas que unen un par de nodos (i y j).\n",
        "2. Encontrar la proporción de esas rutas que pasan por un tercer nodo (v).\n",
        "3. Repetir el cálculo para todas las parejas de nodos posibles (con la condición de que i y j sean diferentes de v) hallando en cada caso la proporción de rutas que pasan por el nodo v\n",
        "4. Sumar todas las proporciones obtenidas. Tomando σij como el número de rutas de mínima distancia que unen a los nodos i y j, y σij(v) como el número de rutas de distancia mínima que unen a estos nodos y que pasan por el nodo v, entonces la métrica de Betweenness para el nodo v está dada por:\n",
        "\n",
        "$$\n",
        "\\operatorname{Betweenness}(v)=\\sum_{i \\neq v \\varepsilon V} \\sum_{j \\neq v \\varepsilon V} \\delta_{i j}\n",
        "$$\n",
        "\n",
        "donde $\\delta_{i j}(v)=\\frac{\\sigma_{i j}(v)}{\\sigma_{i j}}$.\n",
        "\n",
        "Esta métrica solo toma valores entre cero y el número de parejas posibles dentro del grafo (excluyendo el nodo para el cual se está efectuando el cálculo). Esto es, si N es el número total de nodos, entonces la cota superior toma el valor de $\\frac{(N-1) !}{2 !((N-1)-2) !}$.\n",
        "\n",
        "Por otra parte, tal y como se ha mencionado de manera implícita, entre mayor sea el Betweenness mayor será la centralidad del nodo. En la red que veremos en el siguiente apartado, el nodo 11 es el más propenso a actuar como puente entre sus compañeros. \n",
        "\n",
        "Este estadístico también se puede presentar de manera normalizada multiplicando cada Between- ness(v) por la siguiente constante:\n",
        "\n",
        "$\\frac{2}{n(n-3)(n+2)}$\n",
        "\n"
      ]
    },
    {
      "cell_type": "markdown",
      "metadata": {
        "id": "TbJIYFNhK5R6"
      },
      "source": [
        "### 1.2 Medidas Globales de Centralidad \n",
        "\n",
        "Las medidas globales muestran la importancia de un nodo teniendo en cuenta su posición en el conjunto la red. De manera general, estas medidas identifican a aquellos agentes que están mejor ubicados para influir en toda la red lo más rápidamente posible. Ejemplos, de esta medida globales de centralidad son:\n",
        "\n",
        "#### 1.2.1 Closeness Centrality: Da una idea de \"Cómo de cerca está un nodo del resto de nodos de la red\".\n",
        "\n",
        "Para un nodo \"x\", se calcula dividiendo el número de nodos a los que se puede ir desde ese nodo (N-1) entre la suma de todas distancias de ese nodo \"x\" al resto de nodos. Es decir, calcula las rutas más cortas entre todos los nodos y asigna una puntuación a cada uno en función de la suma de sus rutas. Mide cuántos pasos se requieren para conectarse a cada uno de los nodos desde un nodo determinado. \n",
        "\n",
        "En general, es una medida de cuánto tarda en llegar la información de un nodo al resto de la red. Esta medida se calcula de la siguiente manera:\n",
        "\n",
        "$ClosenessCentrality = \\frac{N-1}{\\sum_j{d_{i,j}}}$\n",
        "\n",
        "Es fácil deducir que esta medida estará entre cero y uno. Adicionalmente, entre más cercana a 1 esté, mayor será la centralidad del nodo.\n",
        "\n",
        "Así como el grado de centralidad, esta métrica puede calcularse considerando solo las rutas de salida (out) de cada nodo o solo las rutas de entrada (in). Estas últimas dos métricas pueden estar normalizadas o no.\n",
        "\n",
        "#### 1.2.2. - Excentricidad: \n",
        "\n",
        "Mide la distancia de cada nodo al nodo más lejano.\n",
        "\n",
        "$Excentricidad(i)=\\max [\\operatorname{dist}(i, j)], \\quad \\forall j$"
      ]
    },
    {
      "cell_type": "markdown",
      "metadata": {
        "id": "muaRZ7SkK5R7"
      },
      "source": [
        "### Y ahora, en nuestro grafo con networkx"
      ]
    },
    {
      "cell_type": "code",
      "execution_count": null,
      "metadata": {
        "id": "rJadsB7LK5R7",
        "outputId": "858ed49f-276e-4d8f-fd57-217859745db6"
      },
      "outputs": [
        {
          "data": {
            "text/plain": [
              "DegreeView({0: 9, 1: 9, 2: 9, 3: 9, 4: 9, 5: 9, 6: 9, 7: 9, 8: 9, 9: 10, 10: 2, 11: 2, 12: 2, 13: 10, 14: 9, 15: 9, 16: 9, 17: 9, 18: 9, 19: 9, 20: 9, 21: 9, 22: 9})"
            ]
          },
          "execution_count": 27,
          "metadata": {},
          "output_type": "execute_result"
        }
      ],
      "source": [
        "# Grado de los nodos: el número de conexiones de cada nodo.\n",
        "nx.degree(G)"
      ]
    },
    {
      "cell_type": "code",
      "execution_count": null,
      "metadata": {
        "id": "rSdOIPozK5R7",
        "outputId": "dd2160fc-66b1-4287-b138-e8bc1e1e62f2"
      },
      "outputs": [
        {
          "name": "stdout",
          "output_type": "stream",
          "text": [
            "\"\n",
            "\n",
            "**1. Propiedades de los nodos.**\n",
            "\n",
            "Mide la importancia de cada nodo según distintos criterios. Estas funciones nos devolverán un vector de la misma longitud que el número de nodos.\n",
            "\n",
            "Locales: muestran la importancia de un nodo teniendo en cuenta su posición en un contexto cercano, los nodos que tienen cerca.\n",
            "\n",
            "        - Degree: Número de conexiones de un nodo.\n",
            "                nx.degree(G)[11] = 2\n",
            "                nx.degree(G)[17] = 9\n",
            "\n",
            "        - Degree Centrality: Número de conexiones de un nodo normalizado con el número global de conexiones.\n",
            "                nx.degree_centrality(G)[11] = 0.091\n",
            "                nx.degree_centrality(G)[17] = 0.41\n",
            "\n",
            "Globales: muestran la importancia de un nodo teniendo en cuenta su posición en toda la red.\n",
            "\n",
            "        - Closeness Centrality: Da una idea de \"Cómo de cerca está un nodo del resto de nodos de la red\".\n",
            "                nx.closeness_centrality(G)[11] = 0.37\n",
            "                nx.closeness_centrality(G)[17] = 0.29\n",
            "\n",
            "        - Betweenness Centrality: Mide cuántas veces un nodo forma parte del camino más cercano entre dos nodos.\n",
            "                nx.betweenness_centrality(G)[11] = 0.52\n",
            "                nx.betweenness_centrality(G)[17] = 0.0\n",
            "\n",
            "        - Eccentricity: Distancia al nodo más lejano.\n",
            "                nx.eccentricity(G)[11] = 3\n",
            "                nx.eccentricity(G)[17] = 6\n",
            "\n"
          ]
        }
      ],
      "source": [
        "print(f\"\"\"\"\n",
        "\n",
        "**1. Propiedades de los nodos.**\n",
        "\n",
        "Mide la importancia de cada nodo según distintos criterios. Estas funciones nos devolverán un vector de la misma longitud que el número de nodos.\n",
        "\n",
        "Locales: muestran la importancia de un nodo teniendo en cuenta su posición en un contexto cercano, los nodos que tienen cerca.\n",
        "\n",
        "        - Degree: Número de conexiones de un nodo.\n",
        "                nx.degree(G)[11] = {nx.degree(G)[11]}\n",
        "                nx.degree(G)[17] = {nx.degree(G)[17]}\n",
        "\n",
        "        - Degree Centrality: Número de conexiones de un nodo normalizado con el número global de conexiones.\n",
        "                nx.degree_centrality(G)[11] = {nx.degree_centrality(G)[11]:.2}\n",
        "                nx.degree_centrality(G)[17] = {nx.degree_centrality(G)[17]:.2}\n",
        "\n",
        "Globales: muestran la importancia de un nodo teniendo en cuenta su posición en toda la red.\n",
        "\n",
        "        - Closeness Centrality: Da una idea de \"Cómo de cerca está un nodo del resto de nodos de la red\".\n",
        "                nx.closeness_centrality(G)[11] = {nx.closeness_centrality(G)[11]:.2}\n",
        "                nx.closeness_centrality(G)[17] = {nx.closeness_centrality(G)[17]:.2}\n",
        "\n",
        "        - Betweenness Centrality: Mide cuántas veces un nodo forma parte del camino más cercano entre dos nodos.\n",
        "                nx.betweenness_centrality(G)[11] = {nx.betweenness_centrality(G)[11]:.2}\n",
        "                nx.betweenness_centrality(G)[17] = {nx.betweenness_centrality(G)[17]:.2}\n",
        "\n",
        "        - Eccentricity: Distancia al nodo más lejano.\n",
        "                nx.eccentricity(G)[11] = {nx.eccentricity(G)[11]}\n",
        "                nx.eccentricity(G)[17] = {nx.eccentricity(G)[17]}\n",
        "\"\"\")\n"
      ]
    },
    {
      "cell_type": "markdown",
      "metadata": {
        "id": "6fwP2QBlK5R7"
      },
      "source": [
        "## 2. Propiedades globales del grafo. Medidas agregadas\n",
        "\n",
        "Diámetro: mide la máxima excentricidad.\n",
        "\n",
        "$Dimetro = max[Excentricidad(i)], ∀i$\n",
        "\n",
        "Esto es, el par de nodos más alejados en toda la red requieren de dos pases para conectarse.\n",
        "Densidad: es la proporción de pares de nodos conectados en la red sobre todos los posibles. Si esta medida es 1 (o 100%), entonces el grafo es totalmente conexo (todos los nodos se conectan de manera directa con todos). Tomando n como el número total de nodos y E como el número de pares conectados en el grafo, entonces, la densidad se calcula como:\n",
        "D=E 12n(n−1)\n",
        "donde 21 n(n−1) es el número total de pares de nodos conectados que pueden existir en el grafo. El cálculo de esta medida solo exige el conocimiento de si un par de nodos se conectaron o no, no\n",
        " 10\n",
        "se requiere saber el número de conexiones. Así que se debe transformar la matriz de adyacencia para que contenga solo dos valores: ceros (en caso de que no haya conexión) y unos (cuando hay conexión). Para el equipo francés, según el cálculo mostrado en el cuadro , el parámetro de la densidad toma un valor igual a 66%. Es decir, de todas las posibles conexiones (100%), se hicieron efectivas el 66 %.\n",
        "\n",
        "\n",
        "\n",
        "\n",
        "- Degree medio: Número de conexiones medio de los nodos de un grafo.\n",
        "- Densidad del grafo: Número de conexiones / Número posible de conexiones.\n",
        "$D=\\frac{E}{\\frac{1}{2} n(n-1)}$\n",
        "\n",
        "\n",
        "\n",
        "- Diámetro: Excentricidad máxima: Distancia máxima entre dos nodos.\n",
        "- Transitividad: es una medida de la ocurrencia de pequeñas subredes de tres nodos totalmente conectados.\n",
        "- Reciprocidad: mide la probabilidad de que, dado que existe una conexión entre i y j que parte de i, exista una conexión entre estos que parta de j. \n"
      ]
    },
    {
      "cell_type": "code",
      "execution_count": null,
      "metadata": {
        "id": "BiNqec3zK5R7",
        "outputId": "0fcd9740-4517-4ad2-afb5-c0a319324c9d"
      },
      "outputs": [
        {
          "name": "stdout",
          "output_type": "stream",
          "text": [
            "\n",
            "\n",
            "**2. Propiedades globales del grafo.**\n",
            "\n",
            "        - Degree medio: Número de conexiones medio de los nodos de un grafo.\n",
            "                8.17\n",
            "        - Densidad del grafo: Número de conexiones / Número posible de conexiones.\n",
            "                0.3715415019762846\n",
            "        - Diámetro: Distancia máxima entre dos nodos.\n",
            "                6\n",
            "                False\n",
            "\n",
            "        - Otras medidas: Transitividad, Reciprocidad.\n",
            "                0.97165991902834\n",
            "                {0: 1.0, 1: 1.0, 2: 1.0, 3: 1.0, 4: 1.0, 5: 1.0, 6: 1.0, 7: 1.0, 8: 1.0, 9: 0.8, 10: 0, 11: 0, 12: 0, 13: 0.8, 14: 1.0, 15: 1.0, 16: 1.0, 17: 1.0, 18: 1.0, 19: 1.0, 20: 1.0, 21: 1.0, 22: 1.0}\n",
            "\n",
            "\n"
          ]
        }
      ],
      "source": [
        "print(f\"\"\"\n",
        "\n",
        "**2. Propiedades globales del grafo.**\n",
        "\n",
        "        - Degree medio: Número de conexiones medio de los nodos de un grafo.\n",
        "                {((G.number_of_edges()*2) / G.number_of_nodes()):,.3}\n",
        "        - Densidad del grafo: Número de conexiones / Número posible de conexiones.\n",
        "                {nx.density(G)}\n",
        "        - Diámetro: Distancia máxima entre dos nodos.\n",
        "                {nx.diameter(G)}\n",
        "                {nx.diameter(G) == max(nx.eccentricity(G))}\n",
        "\n",
        "        - Otras medidas: Transitividad, Reciprocidad.\n",
        "                {nx.transitivity(G)}\n",
        "                {nx.algorithms.clustering(G)}\n",
        "\n",
        "\"\"\"\n",
        "\n",
        ")"
      ]
    },
    {
      "cell_type": "markdown",
      "metadata": {
        "id": "w7NPbPChK5R7"
      },
      "source": [
        "## 3. Propiedades de conjuntos de nodos"
      ]
    },
    {
      "cell_type": "markdown",
      "metadata": {
        "id": "P3wb8K7FK5R7"
      },
      "source": [
        "Como veremos, el grado del nodo es una de las propiedades más importante de la teoría de grafos ya que se pueden estraer muchas conclusiones de su análisis."
      ]
    },
    {
      "cell_type": "code",
      "execution_count": null,
      "metadata": {
        "id": "wErfgh6eK5R8",
        "outputId": "c8b9270f-196c-47e3-c264-696d46d67493"
      },
      "outputs": [
        {
          "name": "stdout",
          "output_type": "stream",
          "text": [
            "\"\n",
            "\n",
            "**2. Propiedades entre conjuntos de nodos.**\n",
            "\n",
            "        - Distancia entre dos nodos\n",
            "                (0, {0: [0], 1: [0, 1], 2: [0, 2], 3: [0, 3], 4: [0, 4], 5: [0, 5], 6: [0, 6], 7: [0, 7], 8: [0, 8], 9: [0, 9], 10: [0, 9, 10], 11: [0, 9, 10, 11], 12: [0, 9, 10, 11, 12], 13: [0, 9, 10, 11, 12, 13], 14: [0, 9, 10, 11, 12, 13, 14], 15: [0, 9, 10, 11, 12, 13, 15], 16: [0, 9, 10, 11, 12, 13, 16], 17: [0, 9, 10, 11, 12, 13, 17], 18: [0, 9, 10, 11, 12, 13, 18], 19: [0, 9, 10, 11, 12, 13, 19], 20: [0, 9, 10, 11, 12, 13, 20], 21: [0, 9, 10, 11, 12, 13, 21], 22: [0, 9, 10, 11, 12, 13, 22]})\n",
            "\n",
            "        - Cliqués: conjuntos de nodos con conectividad completa (todos los nodos conectados con todos)\n",
            "                [[9, 0, 1, 2, 3, 4, 8, 5, 6, 7], [9, 10], [11, 10], [11, 12], [12, 13], [13, 14, 15, 16, 17, 18, 19, 20, 21, 22]]\n",
            "\n",
            "\n"
          ]
        }
      ],
      "source": [
        "print(f\"\"\"\"\n",
        "\n",
        "**2. Propiedades entre conjuntos de nodos.**\n",
        "\n",
        "        - Distancia entre dos nodos\n",
        "                {list(nx.algorithms.all_pairs_shortest_path(G))[0]}\n",
        "\n",
        "        - Cliqués: conjuntos de nodos con conectividad completa (todos los nodos conectados con todos)\n",
        "                {list(nx.algorithms.clique.find_cliques(G))}\n",
        "\n",
        "\"\"\")\n"
      ]
    },
    {
      "cell_type": "markdown",
      "metadata": {
        "id": "zaePMZZhK5R9"
      },
      "source": [
        "# References"
      ]
    },
    {
      "cell_type": "markdown",
      "metadata": {
        "id": "jfnE_NiTK5R9"
      },
      "source": [
        "\n",
        "\n",
        "https://towardsdatascience.com/graph-machine-learning-with-python-pt-1-basics-metrics-and-algorithms-cc40972de113\n",
        "\n",
        "https://towardsdatascience.com/graph-machine-learning-with-python-pt-2-random-graphs-and-diffusion-models-of-cryptopunks-trading-99cd5170b5ea\n",
        "\n",
        "https://towardsdatascience.com/graph-machine-learning-with-python-part-3-unsupervised-learning-aa2854fe0ff2\n",
        "\n",
        "https://ericmjl.github.io/Network-Analysis-Made-Simple/01-introduction/03-viz/\n",
        "\n",
        "http://networksciencebook.com/\n",
        "\n"
      ]
    },
    {
      "cell_type": "markdown",
      "metadata": {
        "id": "fpKEZu7YK5R9"
      },
      "source": [
        "## Distribución de grados\n",
        "\n",
        "La distribución de grados, pk, proporciona la probabilidad de que un nodo seleccionado al azar en la red tenga un grado k. Dado que pk es una probabilidad, debe normalizarse, es decir\n",
        "\n",
        "$$\n",
        "\\sum_{k=1}^{\\infty} p_k=1\n",
        "$$\n",
        "Para una red con $\\mathrm{N}$ nodos, la distribución de grados es el histograma normalizado está dado por\n",
        "$$\n",
        "p_k=\\frac{N_k}{N}\n",
        "$$\n",
        "donde $N_k$ es el número de nodos de grado k. Por lo tanto, el número de nodos de grado k se puede obtener a partir de la distribución de grados como $N_k=N p_k$.\n",
        "\n",
        "La distribución de grados ha asumido un papel central en la teoría de redes tras el descubrimiento de las redes libres de escala [8]. Una razón es que el cálculo de la mayoría de las propiedades de la red requiere que conozcamos $p_k$. Por ejemplo, el grado promedio de una red se puede escribir como\n",
        "$$\n",
        "\\langle k\\rangle=\\sum_{k=0}^{\\infty} k p_k\n",
        "$$\n",
        "La otra razón es que la forma funcional precisa de $p_k$ determina muchos fenómenos de red, desde la solidez de la red hasta la propagación de virus."
      ]
    },
    {
      "cell_type": "markdown",
      "metadata": {
        "id": "Z0yclzOrK5R9"
      },
      "source": [
        "![Network Science](https://github.com/fcarazo/network-science/blob/master/docs/img/00_degree-dist.jpeg?raw=true)"
      ]
    },
    {
      "attachments": {},
      "cell_type": "markdown",
      "metadata": {
        "id": "l-bIsAQgK5R9"
      },
      "source": [
        "## Información de sesión"
      ]
    },
    {
      "cell_type": "code",
      "execution_count": null,
      "metadata": {},
      "outputs": [],
      "source": [
        "from sinfo import sinfo\n",
        "sinfo()"
      ]
    },
    {
      "attachments": {},
      "cell_type": "markdown",
      "metadata": {},
      "source": [
        "## Bibliografía\n",
        "<br>\n",
        "\n",
        "Linear Models with R by Julian J.Faraway [libro](https://www.amazon.es/gp/product/1439887330/ref=as_li_qf_asin_il_tl?ie=UTF8&tag=cienciadedato-21&creative=24630&linkCode=as2&creativeASIN=1439887330&linkId=e9ca62e854567fb3f9d0ea044f084b11)"
      ]
    },
    {
      "attachments": {},
      "cell_type": "markdown",
      "metadata": {},
      "source": [
        "**¿Cómo citar este documento?**\n",
        "\n",
        "<p style=\"text-align:left\"><font size=\"3\" color=\"#555\">\n",
        "Graph Machine Learning: Grafos by Fernando Carazo, available under a Attribution 4.0 International (CC BY 4.0) at https://www.cienciadedatos.net/documentos/\n",
        "\n",
        "    \n",
        "</font></p>"
      ]
    },
    {
      "attachments": {},
      "cell_type": "markdown",
      "metadata": {},
      "source": [
        "<a rel=\"license\" href=\"http://creativecommons.org/licenses/by/4.0/\"><img alt=\"Creative Commons Licence\" style=\"border-width:0\" src=\"https://i.creativecommons.org/l/by/4.0/88x31.png\" /></a><br />This work by Fernando Carazo is licensed under a <a rel=\"license\" href=\"http://creativecommons.org/licenses/by/4.0/\">Creative Commons Attribution 4.0 International License</a>."
      ]
    },
    {
      "attachments": {},
      "cell_type": "markdown",
      "metadata": {},
      "source": [
        "%%html\n",
        "<style>\n",
        ".text_cell_render p {\n",
        "    text-align: justify;\n",
        "    font-family: 'Open Sans','Helvetica Neue',Helvetica,Arial,sans-serif;\n",
        "    #font-size: 16px;\n",
        "    line-height: 1.5;\n",
        "    font-weight: 400;\n",
        "    text-shadow: none;\n",
        "    color: #333333;\n",
        "    text-rendering: optimizeLegibility;\n",
        "    letter-spacing: +0.1px;\n",
        "    margin-bottom: 1.15rem;\n",
        "    font-size: 1.15em\n",
        "}\n",
        "\n",
        "#notebook-container {\n",
        "    background-color: #fcfcfc;\n",
        "}\n",
        "\n",
        "div.inner_cell {\n",
        "    margin-right: 5%;\n",
        "}\n",
        "\n",
        ".output_png {\n",
        "        display: table-cell;\n",
        "        text-align: center;\n",
        "        vertical-align: middle;\n",
        "}\n",
        "\n",
        ".rendered_html code {\n",
        "    background-color: #f2f2f2;\n",
        "    font-family: monospace;\n",
        "    color: #a20505;\n",
        "    font-size: 15px;\n",
        "    #font-size: 1em;\n",
        "    padding: 1px 1px;\n",
        "    border: solid;\n",
        "    border-color: darkgray;\n",
        "    border-width: thin;\n",
        "}\n",
        "\n",
        ".rendered_html h1 {\n",
        "    padding-top: 50px;\n",
        "}\n",
        "\n",
        ".rendered_html h2 {\n",
        "    font-size: 30px\n",
        "    margin-top: 0;\n",
        "    font-size: 2.488em;\n",
        "}\n",
        "\n",
        ".rendered_html h3 {\n",
        "    font-size: 25px;\n",
        "}\n",
        "\n",
        ".rendered_html h4 {\n",
        "    font-size: 20px;\n",
        "}\n",
        "\n",
        "</style>"
      ]
    }
  ],
  "metadata": {
    "colab": {
      "provenance": []
    },
    "kernelspec": {
      "display_name": "base",
      "language": "python",
      "name": "python3"
    },
    "language_info": {
      "codemirror_mode": {
        "name": "ipython",
        "version": 3
      },
      "file_extension": ".py",
      "mimetype": "text/x-python",
      "name": "python",
      "nbconvert_exporter": "python",
      "pygments_lexer": "ipython3",
      "version": "3.9.12"
    },
    "toc": {
      "base_numbering": 1,
      "nav_menu": {},
      "number_sections": true,
      "sideBar": true,
      "skip_h1_title": false,
      "title_cell": "Table of Contents",
      "title_sidebar": "Contents",
      "toc_cell": false,
      "toc_position": {},
      "toc_section_display": true,
      "toc_window_display": false
    },
    "vscode": {
      "interpreter": {
        "hash": "d7288e82646d3164eca24130947288f8779d11454649f2c02a5dfc42af7f324c"
      }
    }
  },
  "nbformat": 4,
  "nbformat_minor": 0
}
