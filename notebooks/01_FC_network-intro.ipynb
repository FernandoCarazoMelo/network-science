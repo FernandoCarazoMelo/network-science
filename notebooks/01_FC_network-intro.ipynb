{
 "cells": [
  {
   "cell_type": "markdown",
   "metadata": {},
   "source": [
    "# Graph Machine Learning\n",
    "\n",
    "\n"
   ]
  },
  {
   "cell_type": "markdown",
   "metadata": {},
   "source": [
    ">  ¿Qué tienen en común el sistema de recomendación de productos de Amazon, la búsqueda de futuras conexiones de LinkedIn, la optimización de rutas de Google Maps o la predicción de tráfico de Waze?\n",
    "> - ¡Que todos estos problemas puden ser resueltos con análisis de grafos!"
   ]
  },
  {
   "cell_type": "markdown",
   "metadata": {},
   "source": [
    "Los grafos -también llamadas redes, o networks- son uno de los áreas de analítica avanzada con mayor potencial en los últimos años. ¿Por qué? Porque, como iremos viendo en este curso, nos permiten modelar y resolver problemas muy complejos de forma sencilla.\n",
    "\n",
    "# Introducción a los Grafos\n",
    "\n",
    "La definición más sencilla de Grafos es *la red de conexiones entre distintas entidades*. \n",
    "\n",
    "Toda la teoría de grafos o Network Science se basa en el análisis de estos dos elementos: \"entidades\" (a los que llamaremos nodos o nodes) y \"conexiones\" a los que llamaremos ejes o edges). \n",
    "\n",
    "En la vida real nos encontramos con muchísimas situaciones que pueden modelarse con grafos:\n",
    "\n",
    "- La red de amistad entre todos los usuarios de Facebook.\n",
    "- El histórico de compras de distintos clientes de Amazon.\n",
    "- La red de publicaciones científicos de distintos investigadores.\n",
    "- La red de carreteras de España.\n",
    "\n"
   ]
  },
  {
   "cell_type": "markdown",
   "metadata": {},
   "source": [
    "\n",
    "![](../docs/img/04_map_graph.png)\n",
    "Figura 2. Un mapa de carreteras también se puede modelar como un grafo."
   ]
  },
  {
   "cell_type": "markdown",
   "metadata": {},
   "source": [
    "\n",
    "\n",
    "Si lo piensas, en cualquier de estos ejemplo podemos encontrar nodos (ej, usuarios) y ejes (ej, amistad entre usuarios). Te dejo el resto para que lo pienses! ;).\n",
    "\n"
   ]
  },
  {
   "cell_type": "markdown",
   "metadata": {},
   "source": [
    "Éste es, por ejemplo el grafo de internet, ejes son los enlaces entre dos direcciones IP. Pero no te preocupes que el curso será más sencillo\n",
    "\n",
    "![](https://upload.wikimedia.org/wikipedia/commons/d/d2/Internet_map_1024.jpg)\n",
    "Mapa parcial de Internet basado en la información obtenida del sitio opte.org el 15 de enero de 2005. Cada linea dibujada entre dos nodos representa el enlace entre dos direcciones IP. La longitud de las líneas es proporcional al tiempo de espera entre los nodos. La imagen representa 30% de las redes tipo C accesibles al programa de colección de datos de 2005."
   ]
  },
  {
   "cell_type": "markdown",
   "metadata": {},
   "source": [
    "![](../docs/img/02_gif_graph.svg)"
   ]
  },
  {
   "cell_type": "markdown",
   "metadata": {},
   "source": [
    "# Networkx\n",
    "\n",
    "El paquete más utilizado para trabajar con grafos en Python es Networkx. Según su documentación *NetworkX es un paquete de Python para la creación, manipulación y estudio de la estructura, dinámica y funciones de redes complejas*.\n",
    "\n",
    "![](https://networkx.org/_static/networkx_logo.svg)\n",
    "\n",
    "[Aquí](https://networkx.org/documentation/stable/reference/introduction.html) podrás consultar toda la documentación de la librería."
   ]
  },
  {
   "cell_type": "markdown",
   "metadata": {},
   "source": [
    "Instala la librería con `pip install networkx` y empezamos a modelar grafos!"
   ]
  },
  {
   "cell_type": "markdown",
   "metadata": {},
   "source": [
    "Hay dos formas de crear grafos:\n",
    "\n",
    "1. De forma manual.\n",
    "2. Desde una archivo o un DataFrame.\n",
    "\n",
    "Lo más frecuente es crearlo desde archivos, pero para que veas como funciona, aquí tienes un ejemplo mínimo."
   ]
  },
  {
   "cell_type": "code",
   "execution_count": 35,
   "metadata": {},
   "outputs": [
    {
     "data": {
      "image/png": "[encoded data removed]",
      "text/plain": [
       "<Figure size 640x480 with 1 Axes>"
      ]
     },
     "metadata": {},
     "output_type": "display_data"
    }
   ],
   "source": [
    "import networkx as nx\n",
    "import warnings\n",
    "warnings.filterwarnings('ignore')\n",
    "\n",
    "# Creamos una instancia tipo \"Grafo\".\n",
    "G = nx.Graph()\n",
    "\n",
    "# Añadimos conexiones\n",
    "G.add_edges_from([(1, 2), (1, \"a\"), (\"a\",4), (4,1)])\n",
    "G.add_nodes_from([5,6])\n",
    "\n",
    "\n",
    "# Dibujamos la red.\n",
    "nx.draw(G, with_labels=True)"
   ]
  },
  {
   "cell_type": "code",
   "execution_count": 36,
   "metadata": {},
   "outputs": [
    {
     "name": "stdout",
     "output_type": "stream",
     "text": [
      "[1, 2, 'a', 4, 5, 6]\n",
      "[(1, 2), (1, 'a'), (1, 4), ('a', 4)]\n"
     ]
    }
   ],
   "source": [
    "# Imprimimos por pantalla los nodos y ejes.\n",
    "print(G.nodes)\n",
    "print(G.edges)\n"
   ]
  },
  {
   "cell_type": "markdown",
   "metadata": {},
   "source": [
    "Si queremos acceder a los nodos vecinos de un nodo utilizamos el método `G.neighbors()`"
   ]
  },
  {
   "cell_type": "code",
   "execution_count": 37,
   "metadata": {},
   "outputs": [
    {
     "data": {
      "text/plain": [
       "[1, 4]"
      ]
     },
     "execution_count": 37,
     "metadata": {},
     "output_type": "execute_result"
    }
   ],
   "source": [
    "# Extraemos los vecinos del nodo \"a\"\n",
    "list(G.neighbors(\"a\"))"
   ]
  },
  {
   "cell_type": "markdown",
   "metadata": {},
   "source": [
    "> Nota. El nombre de los nodos puede ser tanto numérico como caracteres (en el ejemplo aparecen combinados):"
   ]
  },
  {
   "cell_type": "markdown",
   "metadata": {},
   "source": [
    "# Tipos de grafos y matrices de adyacencia"
   ]
  },
  {
   "cell_type": "markdown",
   "metadata": {},
   "source": [
    "## Matriz de adjacencia"
   ]
  },
  {
   "cell_type": "markdown",
   "metadata": {},
   "source": [
    "Probablemente el concepto más importante en la teoría de grafos es la matriz de adyacencia (o en inglés, the adjacency matrix).\n",
    "\n",
    "Hay varias formas de representar un grafo. \n",
    "\n",
    "Básicamente mencionamos dos:\n",
    "1. La lista de adyacencia (una lista de las conexiones).\n",
    "2. La matriz de adyacencia: una matriz binaria (veremos que hay exepciones) de dimensión NxN (siendo N el número de nodos) donde aparede un 1 si la conexión existe.\n",
    "\n",
    "Para grafos no dirigidos (en el siguiente punto veremos otros tipos de grafos) esta matriz es simétrica: si existe conexión entre los nodos 1 y 5, también existe la conexión entre los nodos 5 y 1."
   ]
  },
  {
   "cell_type": "code",
   "execution_count": 38,
   "metadata": {},
   "outputs": [
    {
     "data": {
      "image/png": "[encoded data removed]",
      "text/plain": [
       "<Figure size 640x480 with 1 Axes>"
      ]
     },
     "metadata": {},
     "output_type": "display_data"
    }
   ],
   "source": [
    "# Creamos una instancia tipo \"Grafo\".\n",
    "G = nx.Graph()\n",
    "\n",
    "# Añadimos conexiones\n",
    "G.add_edges_from([(1, 2), (2,3), (1, 4), (1, 5), (4,2), (5,4)])\n",
    "\n",
    "# Dibujamos la red. Más adelante daremos más detalles sobre representación de grafos.\n",
    "nx.draw(G, with_labels=True)"
   ]
  },
  {
   "cell_type": "code",
   "execution_count": 39,
   "metadata": {},
   "outputs": [
    {
     "data": {
      "text/plain": [
       "{1: [2, 4, 5], 2: [1, 3, 4], 3: [2], 4: [1, 2, 5], 5: [1, 4]}"
      ]
     },
     "execution_count": 39,
     "metadata": {},
     "output_type": "execute_result"
    }
   ],
   "source": [
    "# neighbors\n",
    "nx.to_dict_of_lists(G)"
   ]
  },
  {
   "cell_type": "code",
   "execution_count": 40,
   "metadata": {},
   "outputs": [
    {
     "data": {
      "text/plain": [
       "matrix([[0, 1, 0, 1, 1],\n",
       "        [1, 0, 1, 1, 0],\n",
       "        [0, 1, 0, 0, 0],\n",
       "        [1, 1, 0, 0, 1],\n",
       "        [1, 0, 0, 1, 0]])"
      ]
     },
     "execution_count": 40,
     "metadata": {},
     "output_type": "execute_result"
    }
   ],
   "source": [
    "adjM = nx.adjacency_matrix(G)\n",
    "\n",
    "# Pasamos de matriz sparse a dense para poder imprimirla por pantalla\n",
    "adjM = adjM.todense()\n",
    "adjM"
   ]
  },
  {
   "cell_type": "markdown",
   "metadata": {},
   "source": [
    "![](../docs/img/05_adjacency_matrix.jpg)"
   ]
  },
  {
   "cell_type": "markdown",
   "metadata": {},
   "source": [
    "## Node distances"
   ]
  },
  {
   "cell_type": "markdown",
   "metadata": {},
   "source": [
    "La matriz de adyacencia nos da de forma implícita las distancias de orden 1 entre cualquier par de nodos. La distancia de orden 1 es trivial, ya que son directamente las conexiones del grafo.\n",
    "\n",
    "Una propiedad interesante de la matriz de adyacencia es que si la multiplicamos por sí misma `n` veces, obtenemos la matriz de distancias de orden `n`. \n",
    "\n",
    "Así, la matriz de distancia de orden 2 nos mostrará todos los pares de nodos que están conectados con un nodo intermedio. En el ejemplo, los nodos `2` y `5` tienen entre medias los nodos `4` y `1`, es decir, existen dos caminos posibles de orden 2 que los conectan: el `2-4-5` y el `2-1-5`. Por ese motivo, el elemento [2,5] de la matriz de distancias de orden 2 es 2."
   ]
  },
  {
   "cell_type": "code",
   "execution_count": 41,
   "metadata": {},
   "outputs": [
    {
     "name": "stdout",
     "output_type": "stream",
     "text": [
      "[[3 1 1 2 1]\n",
      " [1 3 0 1 2]\n",
      " [1 0 1 1 0]\n",
      " [2 1 1 3 1]\n",
      " [1 2 0 1 2]]\n",
      "Caminos de orden dos entre los nodos 2 y 5 = 2\n"
     ]
    }
   ],
   "source": [
    "distancias_orden_dos = adjM*adjM\n",
    "\n",
    "print(distancias_orden_dos)\n",
    "# elemento 2,5 en python, se resta uno a los índices\n",
    "print(f\"Caminos de orden dos entre los nodos 2 y 5 = {distancias_orden_dos[1,4]}\")"
   ]
  },
  {
   "cell_type": "markdown",
   "metadata": {},
   "source": [
    "## Tipos de Grafos\n",
    "\n",
    "\n",
    "Todo grafo se clasifica según tres criterios principales.\n",
    "\n",
    "![](../docs/img/drawio/01_graph_types.drawio.svg)\n",
    "\n",
    "En la siguiente figura se representan los distintos tipos de grafos junto con sus matrices de adyacencia.\n"
   ]
  },
  {
   "cell_type": "markdown",
   "metadata": {},
   "source": [
    "![](../docs/img/01_tipos_de_grafos.jpg)"
   ]
  },
  {
   "cell_type": "markdown",
   "metadata": {},
   "source": [
    "### 1. Dirigido/ no dirigido, (en inglés, directed). Grafos A y B.\n",
    "\n",
    "Los ejes tienen dirección definida (si existe la conexión entre los nodos A->B, no tiene porqué existir la conexión entre b->a). Los ejes de estos grafos se suelen representar con una flecha. Ejemplo: envío de emails, donde la dirección es qué usuario envía un email a otro.\n",
    "\n",
    "La matriz de adyacencia de los grafos dirigidos deja de ser simétrica.\n",
    "\n",
    "\n"
   ]
  },
  {
   "cell_type": "code",
   "execution_count": 42,
   "metadata": {},
   "outputs": [
    {
     "data": {
      "image/png": "[encoded data removed]",
      "text/plain": [
       "<Figure size 640x480 with 1 Axes>"
      ]
     },
     "metadata": {},
     "output_type": "display_data"
    }
   ],
   "source": [
    "# Creamos una instancia tipo \"Grafo dirigido\".\n",
    "G = nx.DiGraph()\n",
    "\n",
    "# Añadimos conexiones\n",
    "G.add_edges_from([(1, 2), (2,3), (1, 4), (1, 5), (4,2), (5,4)])\n",
    "\n",
    "# Dibujamos la red. Más adelante daremos más detalles sobre representación de grafos.\n",
    "nx.draw(G, with_labels=True)"
   ]
  },
  {
   "cell_type": "code",
   "execution_count": 43,
   "metadata": {},
   "outputs": [
    {
     "data": {
      "text/plain": [
       "matrix([[0, 1, 0, 1, 1],\n",
       "        [0, 0, 1, 0, 0],\n",
       "        [0, 0, 0, 0, 0],\n",
       "        [0, 1, 0, 0, 0],\n",
       "        [0, 0, 0, 1, 0]])"
      ]
     },
     "execution_count": 43,
     "metadata": {},
     "output_type": "execute_result"
    }
   ],
   "source": [
    "adjM = nx.adjacency_matrix(G)\n",
    "adjM.todense()"
   ]
  },
  {
   "cell_type": "markdown",
   "metadata": {},
   "source": [
    "### 2. Ponderados / No ponderados, (en inglés, weighted). Grafos A y C\n",
    "\n",
    "los ejes del grafo tienen un peso asociado. Los ejes de estos grafos se suelen representar con una anchura distinta en función del peso. Ejemplo: Red social, donde el peso es el número de interacciones entre dos usuarios.\n",
    "\n"
   ]
  },
  {
   "cell_type": "code",
   "execution_count": 44,
   "metadata": {},
   "outputs": [
    {
     "data": {
      "text/plain": [
       "EdgeDataView([(1, 2, {'weight': 0.5}), (1, 4, {'weight': 0.1}), (1, 5, {'weight': 0.75}), (2, 3, {'weight': 0.9}), (2, 4, {'weight': 0.01}), (4, 5, {'weight': 0.3})])"
      ]
     },
     "execution_count": 44,
     "metadata": {},
     "output_type": "execute_result"
    }
   ],
   "source": [
    "# Creamos una instancia tipo \"Grafo\".\n",
    "G = nx.Graph()\n",
    "\n",
    "# Añadimos conexiones\n",
    "G.add_weighted_edges_from([(1, 2, 0.5), (2,3, 0.9), (1, 4, 0.1), (1, 5, 0.75), (4,2, 0.01), (5,4, 0.3)])\n",
    "\n",
    "G.edges(data=True)"
   ]
  },
  {
   "cell_type": "markdown",
   "metadata": {},
   "source": [
    "Como podemos ver, ahora los ejes tienen el atributo weight.\n",
    "\n",
    "En el siguiente apartado explicaremos más detalles de los atributos asociados a nodos y ejes."
   ]
  },
  {
   "cell_type": "markdown",
   "metadata": {},
   "source": [
    "\n",
    "\n",
    "### 3. Simples / bipartitos / tripartitos, etc.,  (en inglés, bipartite). Grafos A y D\n",
    "\n",
    "Los nodos del grafo tienen una (simple), dos (bipartito) o más naturalezas diferentes. Un ejemplo de un grafo bipartito es la red científica de publicaciones. Algunos nodos serán autores y otros serán artículos. En el grafo existirá un eje cuando un autor publique un artículo. \n",
    "\n",
    "En este último tipo de grafos es importante tener en cuenta que las conexiones únicamente puden ocurrir entre nodos de distinta naturaleza (ejemplo, entre autores y publicaciones).\n",
    "\n",
    "Una propiedad importante de los grafos bipartitos es que se pueden realizar \"proyecciones\" (Grafos \"E\"). Esto es construir un grafo para cada uno de los tipos de nodos en función de sus conexiones comunes. Más adelante veremos un ejemplo completo de estos grafos.\n"
   ]
  },
  {
   "cell_type": "markdown",
   "metadata": {},
   "source": [
    "> Un grafo puede tener cualquier combinación de estas características: por ejemplo, podemos tener un grafo simple, dirigido y ponderado"
   ]
  },
  {
   "cell_type": "markdown",
   "metadata": {},
   "source": [
    "Los grafos bipartitos son unos de los tipos de grafos más utilizados en el Graph Machine Learning. En el siguiente enlace encontrarás un case study con Grafos Bipartitos [proximamente]."
   ]
  },
  {
   "cell_type": "markdown",
   "metadata": {},
   "source": [
    "# Atributos de nodos y ejes"
   ]
  },
  {
   "cell_type": "markdown",
   "metadata": {},
   "source": [
    "\n",
    "\n",
    "Supongamos que estamos analizando los datos de una red social, en el que los nodos son usuarios y los ejes representan si dos usuarios son amigos.\n",
    "\n",
    "1. En este caso puede ser que queramos guardar información relativa a los usuarios, como por ejemplo:\n",
    "\n",
    "    - Nombre y apellidos.\n",
    "    - Edad.\n",
    "    - Profesión.\n",
    "    - Aficiones.\n",
    "\n",
    "    Los atributos de los nodos se añaden con el método `networkx.set_node_atributes(Grafo, diccionario, nombre)`\n",
    "\n",
    "\n",
    "2. Por otro lado, los ejes puede ser que también tengan atributos:\n",
    "\n",
    "    - Fecha en la que inició la amistad.\n",
    "    - Intensidad de la amista (weight)\n",
    "\n",
    "    Los atributos de los ejes se añaden con el método `networkx.set_edge_atributes()`\n",
    "\n",
    "Los atributos de nodos y ejes son muy importantes en el Graph Machine Learning. De hecho, las Graph Neural Networks utilizan atributos de ejes y nodos para hacer predicciones. \n",
    "\n",
    "> Por ejemplo, si queremos predecir futuras amistadas entre usuarios, será interesante tener en cuenta las aficiones de cada usuario: (Será más probable que usuarios con aficiones similares se hagan amigos en un futuro).\n"
   ]
  },
  {
   "cell_type": "code",
   "execution_count": 45,
   "metadata": {},
   "outputs": [
    {
     "data": {
      "text/plain": [
       "EdgeDataView([(1, 2, {}), (1, 4, {}), (1, 5, {}), (2, 3, {}), (2, 4, {}), (4, 5, {})])"
      ]
     },
     "execution_count": 45,
     "metadata": {},
     "output_type": "execute_result"
    }
   ],
   "source": [
    "# Creamos una instancia tipo \"Grafo\".\n",
    "G = nx.Graph()\n",
    "\n",
    "# Añadimos conexiones\n",
    "G.add_edges_from([(1, 2), (2,3), (1, 4), (1, 5), (4,2), (5,4)])\n",
    "\n",
    "\n",
    "G.edges(data=True)"
   ]
  },
  {
   "cell_type": "code",
   "execution_count": 46,
   "metadata": {},
   "outputs": [],
   "source": [
    "edges_weight = {\n",
    "    (1, 2): 0.5, \n",
    "    (2,3): 0.9, \n",
    "    (1, 4): 0.1, \n",
    "    (1, 5): 0.75, \n",
    "    (4,2): 0.01, \n",
    "    (5,4): 0.3\n",
    "}\n",
    "\n",
    "nx.set_edge_attributes(G, edges_weight, name=\"weight\")\n",
    "\n",
    "node_name = {\n",
    "    1:\"Jaime\",\n",
    "    2:\"María\",\n",
    "    3:\"Julio\",\n",
    "    4:\"Rosa\",\n",
    "    5:\"Alberto\"\n",
    "}\n",
    "\n",
    "node_aficiones = {\n",
    "    1:[\"Futbol\"],\n",
    "    2:[\"Baile\", \"Pádel\"],\n",
    "    3:[\"Golf\", \"Baile\"],\n",
    "    4:[\"Cocina\"],\n",
    "    5:[\"Cocina\", \"Jamón\"]\n",
    "}\n",
    "\n",
    "nx.set_node_attributes(G, node_name, name=\"Nombre\")\n",
    "nx.set_node_attributes(G, node_aficiones, name=\"Aficiones\")"
   ]
  },
  {
   "cell_type": "markdown",
   "metadata": {},
   "source": [
    "Para acceder a los atributos de nodos y ejes utilizamos `G.nodes(data=True)` o `G.edges(data=True)`. \n",
    "Estos comandos nos devuelven una objeto de nodos/ejes con un diccionario asociado con todos los atributos.\n",
    "\n",
    "En nuestro caso, los nodos no contienen ningún atributo todavía."
   ]
  },
  {
   "cell_type": "code",
   "execution_count": 47,
   "metadata": {},
   "outputs": [
    {
     "data": {
      "text/plain": [
       "NodeDataView({1: {'Nombre': 'Jaime', 'Aficiones': ['Futbol']}, 2: {'Nombre': 'María', 'Aficiones': ['Baile', 'Pádel']}, 3: {'Nombre': 'Julio', 'Aficiones': ['Golf', 'Baile']}, 4: {'Nombre': 'Rosa', 'Aficiones': ['Cocina']}, 5: {'Nombre': 'Alberto', 'Aficiones': ['Cocina', 'Jamón']}})"
      ]
     },
     "execution_count": 47,
     "metadata": {},
     "output_type": "execute_result"
    }
   ],
   "source": [
    "G.nodes(data=True)"
   ]
  },
  {
   "cell_type": "code",
   "execution_count": 48,
   "metadata": {},
   "outputs": [
    {
     "data": {
      "text/plain": [
       "EdgeDataView([(1, 2, {'weight': 0.5}), (1, 4, {'weight': 0.1}), (1, 5, {'weight': 0.75}), (2, 3, {'weight': 0.9}), (2, 4, {'weight': 0.01}), (4, 5, {'weight': 0.3})])"
      ]
     },
     "execution_count": 48,
     "metadata": {},
     "output_type": "execute_result"
    }
   ],
   "source": [
    "G.edges(data=True)"
   ]
  },
  {
   "cell_type": "markdown",
   "metadata": {},
   "source": [
    "> TRUCO: los atributos de ejes y nodos se pueden iterar directamente como si se tratase de un diccionario!"
   ]
  },
  {
   "cell_type": "code",
   "execution_count": 49,
   "metadata": {},
   "outputs": [
    {
     "name": "stdout",
     "output_type": "stream",
     "text": [
      "Eje que conecte el nodo 1 con el nodo 2 y tiene un peso de 0.5.\n",
      "Eje que conecte el nodo 1 con el nodo 4 y tiene un peso de 0.1.\n",
      "Eje que conecte el nodo 1 con el nodo 5 y tiene un peso de 0.75.\n",
      "Eje que conecte el nodo 2 con el nodo 3 y tiene un peso de 0.9.\n",
      "Eje que conecte el nodo 2 con el nodo 4 y tiene un peso de 0.01.\n",
      "Eje que conecte el nodo 4 con el nodo 5 y tiene un peso de 0.3.\n"
     ]
    },
    {
     "data": {
      "text/plain": [
       "[None, None, None, None, None, None]"
      ]
     },
     "execution_count": 49,
     "metadata": {},
     "output_type": "execute_result"
    }
   ],
   "source": [
    "[print(f\"Eje que conecte el nodo {m} con el nodo {n} y tiene un peso de {w['weight']}.\") for m, n, w in G.edges(data=True)]"
   ]
  },
  {
   "cell_type": "markdown",
   "metadata": {},
   "source": [
    "> EJERCICIO: qué ejes tienen un peso mayor que 0.5?"
   ]
  },
  {
   "cell_type": "code",
   "execution_count": 50,
   "metadata": {},
   "outputs": [
    {
     "data": {
      "text/plain": [
       "[(1, 2), (1, 5), (2, 3)]"
      ]
     },
     "execution_count": 50,
     "metadata": {},
     "output_type": "execute_result"
    }
   ],
   "source": [
    "threshold = 0.5\n",
    "edge_list = [\n",
    "    (n, m) for n, m, d in G.edges(data=True) if d[\"weight\"] >= threshold\n",
    "]\n",
    "\n",
    "edge_list"
   ]
  },
  {
   "cell_type": "markdown",
   "metadata": {},
   "source": [
    "Y don un subset de ejes, podemos filtrar el grafo:"
   ]
  },
  {
   "cell_type": "code",
   "execution_count": 51,
   "metadata": {},
   "outputs": [
    {
     "name": "stdout",
     "output_type": "stream",
     "text": [
      "[(1, 2), (1, 5), (2, 3)]\n"
     ]
    },
    {
     "data": {
      "image/png": "[encoded data removed]",
      "text/plain": [
       "<Figure size 640x480 with 1 Axes>"
      ]
     },
     "metadata": {},
     "output_type": "display_data"
    }
   ],
   "source": [
    "G_filtrado = G.edge_subgraph(edge_list)\n",
    "print(G_filtrado.edges)\n",
    "nx.draw(G_filtrado, with_labels=True)\n"
   ]
  },
  {
   "cell_type": "markdown",
   "metadata": {},
   "source": [
    "# Diagnóstico de los grafos"
   ]
  },
  {
   "cell_type": "markdown",
   "metadata": {},
   "source": [
    "Como bien hemos aprendido en [cienciadedatos.net](cienciadedatos.net), en ciencia de datos, lo primero que hay que hacer al tener un dataset es realizar un análisis exploratorio de los datos o EDA por sus siglas en inglés.\n",
    "\n",
    "Pero... ¿Cómo se puede explorar un grafo? Imagina que tenemos un grafo con miles de nodos y decenas de miles de conexiones...\n",
    "\n",
    "Pues bien, para ello introducimos las propiedades de los grafos. Algunas son más importantes que otras, pero entre todas ellas nos darán una primera visión del grafo que estamos analizando.\n",
    "\n",
    "## Propiedades de los grafos \n",
    "\n",
    "Se resumen en tres grupos principales según se relacionen con 1) nodos individuales, 2) conjuntos de nodos o 3) propiedades generales de la red (para algunas de ellas mantendremos los nombres en inglés, ya que es como se las conoce generalmente en el campo de análisis de redes):"
   ]
  },
  {
   "cell_type": "markdown",
   "metadata": {},
   "source": [
    "![](../docs/img/drawio/03_properties.drawio.svg)"
   ]
  },
  {
   "cell_type": "markdown",
   "metadata": {},
   "source": [
    "**1. Propiedades de los nodos.**\n",
    "\n",
    "Mide la importancia de cada nodo según distintos criterios. Estas funciones nos devolverán un vector de la misma longitud que el número de nodos.\n",
    "\n",
    "- Locales: muestran la importancia de un nodo teniendo en cuenta su posición en un contexto cercano, los nodos que tienen cerca.\n",
    "    - Degree: Número de conexiones de un nodo.\n",
    "    - Degree Centrality: Número de conexiones de un nodo normalizado con el número global de conexiones.\n",
    "\n",
    "- Globales: muestran la importancia de un nodo teniendo en cuenta su posición en toda la red.\n",
    "    - Closeness Centrality: Da una idea de \"Cómo de cerca está un nodo del resto de nodos de la red\".\n",
    "    - Betweenness Centrality: Mide cuántas veces un nodo forma parte del camino más cercano entre dos nodos.\n",
    "    - Excentricity: Distancia al nodo más lejano.\n",
    "\n",
    "**2. Propiedades entre conjuntos de nodos.**\n",
    "\n",
    "- Distancia entre dos nodos\n",
    "- Cliqués: conjuntos de nodos con conectividad completa (todos los nodos conectados con todos)\n",
    "\n",
    "**3. Propiedades globales del grafo.**\n",
    "\n",
    "- Densidad del grafo: Número de conexiones / Número posible de conexiones.\n",
    "- Diámetro: Distancia máxima entre dos nodos.\n",
    "- Otras medidas: Transitividad, Reciprocidad."
   ]
  },
  {
   "cell_type": "code",
   "execution_count": 60,
   "metadata": {},
   "outputs": [
    {
     "data": {
      "image/png": "[encoded data removed]",
      "text/plain": [
       "<Figure size 640x480 with 1 Axes>"
      ]
     },
     "metadata": {},
     "output_type": "display_data"
    }
   ],
   "source": [
    "nx.draw(nx.barbell_graph(10, 3), with_labels=True)"
   ]
  },
  {
   "cell_type": "code",
   "execution_count": null,
   "metadata": {},
   "outputs": [],
   "source": []
  },
  {
   "cell_type": "code",
   "execution_count": null,
   "metadata": {},
   "outputs": [],
   "source": []
  },
  {
   "cell_type": "markdown",
   "metadata": {},
   "source": []
  },
  {
   "cell_type": "markdown",
   "metadata": {},
   "source": [
    "## Visualiza tu grafo\n",
    "\n",
    "## Estadísticas de grafos\n",
    "\n",
    "# 01 - Detección de comunidades"
   ]
  },
  {
   "cell_type": "markdown",
   "metadata": {},
   "source": [
    "# 02 - Sistema de recomendación con graph machine learning"
   ]
  },
  {
   "cell_type": "markdown",
   "metadata": {},
   "source": [
    "# 03 - GNNs"
   ]
  },
  {
   "cell_type": "markdown",
   "metadata": {},
   "source": [
    "# 04 - Dynamic GNNs"
   ]
  },
  {
   "cell_type": "markdown",
   "metadata": {},
   "source": []
  },
  {
   "cell_type": "code",
   "execution_count": null,
   "metadata": {},
   "outputs": [],
   "source": []
  },
  {
   "cell_type": "markdown",
   "metadata": {},
   "source": [
    "\n",
    "\n",
    "https://towardsdatascience.com/graph-machine-learning-with-python-pt-1-basics-metrics-and-algorithms-cc40972de113\n",
    "\n",
    "https://towardsdatascience.com/graph-machine-learning-with-python-pt-2-random-graphs-and-diffusion-models-of-cryptopunks-trading-99cd5170b5ea\n",
    "\n",
    "https://towardsdatascience.com/graph-machine-learning-with-python-part-3-unsupervised-learning-aa2854fe0ff2\n",
    "\n",
    "https://ericmjl.github.io/Network-Analysis-Made-Simple/01-introduction/03-viz/"
   ]
  },
  {
   "cell_type": "markdown",
   "metadata": {},
   "source": []
  }
 ],
 "metadata": {
  "kernelspec": {
   "display_name": "Python 3.10.6 ('venv-network-science': venv)",
   "language": "python",
   "name": "python3"
  },
  "language_info": {
   "codemirror_mode": {
    "name": "ipython",
    "version": 3
   },
   "file_extension": ".py",
   "mimetype": "text/x-python",
   "name": "python",
   "nbconvert_exporter": "python",
   "pygments_lexer": "ipython3",
   "version": "3.10.6"
  },
  "toc": {
   "base_numbering": 1,
   "nav_menu": {},
   "number_sections": true,
   "sideBar": true,
   "skip_h1_title": false,
   "title_cell": "Table of Contents",
   "title_sidebar": "Contents",
   "toc_cell": false,
   "toc_position": {},
   "toc_section_display": true,
   "toc_window_display": false
  },
  "vscode": {
   "interpreter": {
    "hash": "e3a0ecf166ba2e8dea99e6fd3f39426d3c5bd4b662b5186304843079012da943"
   }
  }
 },
 "nbformat": 4,
 "nbformat_minor": 2
}
