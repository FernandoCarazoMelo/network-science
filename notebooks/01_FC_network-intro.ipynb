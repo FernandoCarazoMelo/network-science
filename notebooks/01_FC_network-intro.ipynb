{
 "cells": [
  {
   "cell_type": "markdown",
   "metadata": {},
   "source": [
    "# Graph Machine Learning\n",
    "\n",
    "\n"
   ]
  },
  {
   "cell_type": "markdown",
   "metadata": {},
   "source": [
    ">  ¿Qué tienen en común el sistema de recomendación de productos de Amazon, la búsqueda de futuras conexiones de LinkedIn, la optimización de rutas de Google Maps o la predicción de tráfico de Waze?\n",
    "> - ¡Que todos estos problemas puden ser resueltos con análisis de grafos!"
   ]
  },
  {
   "cell_type": "markdown",
   "metadata": {},
   "source": [
    "Los grafos -también llamadas redes, o networks- son uno de los áreas de analítica avanzada con mayor potencial en los últimos años. ¿Por qué? Porque, como iremos viendo en este curso, nos permiten modelar y resolver problemas muy complejos de forma sencilla.\n",
    "\n",
    "# Introducción a los Grafos\n",
    "\n",
    "La definición más sencilla de Grafos es *la red de conexiones entre distintas entidades*. \n",
    "\n",
    "Toda la teoría de grafos o Network Science se basa en el análisis de estos dos elementos: \"entidades\" (a los que llamaremos nodos o nodes) y \"conexiones\" a los que llamaremos ejes o edges). \n",
    "\n",
    "En la vida real nos encontramos con muchísimas situaciones que pueden modelarse con grafos:\n",
    "\n",
    "- La red de amistad entre todos los usuarios de Facebook.\n",
    "- El histórico de compras de distintos clientes de Amazon.\n",
    "- La red de publicaciones científicos de distintos investigadores.\n",
    "- La red de carreteras de España.\n",
    "\n"
   ]
  },
  {
   "cell_type": "markdown",
   "metadata": {},
   "source": [
    "\n",
    "![](../docs/img/04_map_graph.png)\n",
    "Figura 2. Un mapa de carreteras también se puede modelar como un grafo."
   ]
  },
  {
   "cell_type": "markdown",
   "metadata": {},
   "source": [
    "\n",
    "\n",
    "Si lo piensas, en cualquier de estos ejemplo podemos encontrar nodos (ej, usuarios) y ejes (ej, amistad entre usuarios). Te dejo el resto para que lo pienses! ;).\n",
    "\n"
   ]
  },
  {
   "cell_type": "markdown",
   "metadata": {},
   "source": [
    "Éste es, por ejemplo el grafo de internet, ejes son los enlaces entre dos direcciones IP. Pero no te preocupes que el curso será más sencillo\n",
    "\n",
    "![](https://upload.wikimedia.org/wikipedia/commons/d/d2/Internet_map_1024.jpg)\n",
    "Mapa parcial de Internet basado en la información obtenida del sitio opte.org el 15 de enero de 2005. Cada linea dibujada entre dos nodos representa el enlace entre dos direcciones IP. La longitud de las líneas es proporcional al tiempo de espera entre los nodos. La imagen representa 30% de las redes tipo C accesibles al programa de colección de datos de 2005."
   ]
  },
  {
   "cell_type": "markdown",
   "metadata": {},
   "source": [
    "![](../docs/img/02_gif_graph.svg)"
   ]
  },
  {
   "cell_type": "markdown",
   "metadata": {},
   "source": [
    "# Networkx\n",
    "\n",
    "El paquete más utilizado para trabajar con grafos en Python es Networkx. Según su documentación *NetworkX es un paquete de Python para la creación, manipulación y estudio de la estructura, dinámica y funciones de redes complejas*.\n",
    "\n",
    "![](https://networkx.org/_static/networkx_logo.svg)"
   ]
  },
  {
   "cell_type": "markdown",
   "metadata": {},
   "source": [
    "Instala la librería con `pip install networkx` y empezamos a modelar grafos!"
   ]
  },
  {
   "cell_type": "markdown",
   "metadata": {},
   "source": [
    "Hay dos formas de crear grafos:\n",
    "\n",
    "1. De forma manual.\n",
    "2. Desde una archivo o un DataFrame.\n",
    "\n",
    "Lo más frecuente es crearlo desde archivos, pero para que veas como funciona, aquí tienes un ejemplo mínimo."
   ]
  },
  {
   "cell_type": "code",
   "execution_count": 11,
   "metadata": {},
   "outputs": [
    {
     "name": "stdout",
     "output_type": "stream",
     "text": [
      "[1, 2, 'a', 4]\n",
      "[(1, 2), (1, 'a'), (1, 4), ('a', 4)]\n"
     ]
    },
    {
     "data": {
      "image/png": "[encoded data removed]",
      "text/plain": [
       "<Figure size 640x480 with 1 Axes>"
      ]
     },
     "metadata": {},
     "output_type": "display_data"
    }
   ],
   "source": [
    "import networkx as nx\n",
    "\n",
    "# Creamos una instancia tipo \"Grafo\".\n",
    "G = nx.Graph()\n",
    "\n",
    "# Añadimos conexiones\n",
    "G.add_edges_from([(1, 2), (1, \"a\"), (\"a\",4), (4,1)])\n",
    "\n",
    "# Imprimimos por pantalla los nodos y ejes.\n",
    "print(G.nodes)\n",
    "print(G.edges)\n",
    "\n",
    "# Dibujamos la red.\n",
    "nx.draw(G, with_labels=True)"
   ]
  },
  {
   "cell_type": "markdown",
   "metadata": {},
   "source": [
    "> Nota. El nombre de los nodos puede ser tanto numérico como caracteres (en el ejemplo aparecen combinados):"
   ]
  },
  {
   "cell_type": "code",
   "execution_count": 12,
   "metadata": {},
   "outputs": [
    {
     "data": {
      "text/plain": [
       "NodeDataView({1: {}, 2: {}, 'a': {}, 4: {}})"
      ]
     },
     "execution_count": 12,
     "metadata": {},
     "output_type": "execute_result"
    }
   ],
   "source": [
    "G.nodes(data=True)"
   ]
  },
  {
   "cell_type": "markdown",
   "metadata": {},
   "source": []
  },
  {
   "cell_type": "markdown",
   "metadata": {},
   "source": []
  },
  {
   "cell_type": "markdown",
   "metadata": {},
   "source": [
    "# Tipos de grafos y matrices de adyacencia"
   ]
  },
  {
   "cell_type": "markdown",
   "metadata": {},
   "source": [
    "## Matriz de adjacencia"
   ]
  },
  {
   "cell_type": "markdown",
   "metadata": {},
   "source": [
    "![](../docs/img/05_adjacency_matrix.jpg)"
   ]
  },
  {
   "cell_type": "markdown",
   "metadata": {},
   "source": [
    "![](../docs/img/01_tipos_de_grafos.jpg)"
   ]
  },
  {
   "cell_type": "markdown",
   "metadata": {},
   "source": []
  },
  {
   "cell_type": "markdown",
   "metadata": {},
   "source": []
  },
  {
   "cell_type": "markdown",
   "metadata": {},
   "source": []
  },
  {
   "cell_type": "markdown",
   "metadata": {},
   "source": []
  },
  {
   "cell_type": "code",
   "execution_count": null,
   "metadata": {},
   "outputs": [],
   "source": []
  },
  {
   "cell_type": "code",
   "execution_count": null,
   "metadata": {},
   "outputs": [],
   "source": []
  },
  {
   "cell_type": "code",
   "execution_count": null,
   "metadata": {},
   "outputs": [],
   "source": []
  },
  {
   "cell_type": "markdown",
   "metadata": {},
   "source": []
  },
  {
   "cell_type": "markdown",
   "metadata": {},
   "source": [
    "\n",
    "# Introducción a grafos\n",
    "\n",
    "## Tipos de grafos\n",
    "\n",
    "Presentación de networkx\n",
    "\n",
    "## Visualiza tu grafo\n",
    "\n",
    "## Estadísticas de grafos\n",
    "\n",
    "# Detección de comunidades"
   ]
  },
  {
   "cell_type": "markdown",
   "metadata": {},
   "source": [
    "# 02 - Sistema de recomendación con graph machine learning"
   ]
  },
  {
   "cell_type": "markdown",
   "metadata": {},
   "source": [
    "# 03 - GNNs"
   ]
  },
  {
   "cell_type": "markdown",
   "metadata": {},
   "source": [
    "# 04 - Dynamic GNNs"
   ]
  },
  {
   "cell_type": "markdown",
   "metadata": {},
   "source": []
  },
  {
   "cell_type": "code",
   "execution_count": null,
   "metadata": {},
   "outputs": [],
   "source": []
  },
  {
   "cell_type": "markdown",
   "metadata": {},
   "source": [
    "\n",
    "\n",
    "https://towardsdatascience.com/graph-machine-learning-with-python-pt-1-basics-metrics-and-algorithms-cc40972de113\n",
    "\n",
    "https://towardsdatascience.com/graph-machine-learning-with-python-pt-2-random-graphs-and-diffusion-models-of-cryptopunks-trading-99cd5170b5ea\n",
    "\n",
    "https://towardsdatascience.com/graph-machine-learning-with-python-part-3-unsupervised-learning-aa2854fe0ff2\n",
    "\n"
   ]
  },
  {
   "cell_type": "markdown",
   "metadata": {},
   "source": []
  }
 ],
 "metadata": {
  "kernelspec": {
   "display_name": "Python 3 (ipykernel)",
   "language": "python",
   "name": "python3"
  },
  "language_info": {
   "codemirror_mode": {
    "name": "ipython",
    "version": 3
   },
   "file_extension": ".py",
   "mimetype": "text/x-python",
   "name": "python",
   "nbconvert_exporter": "python",
   "pygments_lexer": "ipython3",
   "version": "3.9.7"
  },
  "toc": {
   "base_numbering": 1,
   "nav_menu": {},
   "number_sections": true,
   "sideBar": true,
   "skip_h1_title": false,
   "title_cell": "Table of Contents",
   "title_sidebar": "Contents",
   "toc_cell": false,
   "toc_position": {},
   "toc_section_display": true,
   "toc_window_display": false
  },
  "vscode": {
   "interpreter": {
    "hash": "e3a0ecf166ba2e8dea99e6fd3f39426d3c5bd4b662b5186304843079012da943"
   }
  }
 },
 "nbformat": 4,
 "nbformat_minor": 2
}
